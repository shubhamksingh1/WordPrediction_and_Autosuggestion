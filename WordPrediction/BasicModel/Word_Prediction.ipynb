{
  "nbformat": 4,
  "nbformat_minor": 0,
  "metadata": {
    "colab": {
      "name": "Word_Prediction.ipynb",
      "provenance": [],
      "collapsed_sections": [],
      "toc_visible": true,
      "authorship_tag": "ABX9TyOPc6OMWuGViSJ7uEcM5WoL",
      "include_colab_link": true
    },
    "kernelspec": {
      "name": "python3",
      "display_name": "Python 3"
    },
    "accelerator": "GPU"
  },
  "cells": [
    {
      "cell_type": "markdown",
      "metadata": {
        "id": "view-in-github",
        "colab_type": "text"
      },
      "source": [
        "<a href=\"https://colab.research.google.com/github/shubhamksingh1/WordPrediction_and_Autosuggestion/blob/main/WordPrediction/BasicModel/Word_Prediction.ipynb\" target=\"_parent\"><img src=\"https://colab.research.google.com/assets/colab-badge.svg\" alt=\"Open In Colab\"/></a>"
      ]
    },
    {
      "cell_type": "code",
      "metadata": {
        "id": "KVs8rbjhm6-E"
      },
      "source": [
        "### Mount Drive"
      ],
      "execution_count": null,
      "outputs": []
    },
    {
      "cell_type": "code",
      "metadata": {
        "id": "0ej6kK-ZpJaC",
        "colab": {
          "base_uri": "https://localhost:8080/",
          "height": 122
        },
        "outputId": "fc1e807a-cacf-4021-cbc1-745cf2954c38"
      },
      "source": [
        "from google.colab import drive\n",
        "drive.mount('/content/drive')"
      ],
      "execution_count": null,
      "outputs": [
        {
          "output_type": "stream",
          "text": [
            "Go to this URL in a browser: https://accounts.google.com/o/oauth2/auth?client_id=947318989803-6bn6qk8qdgf4n4g3pfee6491hc0brc4i.apps.googleusercontent.com&redirect_uri=urn%3aietf%3awg%3aoauth%3a2.0%3aoob&response_type=code&scope=email%20https%3a%2f%2fwww.googleapis.com%2fauth%2fdocs.test%20https%3a%2f%2fwww.googleapis.com%2fauth%2fdrive%20https%3a%2f%2fwww.googleapis.com%2fauth%2fdrive.photos.readonly%20https%3a%2f%2fwww.googleapis.com%2fauth%2fpeopleapi.readonly\n",
            "\n",
            "Enter your authorization code:\n",
            "··········\n",
            "Mounted at /content/drive\n"
          ],
          "name": "stdout"
        }
      ]
    },
    {
      "cell_type": "code",
      "metadata": {
        "id": "K1oesRJKpiKH"
      },
      "source": [
        "%tensorflow_version 1.x"
      ],
      "execution_count": null,
      "outputs": []
    },
    {
      "cell_type": "code",
      "metadata": {
        "id": "JHftuSN-peKF",
        "colab": {
          "base_uri": "https://localhost:8080/",
          "height": 34
        },
        "outputId": "18c2647e-8fa2-430f-edce-625fb588bdc7"
      },
      "source": [
        "from keras.preprocessing.sequence import pad_sequences\n",
        "from keras.layers import Embedding, LSTM, Dense, Dropout\n",
        "from keras.preprocessing.text import Tokenizer\n",
        "from keras.callbacks import EarlyStopping\n",
        "from keras.models import Sequential\n",
        "import keras.utils as ku \n",
        "import numpy as np "
      ],
      "execution_count": null,
      "outputs": [
        {
          "output_type": "stream",
          "text": [
            "Using TensorFlow backend.\n"
          ],
          "name": "stderr"
        }
      ]
    },
    {
      "cell_type": "code",
      "metadata": {
        "id": "6MFKZQVDquTS"
      },
      "source": [
        "import warnings\n",
        "warnings.filterwarnings('ignore')"
      ],
      "execution_count": null,
      "outputs": []
    },
    {
      "cell_type": "code",
      "metadata": {
        "id": "0WsAjrrupmw-"
      },
      "source": [
        "tokenizer = Tokenizer()"
      ],
      "execution_count": null,
      "outputs": []
    },
    {
      "cell_type": "code",
      "metadata": {
        "id": "X4rAdJKPpwln"
      },
      "source": [
        "def dataset_preparation(data):\n",
        "\n",
        "\t# basic cleanup\n",
        "\tcorpus = data.lower().split(\"\\n\")\n",
        "\n",
        "\t# tokenization\t\n",
        "\ttokenizer.fit_on_texts(corpus)\n",
        "\ttotal_words = len(tokenizer.word_index) + 1\n",
        "\n",
        "\t# create input sequences using list of tokens\n",
        "\tinput_sequences = []\n",
        "\tfor line in corpus:\n",
        "\t\ttoken_list = tokenizer.texts_to_sequences([line])[0]\n",
        "\t\tfor i in range(1, len(token_list)):\n",
        "\t\t\tn_gram_sequence = token_list[:i+1]\n",
        "\t\t\tinput_sequences.append(n_gram_sequence)\n",
        "\n",
        "\t# pad sequences \n",
        "\tmax_sequence_len = max([len(x) for x in input_sequences])\n",
        "\tinput_sequences = np.array(pad_sequences(input_sequences, maxlen=max_sequence_len, padding='pre'))\n",
        "\n",
        "\t# create predictors and label\n",
        "\tpredictors, label = input_sequences[:,:-1],input_sequences[:,-1]\n",
        "\tlabel = ku.to_categorical(label, num_classes=total_words)\n",
        "\n",
        "\treturn predictors, label, max_sequence_len, total_words\n"
      ],
      "execution_count": null,
      "outputs": []
    },
    {
      "cell_type": "code",
      "metadata": {
        "id": "JEbdXzi3pzw2"
      },
      "source": [
        "def create_model(predictors, label, max_sequence_len, total_words):\n",
        "\t\n",
        "\tmodel = Sequential()\n",
        "\tmodel.add(Embedding(total_words, 10, input_length=max_sequence_len-1))\n",
        "\tmodel.add(LSTM(150, return_sequences = True))\n",
        "\t# model.add(Dropout(0.2))\n",
        "\tmodel.add(LSTM(100))\n",
        "\tmodel.add(Dense(total_words, activation='softmax'))\n",
        "\n",
        "\tmodel.compile(loss='categorical_crossentropy', optimizer='adam', metrics=['accuracy'])\n",
        "\tearlystop = EarlyStopping(monitor='val_loss', min_delta=0, patience=5, verbose=0, mode='auto')\n",
        "\tmodel.fit(predictors, label, epochs=100, verbose=1, callbacks=[earlystop])\n",
        "\tprint (model.summary())\n",
        "\treturn model "
      ],
      "execution_count": null,
      "outputs": []
    },
    {
      "cell_type": "code",
      "metadata": {
        "id": "bkodIKrPp6D6"
      },
      "source": [
        "def generate_text(seed_text, next_words, max_sequence_len):\n",
        "\tfor _ in range(next_words):\n",
        "\t\ttoken_list = tokenizer.texts_to_sequences([seed_text])[0]\n",
        "\t\ttoken_list = pad_sequences([token_list], maxlen=max_sequence_len-1, padding='pre')\n",
        "\t\tpredicted = model.predict_classes(token_list, verbose=0)\n",
        "\t\t\n",
        "\t\toutput_word = \"\"\n",
        "\t\tfor word, index in tokenizer.word_index.items():\n",
        "\t\t\tif index == predicted:\n",
        "\t\t\t\toutput_word = word\n",
        "\t\t\t\tbreak\n",
        "\t\tseed_text += \" \" + output_word\n",
        "\treturn seed_text"
      ],
      "execution_count": null,
      "outputs": []
    },
    {
      "cell_type": "code",
      "metadata": {
        "id": "fvHeZJvsp9Vh"
      },
      "source": [
        "data = open('/content/drive/My Drive/WordPrediction/BajajHealthInsurance.txt').read()"
      ],
      "execution_count": null,
      "outputs": []
    },
    {
      "cell_type": "code",
      "metadata": {
        "id": "SpNSEteBqKOL"
      },
      "source": [
        "predictors, label, max_sequence_len, total_words = dataset_preparation(data)"
      ],
      "execution_count": null,
      "outputs": []
    },
    {
      "cell_type": "code",
      "metadata": {
        "id": "qfd7fz9HqQTo",
        "colab": {
          "base_uri": "https://localhost:8080/",
          "height": 136
        },
        "outputId": "e7a61cad-f2ad-4072-930b-37147afa6987"
      },
      "source": [
        "predictors"
      ],
      "execution_count": null,
      "outputs": [
        {
          "output_type": "execute_result",
          "data": {
            "text/plain": [
              "array([[  0,   0,   0, ...,   0,   0,   3],\n",
              "       [  0,   0,   0, ...,   0,   3,   2],\n",
              "       [  0,   0,   0, ...,   3,   2,  48],\n",
              "       ...,\n",
              "       [  0,   0,   0, ..., 499,   1, 500],\n",
              "       [  0,   0,   0, ...,   1, 500,   5],\n",
              "       [  0,   0,   0, ..., 500,   5,   1]], dtype=int32)"
            ]
          },
          "metadata": {
            "tags": []
          },
          "execution_count": 10
        }
      ]
    },
    {
      "cell_type": "code",
      "metadata": {
        "id": "9QHEj-vbqSxR",
        "colab": {
          "base_uri": "https://localhost:8080/",
          "height": 136
        },
        "outputId": "38d03f5f-aa0d-4af2-9fa5-b048811159e4"
      },
      "source": [
        "label"
      ],
      "execution_count": null,
      "outputs": [
        {
          "output_type": "execute_result",
          "data": {
            "text/plain": [
              "array([[0., 0., 1., ..., 0., 0., 0.],\n",
              "       [0., 0., 0., ..., 0., 0., 0.],\n",
              "       [0., 0., 0., ..., 0., 0., 0.],\n",
              "       ...,\n",
              "       [0., 0., 0., ..., 0., 0., 0.],\n",
              "       [0., 1., 0., ..., 0., 0., 0.],\n",
              "       [0., 0., 0., ..., 0., 0., 0.]], dtype=float32)"
            ]
          },
          "metadata": {
            "tags": []
          },
          "execution_count": 11
        }
      ]
    },
    {
      "cell_type": "code",
      "metadata": {
        "id": "MP81L_yWqVQg",
        "colab": {
          "base_uri": "https://localhost:8080/",
          "height": 34
        },
        "outputId": "23a691d4-2f93-4a53-9378-d6f125af07a5"
      },
      "source": [
        "max_sequence_len"
      ],
      "execution_count": null,
      "outputs": [
        {
          "output_type": "execute_result",
          "data": {
            "text/plain": [
              "44"
            ]
          },
          "metadata": {
            "tags": []
          },
          "execution_count": 12
        }
      ]
    },
    {
      "cell_type": "code",
      "metadata": {
        "id": "0iQ0YNRoqZKT",
        "colab": {
          "base_uri": "https://localhost:8080/",
          "height": 34
        },
        "outputId": "70aebada-7d5d-4167-8dea-44bf2134140d"
      },
      "source": [
        "total_words"
      ],
      "execution_count": null,
      "outputs": [
        {
          "output_type": "execute_result",
          "data": {
            "text/plain": [
              "501"
            ]
          },
          "metadata": {
            "tags": []
          },
          "execution_count": 13
        }
      ]
    },
    {
      "cell_type": "code",
      "metadata": {
        "id": "y8ozb_s1qiPi",
        "colab": {
          "base_uri": "https://localhost:8080/",
          "height": 1000
        },
        "outputId": "2817293f-3341-4357-ac3f-5de4b9f1fc78"
      },
      "source": [
        "model = create_model(predictors, label, max_sequence_len, total_words)"
      ],
      "execution_count": null,
      "outputs": [
        {
          "output_type": "stream",
          "text": [
            "Epoch 1/100\n",
            "1381/1381 [==============================] - 6s 5ms/step - loss: 5.9253 - acc: 0.0355\n",
            "Epoch 2/100\n",
            "1381/1381 [==============================] - 5s 4ms/step - loss: 5.5070 - acc: 0.0478\n",
            "Epoch 3/100\n",
            "1381/1381 [==============================] - 5s 4ms/step - loss: 5.4521 - acc: 0.0420\n",
            "Epoch 4/100\n",
            "1381/1381 [==============================] - 5s 4ms/step - loss: 5.4378 - acc: 0.0471\n",
            "Epoch 5/100\n",
            "1381/1381 [==============================] - 5s 4ms/step - loss: 5.4279 - acc: 0.0471\n",
            "Epoch 6/100\n",
            "1381/1381 [==============================] - 5s 4ms/step - loss: 5.4244 - acc: 0.0471\n",
            "Epoch 7/100\n",
            "1381/1381 [==============================] - 5s 4ms/step - loss: 5.4197 - acc: 0.0471\n",
            "Epoch 8/100\n",
            "1381/1381 [==============================] - 5s 4ms/step - loss: 5.4132 - acc: 0.0471\n",
            "Epoch 9/100\n",
            "1381/1381 [==============================] - 5s 4ms/step - loss: 5.4056 - acc: 0.0471\n",
            "Epoch 10/100\n",
            "1381/1381 [==============================] - 5s 4ms/step - loss: 5.3792 - acc: 0.0514\n",
            "Epoch 11/100\n",
            "1381/1381 [==============================] - 5s 4ms/step - loss: 5.3231 - acc: 0.0521\n",
            "Epoch 12/100\n",
            "1381/1381 [==============================] - 5s 4ms/step - loss: 5.2379 - acc: 0.0673\n",
            "Epoch 13/100\n",
            "1381/1381 [==============================] - 5s 4ms/step - loss: 5.1636 - acc: 0.0659\n",
            "Epoch 14/100\n",
            "1381/1381 [==============================] - 5s 4ms/step - loss: 5.1047 - acc: 0.0681\n",
            "Epoch 15/100\n",
            "1381/1381 [==============================] - 6s 4ms/step - loss: 5.0392 - acc: 0.0710\n",
            "Epoch 16/100\n",
            "1381/1381 [==============================] - 5s 4ms/step - loss: 4.9739 - acc: 0.0746\n",
            "Epoch 17/100\n",
            "1381/1381 [==============================] - 5s 4ms/step - loss: 4.9127 - acc: 0.0883\n",
            "Epoch 18/100\n",
            "1381/1381 [==============================] - 5s 4ms/step - loss: 4.8451 - acc: 0.0941\n",
            "Epoch 19/100\n",
            "1381/1381 [==============================] - 5s 4ms/step - loss: 4.8019 - acc: 0.0862\n",
            "Epoch 20/100\n",
            "1381/1381 [==============================] - 5s 4ms/step - loss: 4.7404 - acc: 0.0970\n",
            "Epoch 21/100\n",
            "1381/1381 [==============================] - 6s 4ms/step - loss: 4.6879 - acc: 0.0956\n",
            "Epoch 22/100\n",
            "1381/1381 [==============================] - 5s 4ms/step - loss: 4.6259 - acc: 0.1079\n",
            "Epoch 23/100\n",
            "1381/1381 [==============================] - 5s 4ms/step - loss: 4.5695 - acc: 0.1021\n",
            "Epoch 24/100\n",
            "1381/1381 [==============================] - 5s 4ms/step - loss: 4.5175 - acc: 0.1079\n",
            "Epoch 25/100\n",
            "1381/1381 [==============================] - 6s 4ms/step - loss: 4.4687 - acc: 0.1101\n",
            "Epoch 26/100\n",
            "1381/1381 [==============================] - 5s 4ms/step - loss: 4.4198 - acc: 0.1130\n",
            "Epoch 27/100\n",
            "1381/1381 [==============================] - 5s 4ms/step - loss: 4.3628 - acc: 0.1202\n",
            "Epoch 28/100\n",
            "1381/1381 [==============================] - 5s 4ms/step - loss: 4.3238 - acc: 0.1188\n",
            "Epoch 29/100\n",
            "1381/1381 [==============================] - 5s 4ms/step - loss: 4.2818 - acc: 0.1231\n",
            "Epoch 30/100\n",
            "1381/1381 [==============================] - 5s 4ms/step - loss: 4.2265 - acc: 0.1202\n",
            "Epoch 31/100\n",
            "1381/1381 [==============================] - 5s 4ms/step - loss: 4.1937 - acc: 0.1231\n",
            "Epoch 32/100\n",
            "1381/1381 [==============================] - 5s 4ms/step - loss: 4.1279 - acc: 0.1318\n",
            "Epoch 33/100\n",
            "1381/1381 [==============================] - 5s 4ms/step - loss: 4.0807 - acc: 0.1311\n",
            "Epoch 34/100\n",
            "1381/1381 [==============================] - 5s 4ms/step - loss: 4.0259 - acc: 0.1354\n",
            "Epoch 35/100\n",
            "1381/1381 [==============================] - 5s 4ms/step - loss: 3.9727 - acc: 0.1470\n",
            "Epoch 36/100\n",
            "1381/1381 [==============================] - 5s 4ms/step - loss: 3.9206 - acc: 0.1448\n",
            "Epoch 37/100\n",
            "1381/1381 [==============================] - 5s 4ms/step - loss: 3.8814 - acc: 0.1470\n",
            "Epoch 38/100\n",
            "1381/1381 [==============================] - 5s 4ms/step - loss: 3.8304 - acc: 0.1528\n",
            "Epoch 39/100\n",
            "1381/1381 [==============================] - 5s 4ms/step - loss: 3.7773 - acc: 0.1629\n",
            "Epoch 40/100\n",
            "1381/1381 [==============================] - 5s 4ms/step - loss: 3.7351 - acc: 0.1586\n",
            "Epoch 41/100\n",
            "1381/1381 [==============================] - 5s 4ms/step - loss: 3.6909 - acc: 0.1694\n",
            "Epoch 42/100\n",
            "1381/1381 [==============================] - 5s 4ms/step - loss: 3.6374 - acc: 0.1774\n",
            "Epoch 43/100\n",
            "1381/1381 [==============================] - 5s 4ms/step - loss: 3.5923 - acc: 0.1825\n",
            "Epoch 44/100\n",
            "1381/1381 [==============================] - 5s 4ms/step - loss: 3.5422 - acc: 0.1933\n",
            "Epoch 45/100\n",
            "1381/1381 [==============================] - 5s 4ms/step - loss: 3.4864 - acc: 0.2078\n",
            "Epoch 46/100\n",
            "1381/1381 [==============================] - 5s 4ms/step - loss: 3.4530 - acc: 0.2100\n",
            "Epoch 47/100\n",
            "1381/1381 [==============================] - 5s 4ms/step - loss: 3.4086 - acc: 0.2165\n",
            "Epoch 48/100\n",
            "1381/1381 [==============================] - 5s 4ms/step - loss: 3.3545 - acc: 0.2172\n",
            "Epoch 49/100\n",
            "1381/1381 [==============================] - 6s 4ms/step - loss: 3.3147 - acc: 0.2230\n",
            "Epoch 50/100\n",
            "1381/1381 [==============================] - 5s 4ms/step - loss: 3.2596 - acc: 0.2455\n",
            "Epoch 51/100\n",
            "1381/1381 [==============================] - 5s 4ms/step - loss: 3.2160 - acc: 0.2390\n",
            "Epoch 52/100\n",
            "1381/1381 [==============================] - 5s 4ms/step - loss: 3.1697 - acc: 0.2476\n",
            "Epoch 53/100\n",
            "1381/1381 [==============================] - 5s 4ms/step - loss: 3.1157 - acc: 0.2657\n",
            "Epoch 54/100\n",
            "1381/1381 [==============================] - 5s 4ms/step - loss: 3.0703 - acc: 0.2715\n",
            "Epoch 55/100\n",
            "1381/1381 [==============================] - 5s 4ms/step - loss: 3.0262 - acc: 0.2911\n",
            "Epoch 56/100\n",
            "1381/1381 [==============================] - 5s 4ms/step - loss: 2.9989 - acc: 0.3020\n",
            "Epoch 57/100\n",
            "1381/1381 [==============================] - 5s 4ms/step - loss: 2.9297 - acc: 0.3143\n",
            "Epoch 58/100\n",
            "1381/1381 [==============================] - 5s 4ms/step - loss: 2.8896 - acc: 0.3244\n",
            "Epoch 59/100\n",
            "1381/1381 [==============================] - 5s 4ms/step - loss: 2.8417 - acc: 0.3367\n",
            "Epoch 60/100\n",
            "1381/1381 [==============================] - 5s 4ms/step - loss: 2.7986 - acc: 0.3497\n",
            "Epoch 61/100\n",
            "1381/1381 [==============================] - 5s 4ms/step - loss: 2.7534 - acc: 0.3700\n",
            "Epoch 62/100\n",
            "1381/1381 [==============================] - 5s 4ms/step - loss: 2.7092 - acc: 0.3831\n",
            "Epoch 63/100\n",
            "1381/1381 [==============================] - 5s 4ms/step - loss: 2.6660 - acc: 0.3990\n",
            "Epoch 64/100\n",
            "1381/1381 [==============================] - 5s 4ms/step - loss: 2.6230 - acc: 0.3968\n",
            "Epoch 65/100\n",
            "1381/1381 [==============================] - 5s 4ms/step - loss: 2.5848 - acc: 0.4178\n",
            "Epoch 66/100\n",
            "1381/1381 [==============================] - 5s 4ms/step - loss: 2.5433 - acc: 0.4251\n",
            "Epoch 67/100\n",
            "1381/1381 [==============================] - 5s 4ms/step - loss: 2.4994 - acc: 0.4403\n",
            "Epoch 68/100\n",
            "1381/1381 [==============================] - 5s 4ms/step - loss: 2.4596 - acc: 0.4366\n",
            "Epoch 69/100\n",
            "1381/1381 [==============================] - 5s 4ms/step - loss: 2.4212 - acc: 0.4576\n",
            "Epoch 70/100\n",
            "1381/1381 [==============================] - 5s 4ms/step - loss: 2.3804 - acc: 0.4808\n",
            "Epoch 71/100\n",
            "1381/1381 [==============================] - 6s 4ms/step - loss: 2.3402 - acc: 0.4844\n",
            "Epoch 72/100\n",
            "1381/1381 [==============================] - 5s 4ms/step - loss: 2.3033 - acc: 0.4895\n",
            "Epoch 73/100\n",
            "1381/1381 [==============================] - 5s 4ms/step - loss: 2.2671 - acc: 0.5011\n",
            "Epoch 74/100\n",
            "1381/1381 [==============================] - 5s 4ms/step - loss: 2.2289 - acc: 0.5040\n",
            "Epoch 75/100\n",
            "1381/1381 [==============================] - 5s 4ms/step - loss: 2.1845 - acc: 0.5192\n",
            "Epoch 76/100\n",
            "1381/1381 [==============================] - 5s 4ms/step - loss: 2.1663 - acc: 0.5199\n",
            "Epoch 77/100\n",
            "1381/1381 [==============================] - 5s 4ms/step - loss: 2.1153 - acc: 0.5380\n",
            "Epoch 78/100\n",
            "1381/1381 [==============================] - 5s 4ms/step - loss: 2.0868 - acc: 0.5409\n",
            "Epoch 79/100\n",
            "1381/1381 [==============================] - 5s 4ms/step - loss: 2.0509 - acc: 0.5626\n",
            "Epoch 80/100\n",
            "1381/1381 [==============================] - 5s 4ms/step - loss: 2.0154 - acc: 0.5590\n",
            "Epoch 81/100\n",
            "1381/1381 [==============================] - 5s 4ms/step - loss: 1.9907 - acc: 0.5713\n",
            "Epoch 82/100\n",
            "1381/1381 [==============================] - 5s 4ms/step - loss: 1.9515 - acc: 0.5829\n",
            "Epoch 83/100\n",
            "1381/1381 [==============================] - 5s 4ms/step - loss: 1.9186 - acc: 0.5778\n",
            "Epoch 84/100\n",
            "1381/1381 [==============================] - 5s 4ms/step - loss: 1.8730 - acc: 0.5916\n",
            "Epoch 85/100\n",
            "1381/1381 [==============================] - 5s 4ms/step - loss: 1.8428 - acc: 0.6090\n",
            "Epoch 86/100\n",
            "1381/1381 [==============================] - 5s 4ms/step - loss: 1.8162 - acc: 0.6126\n",
            "Epoch 87/100\n",
            "1381/1381 [==============================] - 5s 4ms/step - loss: 1.7852 - acc: 0.6264\n",
            "Epoch 88/100\n",
            "1381/1381 [==============================] - 5s 4ms/step - loss: 1.7551 - acc: 0.6285\n",
            "Epoch 89/100\n",
            "1381/1381 [==============================] - 5s 4ms/step - loss: 1.7225 - acc: 0.6379\n",
            "Epoch 90/100\n",
            "1381/1381 [==============================] - 5s 4ms/step - loss: 1.7072 - acc: 0.6293\n",
            "Epoch 91/100\n",
            "1381/1381 [==============================] - 5s 4ms/step - loss: 1.6534 - acc: 0.6589\n",
            "Epoch 92/100\n",
            "1381/1381 [==============================] - 5s 4ms/step - loss: 1.6264 - acc: 0.6618\n",
            "Epoch 93/100\n",
            "1381/1381 [==============================] - 5s 4ms/step - loss: 1.5962 - acc: 0.6756\n",
            "Epoch 94/100\n",
            "1381/1381 [==============================] - 5s 4ms/step - loss: 1.5704 - acc: 0.6821\n",
            "Epoch 95/100\n",
            "1381/1381 [==============================] - 5s 4ms/step - loss: 1.5477 - acc: 0.6865\n",
            "Epoch 96/100\n",
            "1381/1381 [==============================] - 5s 4ms/step - loss: 1.5176 - acc: 0.6923\n",
            "Epoch 97/100\n",
            "1381/1381 [==============================] - 5s 4ms/step - loss: 1.4927 - acc: 0.7046\n",
            "Epoch 98/100\n",
            "1381/1381 [==============================] - 5s 4ms/step - loss: 1.4724 - acc: 0.7017\n",
            "Epoch 99/100\n",
            "1381/1381 [==============================] - 5s 4ms/step - loss: 1.4479 - acc: 0.7096\n",
            "Epoch 100/100\n",
            "1381/1381 [==============================] - 5s 4ms/step - loss: 1.4184 - acc: 0.7176\n",
            "Model: \"sequential_2\"\n",
            "_________________________________________________________________\n",
            "Layer (type)                 Output Shape              Param #   \n",
            "=================================================================\n",
            "embedding_2 (Embedding)      (None, 43, 10)            5010      \n",
            "_________________________________________________________________\n",
            "lstm_3 (LSTM)                (None, 43, 150)           96600     \n",
            "_________________________________________________________________\n",
            "lstm_4 (LSTM)                (None, 100)               100400    \n",
            "_________________________________________________________________\n",
            "dense_2 (Dense)              (None, 501)               50601     \n",
            "=================================================================\n",
            "Total params: 252,611\n",
            "Trainable params: 252,611\n",
            "Non-trainable params: 0\n",
            "_________________________________________________________________\n",
            "None\n"
          ],
          "name": "stdout"
        }
      ]
    },
    {
      "cell_type": "code",
      "metadata": {
        "id": "aKtQ6es5pMgo",
        "colab": {
          "base_uri": "https://localhost:8080/",
          "height": 34
        },
        "outputId": "27c3014c-7b39-4015-bdc0-040a481355c7"
      },
      "source": [
        "print (generate_text(\"accident\", 2, max_sequence_len))"
      ],
      "execution_count": null,
      "outputs": [
        {
          "output_type": "stream",
          "text": [
            "accident health insurance\n"
          ],
          "name": "stdout"
        }
      ]
    },
    {
      "cell_type": "code",
      "metadata": {
        "id": "nQ8SqKKCuhrw",
        "colab": {
          "base_uri": "https://localhost:8080/",
          "height": 462
        },
        "outputId": "607353c8-21fd-46f8-f703-9d06b18d6290"
      },
      "source": [
        "from keras.models import load_model\n",
        "\n",
        "model.save('/content/drive/My Drive/WordPrediction/modelV1.h5')  # creates a HDF5 file 'my_model.h5'\n",
        "del model  # deletes the existing model\n",
        "\n",
        "# returns a compiled model\n",
        "# identical to the previous one\n"
      ],
      "execution_count": null,
      "outputs": [
        {
          "output_type": "error",
          "ename": "OSError",
          "evalue": "ignored",
          "traceback": [
            "\u001b[0;31m---------------------------------------------------------------------------\u001b[0m",
            "\u001b[0;31mOSError\u001b[0m                                   Traceback (most recent call last)",
            "\u001b[0;32m<ipython-input-18-a58bc5fe0b5a>\u001b[0m in \u001b[0;36m<module>\u001b[0;34m()\u001b[0m\n\u001b[1;32m      6\u001b[0m \u001b[0;31m# returns a compiled model\u001b[0m\u001b[0;34m\u001b[0m\u001b[0;34m\u001b[0m\u001b[0;34m\u001b[0m\u001b[0m\n\u001b[1;32m      7\u001b[0m \u001b[0;31m# identical to the previous one\u001b[0m\u001b[0;34m\u001b[0m\u001b[0;34m\u001b[0m\u001b[0;34m\u001b[0m\u001b[0m\n\u001b[0;32m----> 8\u001b[0;31m \u001b[0mmodel\u001b[0m \u001b[0;34m=\u001b[0m \u001b[0mload_model\u001b[0m\u001b[0;34m(\u001b[0m\u001b[0;34m'my_/content/drive/My Drive/WordPrediction/modelV1.h5'\u001b[0m\u001b[0;34m)\u001b[0m\u001b[0;34m\u001b[0m\u001b[0;34m\u001b[0m\u001b[0m\n\u001b[0m",
            "\u001b[0;32m/usr/local/lib/python3.6/dist-packages/keras/engine/saving.py\u001b[0m in \u001b[0;36mload_wrapper\u001b[0;34m(*args, **kwargs)\u001b[0m\n\u001b[1;32m    456\u001b[0m                 \u001b[0mos\u001b[0m\u001b[0;34m.\u001b[0m\u001b[0mremove\u001b[0m\u001b[0;34m(\u001b[0m\u001b[0mtmp_filepath\u001b[0m\u001b[0;34m)\u001b[0m\u001b[0;34m\u001b[0m\u001b[0;34m\u001b[0m\u001b[0m\n\u001b[1;32m    457\u001b[0m             \u001b[0;32mreturn\u001b[0m \u001b[0mres\u001b[0m\u001b[0;34m\u001b[0m\u001b[0;34m\u001b[0m\u001b[0m\n\u001b[0;32m--> 458\u001b[0;31m         \u001b[0;32mreturn\u001b[0m \u001b[0mload_function\u001b[0m\u001b[0;34m(\u001b[0m\u001b[0;34m*\u001b[0m\u001b[0margs\u001b[0m\u001b[0;34m,\u001b[0m \u001b[0;34m**\u001b[0m\u001b[0mkwargs\u001b[0m\u001b[0;34m)\u001b[0m\u001b[0;34m\u001b[0m\u001b[0;34m\u001b[0m\u001b[0m\n\u001b[0m\u001b[1;32m    459\u001b[0m \u001b[0;34m\u001b[0m\u001b[0m\n\u001b[1;32m    460\u001b[0m     \u001b[0;32mreturn\u001b[0m \u001b[0mload_wrapper\u001b[0m\u001b[0;34m\u001b[0m\u001b[0;34m\u001b[0m\u001b[0m\n",
            "\u001b[0;32m/usr/local/lib/python3.6/dist-packages/keras/engine/saving.py\u001b[0m in \u001b[0;36mload_model\u001b[0;34m(filepath, custom_objects, compile)\u001b[0m\n\u001b[1;32m    547\u001b[0m \u001b[0;34m\u001b[0m\u001b[0m\n\u001b[1;32m    548\u001b[0m     \u001b[0;32mif\u001b[0m \u001b[0mH5Dict\u001b[0m\u001b[0;34m.\u001b[0m\u001b[0mis_supported_type\u001b[0m\u001b[0;34m(\u001b[0m\u001b[0mfilepath\u001b[0m\u001b[0;34m)\u001b[0m\u001b[0;34m:\u001b[0m\u001b[0;34m\u001b[0m\u001b[0;34m\u001b[0m\u001b[0m\n\u001b[0;32m--> 549\u001b[0;31m         \u001b[0;32mwith\u001b[0m \u001b[0mH5Dict\u001b[0m\u001b[0;34m(\u001b[0m\u001b[0mfilepath\u001b[0m\u001b[0;34m,\u001b[0m \u001b[0mmode\u001b[0m\u001b[0;34m=\u001b[0m\u001b[0;34m'r'\u001b[0m\u001b[0;34m)\u001b[0m \u001b[0;32mas\u001b[0m \u001b[0mh5dict\u001b[0m\u001b[0;34m:\u001b[0m\u001b[0;34m\u001b[0m\u001b[0;34m\u001b[0m\u001b[0m\n\u001b[0m\u001b[1;32m    550\u001b[0m             \u001b[0mmodel\u001b[0m \u001b[0;34m=\u001b[0m \u001b[0m_deserialize_model\u001b[0m\u001b[0;34m(\u001b[0m\u001b[0mh5dict\u001b[0m\u001b[0;34m,\u001b[0m \u001b[0mcustom_objects\u001b[0m\u001b[0;34m,\u001b[0m \u001b[0mcompile\u001b[0m\u001b[0;34m)\u001b[0m\u001b[0;34m\u001b[0m\u001b[0;34m\u001b[0m\u001b[0m\n\u001b[1;32m    551\u001b[0m     \u001b[0;32melif\u001b[0m \u001b[0mhasattr\u001b[0m\u001b[0;34m(\u001b[0m\u001b[0mfilepath\u001b[0m\u001b[0;34m,\u001b[0m \u001b[0;34m'write'\u001b[0m\u001b[0;34m)\u001b[0m \u001b[0;32mand\u001b[0m \u001b[0mcallable\u001b[0m\u001b[0;34m(\u001b[0m\u001b[0mfilepath\u001b[0m\u001b[0;34m.\u001b[0m\u001b[0mwrite\u001b[0m\u001b[0;34m)\u001b[0m\u001b[0;34m:\u001b[0m\u001b[0;34m\u001b[0m\u001b[0;34m\u001b[0m\u001b[0m\n",
            "\u001b[0;32m/usr/local/lib/python3.6/dist-packages/keras/utils/io_utils.py\u001b[0m in \u001b[0;36m__init__\u001b[0;34m(self, path, mode)\u001b[0m\n\u001b[1;32m    189\u001b[0m             \u001b[0mself\u001b[0m\u001b[0;34m.\u001b[0m\u001b[0m_is_file\u001b[0m \u001b[0;34m=\u001b[0m \u001b[0;32mFalse\u001b[0m\u001b[0;34m\u001b[0m\u001b[0;34m\u001b[0m\u001b[0m\n\u001b[1;32m    190\u001b[0m         \u001b[0;32melif\u001b[0m \u001b[0misinstance\u001b[0m\u001b[0;34m(\u001b[0m\u001b[0mpath\u001b[0m\u001b[0;34m,\u001b[0m \u001b[0msix\u001b[0m\u001b[0;34m.\u001b[0m\u001b[0mstring_types\u001b[0m\u001b[0;34m)\u001b[0m \u001b[0;32mor\u001b[0m \u001b[0m_is_path_instance\u001b[0m\u001b[0;34m(\u001b[0m\u001b[0mpath\u001b[0m\u001b[0;34m)\u001b[0m\u001b[0;34m:\u001b[0m\u001b[0;34m\u001b[0m\u001b[0;34m\u001b[0m\u001b[0m\n\u001b[0;32m--> 191\u001b[0;31m             \u001b[0mself\u001b[0m\u001b[0;34m.\u001b[0m\u001b[0mdata\u001b[0m \u001b[0;34m=\u001b[0m \u001b[0mh5py\u001b[0m\u001b[0;34m.\u001b[0m\u001b[0mFile\u001b[0m\u001b[0;34m(\u001b[0m\u001b[0mpath\u001b[0m\u001b[0;34m,\u001b[0m \u001b[0mmode\u001b[0m\u001b[0;34m=\u001b[0m\u001b[0mmode\u001b[0m\u001b[0;34m)\u001b[0m\u001b[0;34m\u001b[0m\u001b[0;34m\u001b[0m\u001b[0m\n\u001b[0m\u001b[1;32m    192\u001b[0m             \u001b[0mself\u001b[0m\u001b[0;34m.\u001b[0m\u001b[0m_is_file\u001b[0m \u001b[0;34m=\u001b[0m \u001b[0;32mTrue\u001b[0m\u001b[0;34m\u001b[0m\u001b[0;34m\u001b[0m\u001b[0m\n\u001b[1;32m    193\u001b[0m         \u001b[0;32melif\u001b[0m \u001b[0misinstance\u001b[0m\u001b[0;34m(\u001b[0m\u001b[0mpath\u001b[0m\u001b[0;34m,\u001b[0m \u001b[0mdict\u001b[0m\u001b[0;34m)\u001b[0m\u001b[0;34m:\u001b[0m\u001b[0;34m\u001b[0m\u001b[0;34m\u001b[0m\u001b[0m\n",
            "\u001b[0;32m/usr/local/lib/python3.6/dist-packages/h5py/_hl/files.py\u001b[0m in \u001b[0;36m__init__\u001b[0;34m(self, name, mode, driver, libver, userblock_size, swmr, **kwds)\u001b[0m\n\u001b[1;32m    310\u001b[0m             \u001b[0;32mwith\u001b[0m \u001b[0mphil\u001b[0m\u001b[0;34m:\u001b[0m\u001b[0;34m\u001b[0m\u001b[0;34m\u001b[0m\u001b[0m\n\u001b[1;32m    311\u001b[0m                 \u001b[0mfapl\u001b[0m \u001b[0;34m=\u001b[0m \u001b[0mmake_fapl\u001b[0m\u001b[0;34m(\u001b[0m\u001b[0mdriver\u001b[0m\u001b[0;34m,\u001b[0m \u001b[0mlibver\u001b[0m\u001b[0;34m,\u001b[0m \u001b[0;34m**\u001b[0m\u001b[0mkwds\u001b[0m\u001b[0;34m)\u001b[0m\u001b[0;34m\u001b[0m\u001b[0;34m\u001b[0m\u001b[0m\n\u001b[0;32m--> 312\u001b[0;31m                 \u001b[0mfid\u001b[0m \u001b[0;34m=\u001b[0m \u001b[0mmake_fid\u001b[0m\u001b[0;34m(\u001b[0m\u001b[0mname\u001b[0m\u001b[0;34m,\u001b[0m \u001b[0mmode\u001b[0m\u001b[0;34m,\u001b[0m \u001b[0muserblock_size\u001b[0m\u001b[0;34m,\u001b[0m \u001b[0mfapl\u001b[0m\u001b[0;34m,\u001b[0m \u001b[0mswmr\u001b[0m\u001b[0;34m=\u001b[0m\u001b[0mswmr\u001b[0m\u001b[0;34m)\u001b[0m\u001b[0;34m\u001b[0m\u001b[0;34m\u001b[0m\u001b[0m\n\u001b[0m\u001b[1;32m    313\u001b[0m \u001b[0;34m\u001b[0m\u001b[0m\n\u001b[1;32m    314\u001b[0m                 \u001b[0;32mif\u001b[0m \u001b[0mswmr_support\u001b[0m\u001b[0;34m:\u001b[0m\u001b[0;34m\u001b[0m\u001b[0;34m\u001b[0m\u001b[0m\n",
            "\u001b[0;32m/usr/local/lib/python3.6/dist-packages/h5py/_hl/files.py\u001b[0m in \u001b[0;36mmake_fid\u001b[0;34m(name, mode, userblock_size, fapl, fcpl, swmr)\u001b[0m\n\u001b[1;32m    140\u001b[0m         \u001b[0;32mif\u001b[0m \u001b[0mswmr\u001b[0m \u001b[0;32mand\u001b[0m \u001b[0mswmr_support\u001b[0m\u001b[0;34m:\u001b[0m\u001b[0;34m\u001b[0m\u001b[0;34m\u001b[0m\u001b[0m\n\u001b[1;32m    141\u001b[0m             \u001b[0mflags\u001b[0m \u001b[0;34m|=\u001b[0m \u001b[0mh5f\u001b[0m\u001b[0;34m.\u001b[0m\u001b[0mACC_SWMR_READ\u001b[0m\u001b[0;34m\u001b[0m\u001b[0;34m\u001b[0m\u001b[0m\n\u001b[0;32m--> 142\u001b[0;31m         \u001b[0mfid\u001b[0m \u001b[0;34m=\u001b[0m \u001b[0mh5f\u001b[0m\u001b[0;34m.\u001b[0m\u001b[0mopen\u001b[0m\u001b[0;34m(\u001b[0m\u001b[0mname\u001b[0m\u001b[0;34m,\u001b[0m \u001b[0mflags\u001b[0m\u001b[0;34m,\u001b[0m \u001b[0mfapl\u001b[0m\u001b[0;34m=\u001b[0m\u001b[0mfapl\u001b[0m\u001b[0;34m)\u001b[0m\u001b[0;34m\u001b[0m\u001b[0;34m\u001b[0m\u001b[0m\n\u001b[0m\u001b[1;32m    143\u001b[0m     \u001b[0;32melif\u001b[0m \u001b[0mmode\u001b[0m \u001b[0;34m==\u001b[0m \u001b[0;34m'r+'\u001b[0m\u001b[0;34m:\u001b[0m\u001b[0;34m\u001b[0m\u001b[0;34m\u001b[0m\u001b[0m\n\u001b[1;32m    144\u001b[0m         \u001b[0mfid\u001b[0m \u001b[0;34m=\u001b[0m \u001b[0mh5f\u001b[0m\u001b[0;34m.\u001b[0m\u001b[0mopen\u001b[0m\u001b[0;34m(\u001b[0m\u001b[0mname\u001b[0m\u001b[0;34m,\u001b[0m \u001b[0mh5f\u001b[0m\u001b[0;34m.\u001b[0m\u001b[0mACC_RDWR\u001b[0m\u001b[0;34m,\u001b[0m \u001b[0mfapl\u001b[0m\u001b[0;34m=\u001b[0m\u001b[0mfapl\u001b[0m\u001b[0;34m)\u001b[0m\u001b[0;34m\u001b[0m\u001b[0;34m\u001b[0m\u001b[0m\n",
            "\u001b[0;32mh5py/_objects.pyx\u001b[0m in \u001b[0;36mh5py._objects.with_phil.wrapper\u001b[0;34m()\u001b[0m\n",
            "\u001b[0;32mh5py/_objects.pyx\u001b[0m in \u001b[0;36mh5py._objects.with_phil.wrapper\u001b[0;34m()\u001b[0m\n",
            "\u001b[0;32mh5py/h5f.pyx\u001b[0m in \u001b[0;36mh5py.h5f.open\u001b[0;34m()\u001b[0m\n",
            "\u001b[0;31mOSError\u001b[0m: Unable to open file (unable to open file: name = 'my_/content/drive/My Drive/WordPrediction/modelV1.h5', errno = 2, error message = 'No such file or directory', flags = 0, o_flags = 0)"
          ]
        }
      ]
    },
    {
      "cell_type": "code",
      "metadata": {
        "id": "WY5SZtKMx81u"
      },
      "source": [
        "model = load_model('/content/drive/My Drive/WordPrediction/modelV1.h5')"
      ],
      "execution_count": null,
      "outputs": []
    },
    {
      "cell_type": "code",
      "metadata": {
        "id": "jt56UeyNu2Hm",
        "colab": {
          "base_uri": "https://localhost:8080/",
          "height": 34
        },
        "outputId": "da958add-917e-4e39-9b71-a748d704d548"
      },
      "source": [
        "print (generate_text(\"accident\", 2, max_sequence_len))"
      ],
      "execution_count": null,
      "outputs": [
        {
          "output_type": "stream",
          "text": [
            "accident health insurance\n"
          ],
          "name": "stdout"
        }
      ]
    },
    {
      "cell_type": "code",
      "metadata": {
        "id": "K6Qml5RdyG27",
        "colab": {
          "base_uri": "https://localhost:8080/",
          "height": 34
        },
        "outputId": "0f7a2c2d-710c-4e35-f144-651ee4037ac4"
      },
      "source": [
        "print (generate_text(\"individual\", 2, max_sequence_len))"
      ],
      "execution_count": null,
      "outputs": [
        {
          "output_type": "stream",
          "text": [
            "individual health insurance\n"
          ],
          "name": "stdout"
        }
      ]
    },
    {
      "cell_type": "code",
      "metadata": {
        "id": "_Zw8w70ByLc2",
        "colab": {
          "base_uri": "https://localhost:8080/",
          "height": 34
        },
        "outputId": "3ae8ab87-f400-4ace-ad7b-e351993f9f97"
      },
      "source": [
        "print (generate_text(\"hospital\", 1, max_sequence_len))"
      ],
      "execution_count": null,
      "outputs": [
        {
          "output_type": "stream",
          "text": [
            "hospital to\n"
          ],
          "name": "stdout"
        }
      ]
    },
    {
      "cell_type": "code",
      "metadata": {
        "id": "ToiyIwx6yRFh"
      },
      "source": [
        ""
      ],
      "execution_count": null,
      "outputs": []
    }
  ]
}