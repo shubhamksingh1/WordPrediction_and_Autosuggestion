{
  "nbformat": 4,
  "nbformat_minor": 0,
  "metadata": {
    "colab": {
      "name": "PredictWord.ipynb",
      "provenance": [],
      "collapsed_sections": [],
      "toc_visible": true,
      "authorship_tag": "ABX9TyPwcqllzbZNpsMAStgG9V12",
      "include_colab_link": true
    },
    "kernelspec": {
      "name": "python3",
      "display_name": "Python 3"
    },
    "accelerator": "GPU"
  },
  "cells": [
    {
      "cell_type": "markdown",
      "metadata": {
        "id": "view-in-github",
        "colab_type": "text"
      },
      "source": [
        "<a href=\"https://colab.research.google.com/github/shubhamksingh1/WordPrediction_and_Autosuggestion/blob/main/WordPrediction/Test/PredictWord.ipynb\" target=\"_parent\"><img src=\"https://colab.research.google.com/assets/colab-badge.svg\" alt=\"Open In Colab\"/></a>"
      ]
    },
    {
      "cell_type": "code",
      "metadata": {
        "id": "muo8ebksekXZ"
      },
      "source": [
        ""
      ],
      "execution_count": null,
      "outputs": []
    },
    {
      "cell_type": "code",
      "metadata": {
        "id": "eLilu6m6e9a4",
        "outputId": "933052c5-f2ac-4d85-e1c8-f137f6e9dbb4",
        "colab": {
          "base_uri": "https://localhost:8080/",
          "height": 122
        }
      },
      "source": [
        "from google.colab import drive\n",
        "drive.mount('/content/drive')"
      ],
      "execution_count": null,
      "outputs": [
        {
          "output_type": "stream",
          "text": [
            "Go to this URL in a browser: https://accounts.google.com/o/oauth2/auth?client_id=947318989803-6bn6qk8qdgf4n4g3pfee6491hc0brc4i.apps.googleusercontent.com&redirect_uri=urn%3aietf%3awg%3aoauth%3a2.0%3aoob&response_type=code&scope=email%20https%3a%2f%2fwww.googleapis.com%2fauth%2fdocs.test%20https%3a%2f%2fwww.googleapis.com%2fauth%2fdrive%20https%3a%2f%2fwww.googleapis.com%2fauth%2fdrive.photos.readonly%20https%3a%2f%2fwww.googleapis.com%2fauth%2fpeopleapi.readonly\n",
            "\n",
            "Enter your authorization code:\n",
            "··········\n",
            "Mounted at /content/drive\n"
          ],
          "name": "stdout"
        }
      ]
    },
    {
      "cell_type": "code",
      "metadata": {
        "id": "po-oMkZZfPox"
      },
      "source": [
        " %tensorflow_version 1.x "
      ],
      "execution_count": null,
      "outputs": []
    },
    {
      "cell_type": "code",
      "metadata": {
        "id": "kjnuQAWNMIYm"
      },
      "source": [
        "import tensorflow as tf\n",
        "import keras\n",
        "import numpy as np"
      ],
      "execution_count": null,
      "outputs": []
    },
    {
      "cell_type": "code",
      "metadata": {
        "id": "eYEaWOkPWPl6",
        "outputId": "308360b5-dd19-47e3-e0d2-e947f4a588f6",
        "colab": {
          "base_uri": "https://localhost:8080/",
          "height": 34
        }
      },
      "source": [
        "keras.__version__"
      ],
      "execution_count": null,
      "outputs": [
        {
          "output_type": "execute_result",
          "data": {
            "text/plain": [
              "'2.2.5'"
            ]
          },
          "metadata": {
            "tags": []
          },
          "execution_count": 4
        }
      ]
    },
    {
      "cell_type": "code",
      "metadata": {
        "id": "-BqeafdeMNHh",
        "outputId": "efd374de-7875-47dd-bed6-81a5dde42025",
        "colab": {
          "base_uri": "https://localhost:8080/",
          "height": 34
        }
      },
      "source": [
        "tf.__version__"
      ],
      "execution_count": null,
      "outputs": [
        {
          "output_type": "execute_result",
          "data": {
            "text/plain": [
              "'1.15.0'"
            ]
          },
          "metadata": {
            "tags": []
          },
          "execution_count": 5
        }
      ]
    },
    {
      "cell_type": "code",
      "metadata": {
        "id": "G6FKiUNtfMLX"
      },
      "source": [
        "import pickle\n",
        "from keras.models import load_model\n",
        "from keras.preprocessing.sequence import pad_sequences"
      ],
      "execution_count": null,
      "outputs": []
    },
    {
      "cell_type": "code",
      "metadata": {
        "id": "rK-VGNMAex1-",
        "outputId": "2f3bd5ab-5e8c-440c-e8ab-f88e7785496b",
        "colab": {
          "base_uri": "https://localhost:8080/",
          "height": 530
        }
      },
      "source": [
        "model1 = load_model('/content/drive/My Drive/WordPrediction/modelGloveRetrained.h5')"
      ],
      "execution_count": null,
      "outputs": [
        {
          "output_type": "stream",
          "text": [
            "WARNING:tensorflow:From /usr/local/lib/python3.6/dist-packages/keras/backend/tensorflow_backend.py:541: The name tf.placeholder is deprecated. Please use tf.compat.v1.placeholder instead.\n",
            "\n",
            "WARNING:tensorflow:From /usr/local/lib/python3.6/dist-packages/keras/backend/tensorflow_backend.py:4432: The name tf.random_uniform is deprecated. Please use tf.random.uniform instead.\n",
            "\n",
            "WARNING:tensorflow:From /usr/local/lib/python3.6/dist-packages/keras/backend/tensorflow_backend.py:66: The name tf.get_default_graph is deprecated. Please use tf.compat.v1.get_default_graph instead.\n",
            "\n",
            "WARNING:tensorflow:From /usr/local/lib/python3.6/dist-packages/keras/backend/tensorflow_backend.py:190: The name tf.get_default_session is deprecated. Please use tf.compat.v1.get_default_session instead.\n",
            "\n",
            "WARNING:tensorflow:From /usr/local/lib/python3.6/dist-packages/keras/backend/tensorflow_backend.py:197: The name tf.ConfigProto is deprecated. Please use tf.compat.v1.ConfigProto instead.\n",
            "\n",
            "WARNING:tensorflow:From /usr/local/lib/python3.6/dist-packages/keras/backend/tensorflow_backend.py:203: The name tf.Session is deprecated. Please use tf.compat.v1.Session instead.\n",
            "\n",
            "WARNING:tensorflow:From /usr/local/lib/python3.6/dist-packages/keras/backend/tensorflow_backend.py:207: The name tf.global_variables is deprecated. Please use tf.compat.v1.global_variables instead.\n",
            "\n",
            "WARNING:tensorflow:From /usr/local/lib/python3.6/dist-packages/keras/backend/tensorflow_backend.py:216: The name tf.is_variable_initialized is deprecated. Please use tf.compat.v1.is_variable_initialized instead.\n",
            "\n",
            "WARNING:tensorflow:From /usr/local/lib/python3.6/dist-packages/keras/backend/tensorflow_backend.py:223: The name tf.variables_initializer is deprecated. Please use tf.compat.v1.variables_initializer instead.\n",
            "\n",
            "WARNING:tensorflow:From /usr/local/lib/python3.6/dist-packages/keras/optimizers.py:793: The name tf.train.Optimizer is deprecated. Please use tf.compat.v1.train.Optimizer instead.\n",
            "\n",
            "WARNING:tensorflow:From /usr/local/lib/python3.6/dist-packages/keras/backend/tensorflow_backend.py:3576: The name tf.log is deprecated. Please use tf.math.log instead.\n",
            "\n",
            "WARNING:tensorflow:From /usr/local/lib/python3.6/dist-packages/tensorflow_core/python/ops/math_grad.py:1424: where (from tensorflow.python.ops.array_ops) is deprecated and will be removed in a future version.\n",
            "Instructions for updating:\n",
            "Use tf.where in 2.0, which has the same broadcast rule as np.where\n",
            "WARNING:tensorflow:From /usr/local/lib/python3.6/dist-packages/keras/backend/tensorflow_backend.py:1033: The name tf.assign_add is deprecated. Please use tf.compat.v1.assign_add instead.\n",
            "\n",
            "WARNING:tensorflow:From /usr/local/lib/python3.6/dist-packages/keras/backend/tensorflow_backend.py:1020: The name tf.assign is deprecated. Please use tf.compat.v1.assign instead.\n",
            "\n"
          ],
          "name": "stdout"
        }
      ]
    },
    {
      "cell_type": "code",
      "metadata": {
        "id": "-HOlure_fjGU"
      },
      "source": [
        "tokenizer = pickle.load(open(\"/content/drive/My Drive/WordPrediction/tokenizer_bajaj.pickle\", \"rb\" ) )"
      ],
      "execution_count": null,
      "outputs": []
    },
    {
      "cell_type": "code",
      "metadata": {
        "id": "wnN0CPigexqo"
      },
      "source": [
        "def generate_text_retrainable_model(seed_text, next_words, max_sequence_len=44):\n",
        "\tfor _ in range(next_words):\n",
        "\t\ttoken_list = tokenizer.texts_to_sequences([seed_text])[0]\n",
        "\t\ttoken_list = pad_sequences([token_list], maxlen=max_sequence_len-1, padding='pre')\n",
        "\t\tpredicted = model1.predict_classes(token_list, verbose=0)\n",
        "\t\t\n",
        "\t\toutput_word = \"\"\n",
        "\t\tfor word, index in tokenizer.word_index.items():\n",
        "\t\t\tif index == predicted:\n",
        "\t\t\t\toutput_word = word\n",
        "\t\t\t\tbreak\n",
        "\t\tseed_text += \" \" + output_word\n",
        "\treturn seed_text"
      ],
      "execution_count": null,
      "outputs": []
    },
    {
      "cell_type": "code",
      "metadata": {
        "id": "PUwg5NUPwyWq"
      },
      "source": [
        "def generate_top3_text_retrainable_model(seed_text, max_sequence_len=44):\n",
        "    token_list = tokenizer.texts_to_sequences([seed_text])[0]\n",
        "    token_list = pad_sequences([token_list], maxlen=max_sequence_len-1, padding='pre')\n",
        "    predicted = model1.predict(token_list, verbose=0)\n",
        "    flattened_predict = predicted.flatten()\n",
        "    pred_idx_list = flattened_predict.argsort()[:-4:-1]\n",
        "    output_word = [seed_text]\n",
        "    for i in pred_idx_list:\n",
        "        for word, index in tokenizer.word_index.items():\n",
        "            if index == i:\n",
        "                output_word.append(word)\n",
        "                break\n",
        "    return output_word"
      ],
      "execution_count": null,
      "outputs": []
    },
    {
      "cell_type": "code",
      "metadata": {
        "id": "wMEPZG2Iul3u",
        "outputId": "31cb2ec3-7ed9-43ed-9f47-24af4073f839",
        "colab": {
          "base_uri": "https://localhost:8080/",
          "height": 187
        }
      },
      "source": [
        "print (generate_top3_text_retrainable_model(\"hospital\"))\n",
        "print (generate_top3_text_retrainable_model(\"critical\"))\n",
        "print (generate_top3_text_retrainable_model(\"reimbursement\"))\n",
        "print (generate_top3_text_retrainable_model(\"accident\"))\n",
        "print (generate_top3_text_retrainable_model(\"insurance\"))\n",
        "print (generate_top3_text_retrainable_model(\"individual\"))\n",
        "print (generate_top3_text_retrainable_model(\"policy\"))\n",
        "print (generate_top3_text_retrainable_model(\"medical\"))\n",
        "print (generate_top3_text_retrainable_model(\"claim\"))\n",
        "print (generate_top3_text_retrainable_model(\"health\"))"
      ],
      "execution_count": null,
      "outputs": [
        {
          "output_type": "stream",
          "text": [
            "['hospital', 'benefits', 'health', 'insurance']\n",
            "['critical', 'illness', 'health', 'accident']\n",
            "['reimbursement', 'of', 'and', 'on']\n",
            "['accident', 'covers', 'people', 'including']\n",
            "['insurance', 'including', 'company', 'diseases']\n",
            "['individual', 'health', 'up', 'to']\n",
            "['policy', 'inclusions', 'children', 'employee']\n",
            "['medical', 'check', 'expenses', 'insurance']\n",
            "['claim', 'the', 'you', 'to']\n",
            "['health', 'insurance', 'check', 'insurancematernity']\n"
          ],
          "name": "stdout"
        }
      ]
    },
    {
      "cell_type": "code",
      "metadata": {
        "id": "hY1kDV3Og9WH",
        "outputId": "03eb9578-268f-49f3-9df6-2bba3b0234f3",
        "colab": {
          "base_uri": "https://localhost:8080/",
          "height": 170
        }
      },
      "source": [
        "print (generate_text_retrainable_model(\"hospital\", 1))\n",
        "print (generate_text_retrainable_model(\"critical\", 1))\n",
        "print (generate_text_retrainable_model(\"reimbursement\", 1))\n",
        "print (generate_text_retrainable_model(\"accident\", 1))\n",
        "print (generate_text_retrainable_model(\"insurance\", 1))\n",
        "print (generate_text_retrainable_model(\"individual\", 1))\n",
        "print (generate_text_retrainable_model(\"policy\", 1))\n",
        "print (generate_text_retrainable_model(\"medical\", 1))\n",
        "print (generate_text_retrainable_model(\"claim\", 1))"
      ],
      "execution_count": null,
      "outputs": [
        {
          "output_type": "stream",
          "text": [
            "hospital benefits\n",
            "critical illness\n",
            "reimbursement of\n",
            "accident covers\n",
            "insurance including\n",
            "individual health\n",
            "policy inclusions\n",
            "medical check\n",
            "claim the\n"
          ],
          "name": "stdout"
        }
      ]
    },
    {
      "cell_type": "code",
      "metadata": {
        "id": "spnF6aloe6w-",
        "outputId": "61ed8af2-2a8e-4b64-f78f-16edd73b0113",
        "colab": {
          "base_uri": "https://localhost:8080/",
          "height": 170
        }
      },
      "source": [
        "print (generate_text_retrainable_model(\"hospital\", 10))\n",
        "print (generate_text_retrainable_model(\"critical\", 4))\n",
        "print (generate_text_retrainable_model(\"reimbursement\", 4))\n",
        "print (generate_text_retrainable_model(\"accident\", 4))\n",
        "print (generate_text_retrainable_model(\"insurance\", 4))\n",
        "print (generate_text_retrainable_model(\"individual\", 4))\n",
        "print (generate_text_retrainable_model(\"policy\", 4))\n",
        "print (generate_text_retrainable_model(\"medical\", 4))\n",
        "print (generate_text_retrainable_model(\"claim\", 4))\n",
        "\n"
      ],
      "execution_count": null,
      "outputs": [
        {
          "output_type": "stream",
          "text": [
            "hospital benefits including coverage of new born baby along with vaccination\n",
            "critical illness health insurance planstaken\n",
            "reimbursement of new procedures of\n",
            "accident covers can be purchased\n",
            "insurance including coverage of new\n",
            "individual health insurance policy under\n",
            "policy inclusions and exclusions tax\n",
            "medical check ups required before\n",
            "claim the premium costs on\n"
          ],
          "name": "stdout"
        }
      ]
    },
    {
      "cell_type": "code",
      "metadata": {
        "id": "Q7eV1pUB-BFe",
        "outputId": "e08468d3-dac6-4a67-f1c1-2db66052bce1",
        "colab": {
          "base_uri": "https://localhost:8080/",
          "height": 54
        }
      },
      "source": [
        "print (generate_text_retrainable_model(\"hospital\", 50))"
      ],
      "execution_count": null,
      "outputs": [
        {
          "output_type": "stream",
          "text": [
            "hospital benefits including coverage of new born baby along with vaccination charges up to 10 years of age can avail a health insurance policy the chosen sum assured is applicable to all family members covered by a single cover i e one cover for all members at members at of one\n"
          ],
          "name": "stdout"
        }
      ]
    },
    {
      "cell_type": "code",
      "metadata": {
        "id": "xR8RfFgKfVX3",
        "outputId": "8eedf98b-4bcd-4f5f-a7d9-74baf9096355",
        "colab": {
          "base_uri": "https://localhost:8080/",
          "height": 34
        }
      },
      "source": [
        "print (generate_text_retrainable_model(\"critical\", 4))"
      ],
      "execution_count": null,
      "outputs": [
        {
          "output_type": "stream",
          "text": [
            "critical illness health insurance planstaken\n"
          ],
          "name": "stdout"
        }
      ]
    },
    {
      "cell_type": "code",
      "metadata": {
        "id": "VtI0-64jgGZD",
        "outputId": "6d2b3f17-a8ac-417b-ff34-a9d120ece0eb",
        "colab": {
          "base_uri": "https://localhost:8080/",
          "height": 34
        }
      },
      "source": [
        "print (generate_text_retrainable_model(\"reimbursement\", 4))"
      ],
      "execution_count": null,
      "outputs": [
        {
          "output_type": "stream",
          "text": [
            "reimbursement of new procedures of\n"
          ],
          "name": "stdout"
        }
      ]
    },
    {
      "cell_type": "code",
      "metadata": {
        "id": "mw4QYwnagLjZ",
        "outputId": "3d1831a6-4b44-4de2-ca47-5bcaa6e0c96d",
        "colab": {
          "base_uri": "https://localhost:8080/",
          "height": 34
        }
      },
      "source": [
        "print (generate_text_retrainable_model(\"accident\", 4))"
      ],
      "execution_count": null,
      "outputs": [
        {
          "output_type": "stream",
          "text": [
            "accident covers can be purchased\n"
          ],
          "name": "stdout"
        }
      ]
    },
    {
      "cell_type": "code",
      "metadata": {
        "id": "FibWHGH5gOxx",
        "outputId": "11eb0e34-325a-4f76-bc40-06688b193fff",
        "colab": {
          "base_uri": "https://localhost:8080/",
          "height": 34
        }
      },
      "source": [
        "print (generate_text_retrainable_model(\"insurance\", 4))"
      ],
      "execution_count": null,
      "outputs": [
        {
          "output_type": "stream",
          "text": [
            "insurance including coverage of new\n"
          ],
          "name": "stdout"
        }
      ]
    },
    {
      "cell_type": "code",
      "metadata": {
        "id": "UF7165dugTNa",
        "outputId": "5ebdad38-43b7-43e7-ceb2-bf510654699d",
        "colab": {
          "base_uri": "https://localhost:8080/",
          "height": 34
        }
      },
      "source": [
        "print (generate_text_retrainable_model(\"individual\", 4))"
      ],
      "execution_count": null,
      "outputs": [
        {
          "output_type": "stream",
          "text": [
            "individual health insurance policy under\n"
          ],
          "name": "stdout"
        }
      ]
    },
    {
      "cell_type": "code",
      "metadata": {
        "id": "GePqzl-WgYhB",
        "outputId": "1246317c-8813-44eb-a6a0-f292404dc2c0",
        "colab": {
          "base_uri": "https://localhost:8080/",
          "height": 34
        }
      },
      "source": [
        "print (generate_text_retrainable_model(\"policy\", 4))"
      ],
      "execution_count": null,
      "outputs": [
        {
          "output_type": "stream",
          "text": [
            "policy inclusions and exclusions tax\n"
          ],
          "name": "stdout"
        }
      ]
    },
    {
      "cell_type": "code",
      "metadata": {
        "id": "kXUosjnQgbZC",
        "outputId": "6fba1db7-2ab7-4190-a61f-e64bc6be1312",
        "colab": {
          "base_uri": "https://localhost:8080/",
          "height": 34
        }
      },
      "source": [
        "print (generate_text_retrainable_model(\"medical\", 4))"
      ],
      "execution_count": null,
      "outputs": [
        {
          "output_type": "stream",
          "text": [
            "medical check ups required before\n"
          ],
          "name": "stdout"
        }
      ]
    },
    {
      "cell_type": "code",
      "metadata": {
        "id": "bifgEMhygi16",
        "outputId": "5375db11-db4b-424d-ff66-3508cca566f6",
        "colab": {
          "base_uri": "https://localhost:8080/",
          "height": 34
        }
      },
      "source": [
        "print (generate_text_retrainable_model(\"claim\", 4))"
      ],
      "execution_count": null,
      "outputs": [
        {
          "output_type": "stream",
          "text": [
            "claim the premium costs on\n"
          ],
          "name": "stdout"
        }
      ]
    },
    {
      "cell_type": "code",
      "metadata": {
        "id": "rwwGG-pAgs9K"
      },
      "source": [
        ""
      ],
      "execution_count": null,
      "outputs": []
    }
  ]
}