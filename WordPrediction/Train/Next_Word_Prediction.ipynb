{
  "nbformat": 4,
  "nbformat_minor": 0,
  "metadata": {
    "colab": {
      "name": "Next_Word_Prediction.ipynb",
      "provenance": [],
      "collapsed_sections": [],
      "toc_visible": true,
      "authorship_tag": "ABX9TyMKKqxcO+uR+PL7EFhVPtZ+",
      "include_colab_link": true
    },
    "kernelspec": {
      "name": "python3",
      "display_name": "Python 3"
    },
    "accelerator": "GPU"
  },
  "cells": [
    {
      "cell_type": "markdown",
      "metadata": {
        "id": "view-in-github",
        "colab_type": "text"
      },
      "source": [
        "<a href=\"https://colab.research.google.com/github/shubhamksingh1/WordPrediction_and_Autosuggestion/blob/main/WordPrediction/Train/Next_Word_Prediction.ipynb\" target=\"_parent\"><img src=\"https://colab.research.google.com/assets/colab-badge.svg\" alt=\"Open In Colab\"/></a>"
      ]
    },
    {
      "cell_type": "code",
      "metadata": {
        "id": "lZnt31wfvbgV"
      },
      "source": [
        ""
      ],
      "execution_count": null,
      "outputs": []
    },
    {
      "cell_type": "code",
      "metadata": {
        "id": "CkMwjofFvlmE",
        "outputId": "198b530b-b237-4bed-f4e3-07f16bf3a706",
        "colab": {
          "base_uri": "https://localhost:8080/",
          "height": 122
        }
      },
      "source": [
        "from google.colab import drive\n",
        "drive.mount('/content/drive')"
      ],
      "execution_count": null,
      "outputs": [
        {
          "output_type": "stream",
          "text": [
            "Go to this URL in a browser: https://accounts.google.com/o/oauth2/auth?client_id=947318989803-6bn6qk8qdgf4n4g3pfee6491hc0brc4i.apps.googleusercontent.com&redirect_uri=urn%3aietf%3awg%3aoauth%3a2.0%3aoob&response_type=code&scope=email%20https%3a%2f%2fwww.googleapis.com%2fauth%2fdocs.test%20https%3a%2f%2fwww.googleapis.com%2fauth%2fdrive%20https%3a%2f%2fwww.googleapis.com%2fauth%2fdrive.photos.readonly%20https%3a%2f%2fwww.googleapis.com%2fauth%2fpeopleapi.readonly\n",
            "\n",
            "Enter your authorization code:\n",
            "··········\n",
            "Mounted at /content/drive\n"
          ],
          "name": "stdout"
        }
      ]
    },
    {
      "cell_type": "code",
      "metadata": {
        "id": "7NJdV78Sufzh",
        "outputId": "614e2eab-c56c-4ed2-e9a5-8dfa3fb336e9",
        "colab": {
          "base_uri": "https://localhost:8080/",
          "height": 224
        }
      },
      "source": [
        "!pip install kaggle"
      ],
      "execution_count": null,
      "outputs": [
        {
          "output_type": "stream",
          "text": [
            "Requirement already satisfied: kaggle in /usr/local/lib/python3.6/dist-packages (1.5.6)\n",
            "Requirement already satisfied: tqdm in /usr/local/lib/python3.6/dist-packages (from kaggle) (4.28.1)\n",
            "Requirement already satisfied: python-slugify in /usr/local/lib/python3.6/dist-packages (from kaggle) (4.0.0)\n",
            "Requirement already satisfied: urllib3<1.25,>=1.21.1 in /usr/local/lib/python3.6/dist-packages (from kaggle) (1.24.3)\n",
            "Requirement already satisfied: certifi in /usr/local/lib/python3.6/dist-packages (from kaggle) (2019.11.28)\n",
            "Requirement already satisfied: python-dateutil in /usr/local/lib/python3.6/dist-packages (from kaggle) (2.6.1)\n",
            "Requirement already satisfied: six>=1.10 in /usr/local/lib/python3.6/dist-packages (from kaggle) (1.12.0)\n",
            "Requirement already satisfied: requests in /usr/local/lib/python3.6/dist-packages (from kaggle) (2.21.0)\n",
            "Requirement already satisfied: text-unidecode>=1.3 in /usr/local/lib/python3.6/dist-packages (from python-slugify->kaggle) (1.3)\n",
            "Requirement already satisfied: chardet<3.1.0,>=3.0.2 in /usr/local/lib/python3.6/dist-packages (from requests->kaggle) (3.0.4)\n",
            "Requirement already satisfied: idna<2.9,>=2.5 in /usr/local/lib/python3.6/dist-packages (from requests->kaggle) (2.8)\n"
          ],
          "name": "stdout"
        }
      ]
    },
    {
      "cell_type": "code",
      "metadata": {
        "id": "bVTBJNZYufqc"
      },
      "source": [
        "import os\n",
        "os.environ['KAGGLE_CONFIG_DIR'] = \"/content/drive/My Drive/Kaggle/\""
      ],
      "execution_count": null,
      "outputs": []
    },
    {
      "cell_type": "code",
      "metadata": {
        "id": "LJHaXzT5xs4-",
        "outputId": "cc4aad43-58a2-46a6-cc28-4a5d63ba3b4c",
        "colab": {
          "base_uri": "https://localhost:8080/",
          "height": 51
        }
      },
      "source": [
        "!kaggle kernels list — user sks27199 — sort-by dateRun"
      ],
      "execution_count": null,
      "outputs": [
        {
          "output_type": "stream",
          "text": [
            "usage: kaggle [-h] [-v] {competitions,c,datasets,d,kernels,k,config} ...\n",
            "kaggle: error: unrecognized arguments: — user sks27199 — sort-by dateRun\n"
          ],
          "name": "stdout"
        }
      ]
    },
    {
      "cell_type": "code",
      "metadata": {
        "id": "WoAambQfufuv",
        "outputId": "d5bf5477-295b-4083-9332-e5243e2331ff",
        "colab": {
          "base_uri": "https://localhost:8080/",
          "height": 68
        }
      },
      "source": [
        "!kaggle datasets download -d terenceliu4444/glove6b100dtxt"
      ],
      "execution_count": null,
      "outputs": [
        {
          "output_type": "stream",
          "text": [
            "Downloading glove6b100dtxt.zip to /content\n",
            " 95% 125M/131M [00:02<00:00, 49.0MB/s]\n",
            "100% 131M/131M [00:02<00:00, 52.5MB/s]\n"
          ],
          "name": "stdout"
        }
      ]
    },
    {
      "cell_type": "code",
      "metadata": {
        "id": "qyLFtAmTufh5"
      },
      "source": [
        "!unzip -q /content/glove6b100dtxt.zip  -d \"/content/drive/My Drive/WordPrediction/\""
      ],
      "execution_count": null,
      "outputs": []
    },
    {
      "cell_type": "code",
      "metadata": {
        "id": "JOwyGj_PufML"
      },
      "source": [
        ""
      ],
      "execution_count": null,
      "outputs": []
    },
    {
      "cell_type": "code",
      "metadata": {
        "id": "cNtVBvGxvmNx"
      },
      "source": [
        "file = open('/content/drive/My Drive/WordPrediction/BajajHealthInsurance.txt','r').read()"
      ],
      "execution_count": null,
      "outputs": []
    },
    {
      "cell_type": "code",
      "metadata": {
        "id": "gCi5D0D7v4oe",
        "outputId": "ff6ba368-465e-4887-d14f-1c3b383af579",
        "colab": {
          "base_uri": "https://localhost:8080/",
          "height": 54
        }
      },
      "source": [
        "file"
      ],
      "execution_count": null,
      "outputs": [
        {
          "output_type": "execute_result",
          "data": {
            "text/plain": [
              "'Health insurance covers essential health, illness and accident expenses by protecting you from unexpected, high medical costs.\\nWhen you take a health insurance policy, the costs for your medical treatment during hospitalisation are covered by the insurer for the sum assured selected by you, on annual payment of the premium. \\nYou can either pay for the treatment yourself and have it reimbursed by the policy later, or go a network hospital for your treatment, where your costs are covered by the policy from the beginning.\\nIn addition to this, the premium paid for the policy counts as tax deduction under Section 80D of the Income Tax Act, 1961.\\nHealth insurance policies can be bought for an individual or for family.\\nThey can also be bought to protect you against critical illnesses, or any issues that you may face during maternity. \\nLet’s have a look at types of health insurance covers you can consider before making your buying decision.\\nTypes of Health Insurance Policy\\nIndividual Health Insurance Policy Under the Individual Health Insurance Policy, the chosen sum assured is applicable to a person covered under the plan on an individual basis for cashless hospitalization and other benefits. \\nIt is a policy where each insured member is entitled to the entire amount separately.\\nFamily Floater Health Insurance PolicyIn the Family Floater Health Insurance policy, the chosen sum assured is applicable to all family members covered under a single cover i.e. one cover for all members. \\nIt can be used entirely by one member or by multiple people over multiple claims.\\nTop-up Health Insurance Policy The Top-up health insurance plan additional coverage for people who have limited health cover insurance under an existing individual plan or coverage from the employer. \\nIt is for reimbursement of expenditure which arises out of single illness when the limit of the existing cover is not sufficient.\\nCritical Illness Health Insurance PlansTaken as a standalone insurance policy or a rider for treatment of serious illnesses like - cancer, kidney failure, heart attack etc. \\nMost critical illness Insurance policies provide for payment of a lump sum benefit if the policyholder is diagnosed, suffering from one of the specified critical illnesses.\\nGroup/Employee Health Insurance Policy Group/employee health insurance policies are generally purchased by companies, and cover the employees of that company against costs of medical care. \\nThe premiums of group medical insurance plans are generally lower than average, and the coverage against diseases and medical procedures is fairly broad.\\nPersonal Accident Covers personal accident insurance cover protects you and your family from expenses incurred as the result of an accident, in the event of death, disability, injury, and other unforeseen situations. \\nPersonal accident covers can be purchased independently or as a rider to an already existing policy.\\nSenior Citizen Health Insurance PolicySenior Citizen Health Insurance PolicySenior citizen health insurance plans can be purchased by those who are at least 60 years of age, or older. \\nThey are designed exclusively to help offset the expenses associated with medical care of older people. \\nSuch policies generally need you to undergo a medical check-up before you can avail the plan. \\nHowever, the premium costs on them are generally lower than usual\\nMaternity Health InsuranceMaternity health insurance is an exclusive cover designed for pregnant women. \\nIt may be purchased independently, or as a rider to an existing health insurance policy. \\nMaternity health insurance covers both the mother and the child against costs of pre-natal, post-natal, and hospitalisation expenses, in addition to covering complications arising due to pregnancy as well.\\nFeatures and Benefits of Health Insurance Policies in India\\nComprehensive health cover insurance options from Rs.2 lakhs to Rs.50 lakhs\\nCashless settlement - you need not pay any amount while hospitalized for treatment across wide network of hospitals\\nAmbulance fees covered\\nNo room rent capping\\nMaternity benefits, including coverage of new born baby along with vaccination charges up to 10 years\\n30 days pre- and 60 days post-hospitalization benefits\\n130 daycare procedures covered\\nMedical expenses incurred during organ transplant\\nEmergency ambulance charges covered\\nAYUSH (Ayurveda, Unani, Siddha and Homeopathy) treatment is also covered\\nFree health check-ups and discount vouchers as No Claim Bonus (NCB is an advantage provided if a person does not file a claim for any treatment in previous year).\\nEntry age up to 60 years\\nIncome Tax benefit under Section 80D\\nNo Claim Bonus on renewing the policy after every claim-free year\\nLoyalty discounts on premium after referring family members or friends for a similar policy under the insurer\\n24/7 toll-free call centre support to ensure that you can access your policy at any time\\nOnline application and renewal to make the policy hassle-free\\nAbility to renew the policy lifelong, including in old age\\nAbility to port the insurance policy to any insurer of your choice\\nEligibility for Health Insurance and Documents Required\\nIndividuals who are at least 18 to 21 years of age can avail a health insurance policy\\nDependent children can be covered under the policy between the ages of 90 days and 25 years\\nSenior citizens can be covered under policies tailored for them from 60 years of age onwards\\nGenerally, health insurance policies require no documentation except the application form, accurately filled and signed.\\nHowever, you may be required to take a medical test if you are over a certain age.\\nThings to Consider Before You Buy Health Insurance Plans\\nWhat type of insurance policy you would want to buy, for individual or for family?\\nWhat would be the ideal insurance cover for you/your family?\\nWhat add-on features you would want to opt-in for?\\nKnow the applicable sub limits (capping amount of expenses category like room rent, doctors’ fees, medical test cost etc.)\\nPolicy inclusions and exclusions.\\nWhat would be likely procedures of claim? (cashless, reimbursement)\\nMedical check-ups required before policy acceptance?\\nHow to Apply Applying for health insurance is easy. \\nSimply fill in our online application form, and our representative will get in touch with you to take the process further, and help you select the best Health Insurance plan for your needs.\\nWhat is the procedure for change of address for medical insurance?\\nYou can change the address by giving a request letter to the insurance company on plain paper and the insurance company will pass the endorsement and give a copy of same to you. \\nKindly remember to send same to your TPA also so that they can incorporate same in their records.\\nWhy do I need Health Insurance?\\nHealthcare is expensive. \\nTechnological advances, new procedures and more effective medicines have driven up the cost of healthcare. \\nThis increase has to be borne by the consumer, making treatment unaffordable for too many.\\nHealth Insurance overcomes these obstacles so that you remain free of anxiety regarding your health. \\nThink for a moment about the enormous medical costs you would incur if you suffered a major accident tomorrow or were suddenly stricken by an illness. \\nUninsured people live with such risks every day. \\nHealth insurance seeks to shield you from that risk. \\nIt provides the much needed financial relief. \\nYou also get tax benefit under section 80D of the Income Tax Act.\\nWhat is Health Insurance/Mediclaim?\\nHealth Insurance/Mediclaim is protection against medical costs. \\nA health insurance policy is a contract between an insurer and an individual /group in which the insurer agrees to provide specified health insurance cover at a particular premium. \\nThe health insurer usually provides either direct payment (cashless facility) or reimburses the expenses associated with illnesses and injuries.\\nI am already having health insurance and want to increase sum insured, what should I doYou can take super top up plan and increase your sum insured to desired level.\\nCan a person have more than one Health policy?\\nYes. But each company will pay its ratable proportion of the loss, liability, compensation, costs or expenses.\\nIf a person has Health Insurance from company X for Rs. 1 Lac and Health Insurance from company Y for RS. 1 Lac, then in case of a claim, each policy will pay in the ratio of 50:50 up to the SI.\\nWhat is Cumulative Bonus?\\nAn increase in the Sum insured by a specified percentage for every claim free year, subject to a certain maximum. \\nAn important point to be remembered is that the policy should be renewed without a break to avail of the cumulative bonus.\\nWhat are Pre-Existing Diseases?Any condition, ailment or injury or related condition(s) for which insured person had signs or symptoms and/or was diagnosed and/or received medical advice/treatment within 48 months prior to his/her health policy with the company. \\nPreexisting diseases will be covered after a maximum of four years since the inception of the policy.'"
            ]
          },
          "metadata": {
            "tags": []
          },
          "execution_count": 7
        }
      ]
    },
    {
      "cell_type": "code",
      "metadata": {
        "id": "7i8OiUZ4zPf-"
      },
      "source": [
        "%tensorflow_version 1.x"
      ],
      "execution_count": null,
      "outputs": []
    },
    {
      "cell_type": "code",
      "metadata": {
        "id": "-vNOEqq2wFED",
        "outputId": "cbfe8b57-ee05-4148-e388-52f518660425",
        "colab": {
          "base_uri": "https://localhost:8080/",
          "height": 34
        }
      },
      "source": [
        "from keras.preprocessing.text import Tokenizer"
      ],
      "execution_count": null,
      "outputs": [
        {
          "output_type": "stream",
          "text": [
            "Using TensorFlow backend.\n"
          ],
          "name": "stderr"
        }
      ]
    },
    {
      "cell_type": "code",
      "metadata": {
        "id": "jIxX9sN7zhDo"
      },
      "source": [
        "data = file"
      ],
      "execution_count": null,
      "outputs": []
    },
    {
      "cell_type": "code",
      "metadata": {
        "id": "jMxJycefzjLZ"
      },
      "source": [
        "corpus = data.lower().split(\"\\n\")   "
      ],
      "execution_count": null,
      "outputs": []
    },
    {
      "cell_type": "code",
      "metadata": {
        "id": "VQbAnUnhzlRo",
        "outputId": "deb4abe6-9190-4a42-ed5b-07e4e0ebd7f0",
        "colab": {
          "base_uri": "https://localhost:8080/",
          "height": 1000
        }
      },
      "source": [
        "corpus"
      ],
      "execution_count": null,
      "outputs": [
        {
          "output_type": "execute_result",
          "data": {
            "text/plain": [
              "['health insurance covers essential health, illness and accident expenses by protecting you from unexpected, high medical costs.',\n",
              " 'when you take a health insurance policy, the costs for your medical treatment during hospitalisation are covered by the insurer for the sum assured selected by you, on annual payment of the premium. ',\n",
              " 'you can either pay for the treatment yourself and have it reimbursed by the policy later, or go a network hospital for your treatment, where your costs are covered by the policy from the beginning.',\n",
              " 'in addition to this, the premium paid for the policy counts as tax deduction under section 80d of the income tax act, 1961.',\n",
              " 'health insurance policies can be bought for an individual or for family.',\n",
              " 'they can also be bought to protect you against critical illnesses, or any issues that you may face during maternity. ',\n",
              " 'let’s have a look at types of health insurance covers you can consider before making your buying decision.',\n",
              " 'types of health insurance policy',\n",
              " 'individual health insurance policy under the individual health insurance policy, the chosen sum assured is applicable to a person covered under the plan on an individual basis for cashless hospitalization and other benefits. ',\n",
              " 'it is a policy where each insured member is entitled to the entire amount separately.',\n",
              " 'family floater health insurance policyin the family floater health insurance policy, the chosen sum assured is applicable to all family members covered under a single cover i.e. one cover for all members. ',\n",
              " 'it can be used entirely by one member or by multiple people over multiple claims.',\n",
              " 'top-up health insurance policy the top-up health insurance plan additional coverage for people who have limited health cover insurance under an existing individual plan or coverage from the employer. ',\n",
              " 'it is for reimbursement of expenditure which arises out of single illness when the limit of the existing cover is not sufficient.',\n",
              " 'critical illness health insurance planstaken as a standalone insurance policy or a rider for treatment of serious illnesses like - cancer, kidney failure, heart attack etc. ',\n",
              " 'most critical illness insurance policies provide for payment of a lump sum benefit if the policyholder is diagnosed, suffering from one of the specified critical illnesses.',\n",
              " 'group/employee health insurance policy group/employee health insurance policies are generally purchased by companies, and cover the employees of that company against costs of medical care. ',\n",
              " 'the premiums of group medical insurance plans are generally lower than average, and the coverage against diseases and medical procedures is fairly broad.',\n",
              " 'personal accident covers personal accident insurance cover protects you and your family from expenses incurred as the result of an accident, in the event of death, disability, injury, and other unforeseen situations. ',\n",
              " 'personal accident covers can be purchased independently or as a rider to an already existing policy.',\n",
              " 'senior citizen health insurance policysenior citizen health insurance policysenior citizen health insurance plans can be purchased by those who are at least 60 years of age, or older. ',\n",
              " 'they are designed exclusively to help offset the expenses associated with medical care of older people. ',\n",
              " 'such policies generally need you to undergo a medical check-up before you can avail the plan. ',\n",
              " 'however, the premium costs on them are generally lower than usual',\n",
              " 'maternity health insurancematernity health insurance is an exclusive cover designed for pregnant women. ',\n",
              " 'it may be purchased independently, or as a rider to an existing health insurance policy. ',\n",
              " 'maternity health insurance covers both the mother and the child against costs of pre-natal, post-natal, and hospitalisation expenses, in addition to covering complications arising due to pregnancy as well.',\n",
              " 'features and benefits of health insurance policies in india',\n",
              " 'comprehensive health cover insurance options from rs.2 lakhs to rs.50 lakhs',\n",
              " 'cashless settlement - you need not pay any amount while hospitalized for treatment across wide network of hospitals',\n",
              " 'ambulance fees covered',\n",
              " 'no room rent capping',\n",
              " 'maternity benefits, including coverage of new born baby along with vaccination charges up to 10 years',\n",
              " '30 days pre- and 60 days post-hospitalization benefits',\n",
              " '130 daycare procedures covered',\n",
              " 'medical expenses incurred during organ transplant',\n",
              " 'emergency ambulance charges covered',\n",
              " 'ayush (ayurveda, unani, siddha and homeopathy) treatment is also covered',\n",
              " 'free health check-ups and discount vouchers as no claim bonus (ncb is an advantage provided if a person does not file a claim for any treatment in previous year).',\n",
              " 'entry age up to 60 years',\n",
              " 'income tax benefit under section 80d',\n",
              " 'no claim bonus on renewing the policy after every claim-free year',\n",
              " 'loyalty discounts on premium after referring family members or friends for a similar policy under the insurer',\n",
              " '24/7 toll-free call centre support to ensure that you can access your policy at any time',\n",
              " 'online application and renewal to make the policy hassle-free',\n",
              " 'ability to renew the policy lifelong, including in old age',\n",
              " 'ability to port the insurance policy to any insurer of your choice',\n",
              " 'eligibility for health insurance and documents required',\n",
              " 'individuals who are at least 18 to 21 years of age can avail a health insurance policy',\n",
              " 'dependent children can be covered under the policy between the ages of 90 days and 25 years',\n",
              " 'senior citizens can be covered under policies tailored for them from 60 years of age onwards',\n",
              " 'generally, health insurance policies require no documentation except the application form, accurately filled and signed.',\n",
              " 'however, you may be required to take a medical test if you are over a certain age.',\n",
              " 'things to consider before you buy health insurance plans',\n",
              " 'what type of insurance policy you would want to buy, for individual or for family?',\n",
              " 'what would be the ideal insurance cover for you/your family?',\n",
              " 'what add-on features you would want to opt-in for?',\n",
              " 'know the applicable sub limits (capping amount of expenses category like room rent, doctors’ fees, medical test cost etc.)',\n",
              " 'policy inclusions and exclusions.',\n",
              " 'what would be likely procedures of claim? (cashless, reimbursement)',\n",
              " 'medical check-ups required before policy acceptance?',\n",
              " 'how to apply applying for health insurance is easy. ',\n",
              " 'simply fill in our online application form, and our representative will get in touch with you to take the process further, and help you select the best health insurance plan for your needs.',\n",
              " 'what is the procedure for change of address for medical insurance?',\n",
              " 'you can change the address by giving a request letter to the insurance company on plain paper and the insurance company will pass the endorsement and give a copy of same to you. ',\n",
              " 'kindly remember to send same to your tpa also so that they can incorporate same in their records.',\n",
              " 'why do i need health insurance?',\n",
              " 'healthcare is expensive. ',\n",
              " 'technological advances, new procedures and more effective medicines have driven up the cost of healthcare. ',\n",
              " 'this increase has to be borne by the consumer, making treatment unaffordable for too many.',\n",
              " 'health insurance overcomes these obstacles so that you remain free of anxiety regarding your health. ',\n",
              " 'think for a moment about the enormous medical costs you would incur if you suffered a major accident tomorrow or were suddenly stricken by an illness. ',\n",
              " 'uninsured people live with such risks every day. ',\n",
              " 'health insurance seeks to shield you from that risk. ',\n",
              " 'it provides the much needed financial relief. ',\n",
              " 'you also get tax benefit under section 80d of the income tax act.',\n",
              " 'what is health insurance/mediclaim?',\n",
              " 'health insurance/mediclaim is protection against medical costs. ',\n",
              " 'a health insurance policy is a contract between an insurer and an individual /group in which the insurer agrees to provide specified health insurance cover at a particular premium. ',\n",
              " 'the health insurer usually provides either direct payment (cashless facility) or reimburses the expenses associated with illnesses and injuries.',\n",
              " 'i am already having health insurance and want to increase sum insured, what should i doyou can take super top up plan and increase your sum insured to desired level.',\n",
              " 'can a person have more than one health policy?',\n",
              " 'yes. but each company will pay its ratable proportion of the loss, liability, compensation, costs or expenses.',\n",
              " 'if a person has health insurance from company x for rs. 1 lac and health insurance from company y for rs. 1 lac, then in case of a claim, each policy will pay in the ratio of 50:50 up to the si.',\n",
              " 'what is cumulative bonus?',\n",
              " 'an increase in the sum insured by a specified percentage for every claim free year, subject to a certain maximum. ',\n",
              " 'an important point to be remembered is that the policy should be renewed without a break to avail of the cumulative bonus.',\n",
              " 'what are pre-existing diseases?any condition, ailment or injury or related condition(s) for which insured person had signs or symptoms and/or was diagnosed and/or received medical advice/treatment within 48 months prior to his/her health policy with the company. ',\n",
              " 'preexisting diseases will be covered after a maximum of four years since the inception of the policy.']"
            ]
          },
          "metadata": {
            "tags": []
          },
          "execution_count": 12
        }
      ]
    },
    {
      "cell_type": "code",
      "metadata": {
        "id": "xdVG6hKZ0bhS"
      },
      "source": [
        "def clean_special_chars(text, punct):\n",
        "    for p in punct:\n",
        "        text = text.replace(p, ' ')\n",
        "    return text\n",
        "\n",
        "      \n",
        "def preprocess(data):\n",
        "    output = []\n",
        "    punct = '#$%&*+-/!<=>@[\\\\]^_`{|}~\\t\\n'\n",
        "    for line in data:\n",
        "         pline= clean_special_chars(line, punct)\n",
        "         output.append(pline)\n",
        "    return output  \n"
      ],
      "execution_count": null,
      "outputs": []
    },
    {
      "cell_type": "code",
      "metadata": {
        "id": "He64bpwx0eDQ"
      },
      "source": [
        "corpus = preprocess(corpus)"
      ],
      "execution_count": null,
      "outputs": []
    },
    {
      "cell_type": "code",
      "metadata": {
        "id": "YXOzo8gE0pQW",
        "outputId": "8e3d3425-2c16-4c3d-b336-12ea363d6e25",
        "colab": {
          "base_uri": "https://localhost:8080/",
          "height": 1000
        }
      },
      "source": [
        "corpus"
      ],
      "execution_count": null,
      "outputs": [
        {
          "output_type": "execute_result",
          "data": {
            "text/plain": [
              "['health insurance covers essential health, illness and accident expenses by protecting you from unexpected, high medical costs.',\n",
              " 'when you take a health insurance policy, the costs for your medical treatment during hospitalisation are covered by the insurer for the sum assured selected by you, on annual payment of the premium. ',\n",
              " 'you can either pay for the treatment yourself and have it reimbursed by the policy later, or go a network hospital for your treatment, where your costs are covered by the policy from the beginning.',\n",
              " 'in addition to this, the premium paid for the policy counts as tax deduction under section 80d of the income tax act, 1961.',\n",
              " 'health insurance policies can be bought for an individual or for family.',\n",
              " 'they can also be bought to protect you against critical illnesses, or any issues that you may face during maternity. ',\n",
              " 'let’s have a look at types of health insurance covers you can consider before making your buying decision.',\n",
              " 'types of health insurance policy',\n",
              " 'individual health insurance policy under the individual health insurance policy, the chosen sum assured is applicable to a person covered under the plan on an individual basis for cashless hospitalization and other benefits. ',\n",
              " 'it is a policy where each insured member is entitled to the entire amount separately.',\n",
              " 'family floater health insurance policyin the family floater health insurance policy, the chosen sum assured is applicable to all family members covered under a single cover i.e. one cover for all members. ',\n",
              " 'it can be used entirely by one member or by multiple people over multiple claims.',\n",
              " 'top up health insurance policy the top up health insurance plan additional coverage for people who have limited health cover insurance under an existing individual plan or coverage from the employer. ',\n",
              " 'it is for reimbursement of expenditure which arises out of single illness when the limit of the existing cover is not sufficient.',\n",
              " 'critical illness health insurance planstaken as a standalone insurance policy or a rider for treatment of serious illnesses like   cancer, kidney failure, heart attack etc. ',\n",
              " 'most critical illness insurance policies provide for payment of a lump sum benefit if the policyholder is diagnosed, suffering from one of the specified critical illnesses.',\n",
              " 'group employee health insurance policy group employee health insurance policies are generally purchased by companies, and cover the employees of that company against costs of medical care. ',\n",
              " 'the premiums of group medical insurance plans are generally lower than average, and the coverage against diseases and medical procedures is fairly broad.',\n",
              " 'personal accident covers personal accident insurance cover protects you and your family from expenses incurred as the result of an accident, in the event of death, disability, injury, and other unforeseen situations. ',\n",
              " 'personal accident covers can be purchased independently or as a rider to an already existing policy.',\n",
              " 'senior citizen health insurance policysenior citizen health insurance policysenior citizen health insurance plans can be purchased by those who are at least 60 years of age, or older. ',\n",
              " 'they are designed exclusively to help offset the expenses associated with medical care of older people. ',\n",
              " 'such policies generally need you to undergo a medical check up before you can avail the plan. ',\n",
              " 'however, the premium costs on them are generally lower than usual',\n",
              " 'maternity health insurancematernity health insurance is an exclusive cover designed for pregnant women. ',\n",
              " 'it may be purchased independently, or as a rider to an existing health insurance policy. ',\n",
              " 'maternity health insurance covers both the mother and the child against costs of pre natal, post natal, and hospitalisation expenses, in addition to covering complications arising due to pregnancy as well.',\n",
              " 'features and benefits of health insurance policies in india',\n",
              " 'comprehensive health cover insurance options from rs.2 lakhs to rs.50 lakhs',\n",
              " 'cashless settlement   you need not pay any amount while hospitalized for treatment across wide network of hospitals',\n",
              " 'ambulance fees covered',\n",
              " 'no room rent capping',\n",
              " 'maternity benefits, including coverage of new born baby along with vaccination charges up to 10 years',\n",
              " '30 days pre  and 60 days post hospitalization benefits',\n",
              " '130 daycare procedures covered',\n",
              " 'medical expenses incurred during organ transplant',\n",
              " 'emergency ambulance charges covered',\n",
              " 'ayush (ayurveda, unani, siddha and homeopathy) treatment is also covered',\n",
              " 'free health check ups and discount vouchers as no claim bonus (ncb is an advantage provided if a person does not file a claim for any treatment in previous year).',\n",
              " 'entry age up to 60 years',\n",
              " 'income tax benefit under section 80d',\n",
              " 'no claim bonus on renewing the policy after every claim free year',\n",
              " 'loyalty discounts on premium after referring family members or friends for a similar policy under the insurer',\n",
              " '24 7 toll free call centre support to ensure that you can access your policy at any time',\n",
              " 'online application and renewal to make the policy hassle free',\n",
              " 'ability to renew the policy lifelong, including in old age',\n",
              " 'ability to port the insurance policy to any insurer of your choice',\n",
              " 'eligibility for health insurance and documents required',\n",
              " 'individuals who are at least 18 to 21 years of age can avail a health insurance policy',\n",
              " 'dependent children can be covered under the policy between the ages of 90 days and 25 years',\n",
              " 'senior citizens can be covered under policies tailored for them from 60 years of age onwards',\n",
              " 'generally, health insurance policies require no documentation except the application form, accurately filled and signed.',\n",
              " 'however, you may be required to take a medical test if you are over a certain age.',\n",
              " 'things to consider before you buy health insurance plans',\n",
              " 'what type of insurance policy you would want to buy, for individual or for family?',\n",
              " 'what would be the ideal insurance cover for you your family?',\n",
              " 'what add on features you would want to opt in for?',\n",
              " 'know the applicable sub limits (capping amount of expenses category like room rent, doctors’ fees, medical test cost etc.)',\n",
              " 'policy inclusions and exclusions.',\n",
              " 'what would be likely procedures of claim? (cashless, reimbursement)',\n",
              " 'medical check ups required before policy acceptance?',\n",
              " 'how to apply applying for health insurance is easy. ',\n",
              " 'simply fill in our online application form, and our representative will get in touch with you to take the process further, and help you select the best health insurance plan for your needs.',\n",
              " 'what is the procedure for change of address for medical insurance?',\n",
              " 'you can change the address by giving a request letter to the insurance company on plain paper and the insurance company will pass the endorsement and give a copy of same to you. ',\n",
              " 'kindly remember to send same to your tpa also so that they can incorporate same in their records.',\n",
              " 'why do i need health insurance?',\n",
              " 'healthcare is expensive. ',\n",
              " 'technological advances, new procedures and more effective medicines have driven up the cost of healthcare. ',\n",
              " 'this increase has to be borne by the consumer, making treatment unaffordable for too many.',\n",
              " 'health insurance overcomes these obstacles so that you remain free of anxiety regarding your health. ',\n",
              " 'think for a moment about the enormous medical costs you would incur if you suffered a major accident tomorrow or were suddenly stricken by an illness. ',\n",
              " 'uninsured people live with such risks every day. ',\n",
              " 'health insurance seeks to shield you from that risk. ',\n",
              " 'it provides the much needed financial relief. ',\n",
              " 'you also get tax benefit under section 80d of the income tax act.',\n",
              " 'what is health insurance mediclaim?',\n",
              " 'health insurance mediclaim is protection against medical costs. ',\n",
              " 'a health insurance policy is a contract between an insurer and an individual  group in which the insurer agrees to provide specified health insurance cover at a particular premium. ',\n",
              " 'the health insurer usually provides either direct payment (cashless facility) or reimburses the expenses associated with illnesses and injuries.',\n",
              " 'i am already having health insurance and want to increase sum insured, what should i doyou can take super top up plan and increase your sum insured to desired level.',\n",
              " 'can a person have more than one health policy?',\n",
              " 'yes. but each company will pay its ratable proportion of the loss, liability, compensation, costs or expenses.',\n",
              " 'if a person has health insurance from company x for rs. 1 lac and health insurance from company y for rs. 1 lac, then in case of a claim, each policy will pay in the ratio of 50:50 up to the si.',\n",
              " 'what is cumulative bonus?',\n",
              " 'an increase in the sum insured by a specified percentage for every claim free year, subject to a certain maximum. ',\n",
              " 'an important point to be remembered is that the policy should be renewed without a break to avail of the cumulative bonus.',\n",
              " 'what are pre existing diseases?any condition, ailment or injury or related condition(s) for which insured person had signs or symptoms and or was diagnosed and or received medical advice treatment within 48 months prior to his her health policy with the company. ',\n",
              " 'preexisting diseases will be covered after a maximum of four years since the inception of the policy.']"
            ]
          },
          "metadata": {
            "tags": []
          },
          "execution_count": 15
        }
      ]
    },
    {
      "cell_type": "code",
      "metadata": {
        "id": "sDV-QBFi1Pen",
        "outputId": "1d2ed4b7-8db0-4c94-9052-58965043b695",
        "colab": {
          "base_uri": "https://localhost:8080/",
          "height": 34
        }
      },
      "source": [
        "len(corpus)"
      ],
      "execution_count": null,
      "outputs": [
        {
          "output_type": "execute_result",
          "data": {
            "text/plain": [
              "89"
            ]
          },
          "metadata": {
            "tags": []
          },
          "execution_count": 16
        }
      ]
    },
    {
      "cell_type": "code",
      "metadata": {
        "id": "Go_xxD1Szn1h"
      },
      "source": [
        "tokenizer = Tokenizer()"
      ],
      "execution_count": null,
      "outputs": []
    },
    {
      "cell_type": "code",
      "metadata": {
        "id": "8hOWp8K-zttR"
      },
      "source": [
        "tokenizer.fit_on_texts(corpus)"
      ],
      "execution_count": null,
      "outputs": []
    },
    {
      "cell_type": "code",
      "metadata": {
        "id": "rxVWPHvez0PQ"
      },
      "source": [
        "total_words = len(tokenizer.word_index) + 1"
      ],
      "execution_count": null,
      "outputs": []
    },
    {
      "cell_type": "code",
      "metadata": {
        "id": "x7mZLBvCzGpl",
        "outputId": "19d2249e-37f8-4358-da11-a691b54aca7b",
        "colab": {
          "base_uri": "https://localhost:8080/",
          "height": 34
        }
      },
      "source": [
        "total_words"
      ],
      "execution_count": null,
      "outputs": [
        {
          "output_type": "execute_result",
          "data": {
            "text/plain": [
              "501"
            ]
          },
          "metadata": {
            "tags": []
          },
          "execution_count": 20
        }
      ]
    },
    {
      "cell_type": "code",
      "metadata": {
        "id": "p477ildT0U3S"
      },
      "source": [
        "input_sequences = []"
      ],
      "execution_count": null,
      "outputs": []
    },
    {
      "cell_type": "code",
      "metadata": {
        "id": "CnNPHJIb0AMQ"
      },
      "source": [
        "for line in corpus:\n",
        "    token_list = tokenizer.texts_to_sequences([line])[0]\n",
        "    for i in range(1,len(token_list)):\n",
        "        n_gram_sequence = token_list[:i+1]\n",
        "        input_sequences.append(n_gram_sequence)"
      ],
      "execution_count": null,
      "outputs": []
    },
    {
      "cell_type": "code",
      "metadata": {
        "id": "aKymTdH-0wva",
        "outputId": "8efc5a75-685b-4346-ccfe-ff79947b008c",
        "colab": {
          "base_uri": "https://localhost:8080/",
          "height": 34
        }
      },
      "source": [
        "len(input_sequences)"
      ],
      "execution_count": null,
      "outputs": [
        {
          "output_type": "execute_result",
          "data": {
            "text/plain": [
              "1381"
            ]
          },
          "metadata": {
            "tags": []
          },
          "execution_count": 23
        }
      ]
    },
    {
      "cell_type": "code",
      "metadata": {
        "id": "xpbiZf2609il",
        "outputId": "ff094a19-9bd9-4741-dcd5-a627b59869df",
        "colab": {
          "base_uri": "https://localhost:8080/",
          "height": 1000
        }
      },
      "source": [
        "input_sequences[0:100]"
      ],
      "execution_count": null,
      "outputs": [
        {
          "output_type": "execute_result",
          "data": {
            "text/plain": [
              "[[3, 2],\n",
              " [3, 2, 48],\n",
              " [3, 2, 48, 200],\n",
              " [3, 2, 48, 200, 3],\n",
              " [3, 2, 48, 200, 3, 49],\n",
              " [3, 2, 48, 200, 3, 49, 8],\n",
              " [3, 2, 48, 200, 3, 49, 8, 40],\n",
              " [3, 2, 48, 200, 3, 49, 8, 40, 28],\n",
              " [3, 2, 48, 200, 3, 49, 8, 40, 28, 17],\n",
              " [3, 2, 48, 200, 3, 49, 8, 40, 28, 17, 201],\n",
              " [3, 2, 48, 200, 3, 49, 8, 40, 28, 17, 201, 10],\n",
              " [3, 2, 48, 200, 3, 49, 8, 40, 28, 17, 201, 10, 21],\n",
              " [3, 2, 48, 200, 3, 49, 8, 40, 28, 17, 201, 10, 21, 202],\n",
              " [3, 2, 48, 200, 3, 49, 8, 40, 28, 17, 201, 10, 21, 202, 203],\n",
              " [3, 2, 48, 200, 3, 49, 8, 40, 28, 17, 201, 10, 21, 202, 203, 14],\n",
              " [3, 2, 48, 200, 3, 49, 8, 40, 28, 17, 201, 10, 21, 202, 203, 14, 25],\n",
              " [120, 10],\n",
              " [120, 10, 62],\n",
              " [120, 10, 62, 7],\n",
              " [120, 10, 62, 7, 3],\n",
              " [120, 10, 62, 7, 3, 2],\n",
              " [120, 10, 62, 7, 3, 2, 9],\n",
              " [120, 10, 62, 7, 3, 2, 9, 1],\n",
              " [120, 10, 62, 7, 3, 2, 9, 1, 25],\n",
              " [120, 10, 62, 7, 3, 2, 9, 1, 25, 6],\n",
              " [120, 10, 62, 7, 3, 2, 9, 1, 25, 6, 19],\n",
              " [120, 10, 62, 7, 3, 2, 9, 1, 25, 6, 19, 14],\n",
              " [120, 10, 62, 7, 3, 2, 9, 1, 25, 6, 19, 14, 26],\n",
              " [120, 10, 62, 7, 3, 2, 9, 1, 25, 6, 19, 14, 26, 83],\n",
              " [120, 10, 62, 7, 3, 2, 9, 1, 25, 6, 19, 14, 26, 83, 121],\n",
              " [120, 10, 62, 7, 3, 2, 9, 1, 25, 6, 19, 14, 26, 83, 121, 22],\n",
              " [120, 10, 62, 7, 3, 2, 9, 1, 25, 6, 19, 14, 26, 83, 121, 22, 20],\n",
              " [120, 10, 62, 7, 3, 2, 9, 1, 25, 6, 19, 14, 26, 83, 121, 22, 20, 17],\n",
              " [120, 10, 62, 7, 3, 2, 9, 1, 25, 6, 19, 14, 26, 83, 121, 22, 20, 17, 1],\n",
              " [120, 10, 62, 7, 3, 2, 9, 1, 25, 6, 19, 14, 26, 83, 121, 22, 20, 17, 1, 41],\n",
              " [120,\n",
              "  10,\n",
              "  62,\n",
              "  7,\n",
              "  3,\n",
              "  2,\n",
              "  9,\n",
              "  1,\n",
              "  25,\n",
              "  6,\n",
              "  19,\n",
              "  14,\n",
              "  26,\n",
              "  83,\n",
              "  121,\n",
              "  22,\n",
              "  20,\n",
              "  17,\n",
              "  1,\n",
              "  41,\n",
              "  6],\n",
              " [120,\n",
              "  10,\n",
              "  62,\n",
              "  7,\n",
              "  3,\n",
              "  2,\n",
              "  9,\n",
              "  1,\n",
              "  25,\n",
              "  6,\n",
              "  19,\n",
              "  14,\n",
              "  26,\n",
              "  83,\n",
              "  121,\n",
              "  22,\n",
              "  20,\n",
              "  17,\n",
              "  1,\n",
              "  41,\n",
              "  6,\n",
              "  1],\n",
              " [120,\n",
              "  10,\n",
              "  62,\n",
              "  7,\n",
              "  3,\n",
              "  2,\n",
              "  9,\n",
              "  1,\n",
              "  25,\n",
              "  6,\n",
              "  19,\n",
              "  14,\n",
              "  26,\n",
              "  83,\n",
              "  121,\n",
              "  22,\n",
              "  20,\n",
              "  17,\n",
              "  1,\n",
              "  41,\n",
              "  6,\n",
              "  1,\n",
              "  31],\n",
              " [120,\n",
              "  10,\n",
              "  62,\n",
              "  7,\n",
              "  3,\n",
              "  2,\n",
              "  9,\n",
              "  1,\n",
              "  25,\n",
              "  6,\n",
              "  19,\n",
              "  14,\n",
              "  26,\n",
              "  83,\n",
              "  121,\n",
              "  22,\n",
              "  20,\n",
              "  17,\n",
              "  1,\n",
              "  41,\n",
              "  6,\n",
              "  1,\n",
              "  31,\n",
              "  84],\n",
              " [120,\n",
              "  10,\n",
              "  62,\n",
              "  7,\n",
              "  3,\n",
              "  2,\n",
              "  9,\n",
              "  1,\n",
              "  25,\n",
              "  6,\n",
              "  19,\n",
              "  14,\n",
              "  26,\n",
              "  83,\n",
              "  121,\n",
              "  22,\n",
              "  20,\n",
              "  17,\n",
              "  1,\n",
              "  41,\n",
              "  6,\n",
              "  1,\n",
              "  31,\n",
              "  84,\n",
              "  204],\n",
              " [120,\n",
              "  10,\n",
              "  62,\n",
              "  7,\n",
              "  3,\n",
              "  2,\n",
              "  9,\n",
              "  1,\n",
              "  25,\n",
              "  6,\n",
              "  19,\n",
              "  14,\n",
              "  26,\n",
              "  83,\n",
              "  121,\n",
              "  22,\n",
              "  20,\n",
              "  17,\n",
              "  1,\n",
              "  41,\n",
              "  6,\n",
              "  1,\n",
              "  31,\n",
              "  84,\n",
              "  204,\n",
              "  17],\n",
              " [120,\n",
              "  10,\n",
              "  62,\n",
              "  7,\n",
              "  3,\n",
              "  2,\n",
              "  9,\n",
              "  1,\n",
              "  25,\n",
              "  6,\n",
              "  19,\n",
              "  14,\n",
              "  26,\n",
              "  83,\n",
              "  121,\n",
              "  22,\n",
              "  20,\n",
              "  17,\n",
              "  1,\n",
              "  41,\n",
              "  6,\n",
              "  1,\n",
              "  31,\n",
              "  84,\n",
              "  204,\n",
              "  17,\n",
              "  10],\n",
              " [120,\n",
              "  10,\n",
              "  62,\n",
              "  7,\n",
              "  3,\n",
              "  2,\n",
              "  9,\n",
              "  1,\n",
              "  25,\n",
              "  6,\n",
              "  19,\n",
              "  14,\n",
              "  26,\n",
              "  83,\n",
              "  121,\n",
              "  22,\n",
              "  20,\n",
              "  17,\n",
              "  1,\n",
              "  41,\n",
              "  6,\n",
              "  1,\n",
              "  31,\n",
              "  84,\n",
              "  204,\n",
              "  17,\n",
              "  10,\n",
              "  32],\n",
              " [120,\n",
              "  10,\n",
              "  62,\n",
              "  7,\n",
              "  3,\n",
              "  2,\n",
              "  9,\n",
              "  1,\n",
              "  25,\n",
              "  6,\n",
              "  19,\n",
              "  14,\n",
              "  26,\n",
              "  83,\n",
              "  121,\n",
              "  22,\n",
              "  20,\n",
              "  17,\n",
              "  1,\n",
              "  41,\n",
              "  6,\n",
              "  1,\n",
              "  31,\n",
              "  84,\n",
              "  204,\n",
              "  17,\n",
              "  10,\n",
              "  32,\n",
              "  205],\n",
              " [120,\n",
              "  10,\n",
              "  62,\n",
              "  7,\n",
              "  3,\n",
              "  2,\n",
              "  9,\n",
              "  1,\n",
              "  25,\n",
              "  6,\n",
              "  19,\n",
              "  14,\n",
              "  26,\n",
              "  83,\n",
              "  121,\n",
              "  22,\n",
              "  20,\n",
              "  17,\n",
              "  1,\n",
              "  41,\n",
              "  6,\n",
              "  1,\n",
              "  31,\n",
              "  84,\n",
              "  204,\n",
              "  17,\n",
              "  10,\n",
              "  32,\n",
              "  205,\n",
              "  85],\n",
              " [120,\n",
              "  10,\n",
              "  62,\n",
              "  7,\n",
              "  3,\n",
              "  2,\n",
              "  9,\n",
              "  1,\n",
              "  25,\n",
              "  6,\n",
              "  19,\n",
              "  14,\n",
              "  26,\n",
              "  83,\n",
              "  121,\n",
              "  22,\n",
              "  20,\n",
              "  17,\n",
              "  1,\n",
              "  41,\n",
              "  6,\n",
              "  1,\n",
              "  31,\n",
              "  84,\n",
              "  204,\n",
              "  17,\n",
              "  10,\n",
              "  32,\n",
              "  205,\n",
              "  85,\n",
              "  5],\n",
              " [120,\n",
              "  10,\n",
              "  62,\n",
              "  7,\n",
              "  3,\n",
              "  2,\n",
              "  9,\n",
              "  1,\n",
              "  25,\n",
              "  6,\n",
              "  19,\n",
              "  14,\n",
              "  26,\n",
              "  83,\n",
              "  121,\n",
              "  22,\n",
              "  20,\n",
              "  17,\n",
              "  1,\n",
              "  41,\n",
              "  6,\n",
              "  1,\n",
              "  31,\n",
              "  84,\n",
              "  204,\n",
              "  17,\n",
              "  10,\n",
              "  32,\n",
              "  205,\n",
              "  85,\n",
              "  5,\n",
              "  1],\n",
              " [120,\n",
              "  10,\n",
              "  62,\n",
              "  7,\n",
              "  3,\n",
              "  2,\n",
              "  9,\n",
              "  1,\n",
              "  25,\n",
              "  6,\n",
              "  19,\n",
              "  14,\n",
              "  26,\n",
              "  83,\n",
              "  121,\n",
              "  22,\n",
              "  20,\n",
              "  17,\n",
              "  1,\n",
              "  41,\n",
              "  6,\n",
              "  1,\n",
              "  31,\n",
              "  84,\n",
              "  204,\n",
              "  17,\n",
              "  10,\n",
              "  32,\n",
              "  205,\n",
              "  85,\n",
              "  5,\n",
              "  1,\n",
              "  50],\n",
              " [10, 13],\n",
              " [10, 13, 122],\n",
              " [10, 13, 122, 63],\n",
              " [10, 13, 122, 63, 6],\n",
              " [10, 13, 122, 63, 6, 1],\n",
              " [10, 13, 122, 63, 6, 1, 26],\n",
              " [10, 13, 122, 63, 6, 1, 26, 206],\n",
              " [10, 13, 122, 63, 6, 1, 26, 206, 8],\n",
              " [10, 13, 122, 63, 6, 1, 26, 206, 8, 51],\n",
              " [10, 13, 122, 63, 6, 1, 26, 206, 8, 51, 42],\n",
              " [10, 13, 122, 63, 6, 1, 26, 206, 8, 51, 42, 207],\n",
              " [10, 13, 122, 63, 6, 1, 26, 206, 8, 51, 42, 207, 17],\n",
              " [10, 13, 122, 63, 6, 1, 26, 206, 8, 51, 42, 207, 17, 1],\n",
              " [10, 13, 122, 63, 6, 1, 26, 206, 8, 51, 42, 207, 17, 1, 9],\n",
              " [10, 13, 122, 63, 6, 1, 26, 206, 8, 51, 42, 207, 17, 1, 9, 208],\n",
              " [10, 13, 122, 63, 6, 1, 26, 206, 8, 51, 42, 207, 17, 1, 9, 208, 11],\n",
              " [10, 13, 122, 63, 6, 1, 26, 206, 8, 51, 42, 207, 17, 1, 9, 208, 11, 209],\n",
              " [10, 13, 122, 63, 6, 1, 26, 206, 8, 51, 42, 207, 17, 1, 9, 208, 11, 209, 7],\n",
              " [10,\n",
              "  13,\n",
              "  122,\n",
              "  63,\n",
              "  6,\n",
              "  1,\n",
              "  26,\n",
              "  206,\n",
              "  8,\n",
              "  51,\n",
              "  42,\n",
              "  207,\n",
              "  17,\n",
              "  1,\n",
              "  9,\n",
              "  208,\n",
              "  11,\n",
              "  209,\n",
              "  7,\n",
              "  123],\n",
              " [10,\n",
              "  13,\n",
              "  122,\n",
              "  63,\n",
              "  6,\n",
              "  1,\n",
              "  26,\n",
              "  206,\n",
              "  8,\n",
              "  51,\n",
              "  42,\n",
              "  207,\n",
              "  17,\n",
              "  1,\n",
              "  9,\n",
              "  208,\n",
              "  11,\n",
              "  209,\n",
              "  7,\n",
              "  123,\n",
              "  210],\n",
              " [10,\n",
              "  13,\n",
              "  122,\n",
              "  63,\n",
              "  6,\n",
              "  1,\n",
              "  26,\n",
              "  206,\n",
              "  8,\n",
              "  51,\n",
              "  42,\n",
              "  207,\n",
              "  17,\n",
              "  1,\n",
              "  9,\n",
              "  208,\n",
              "  11,\n",
              "  209,\n",
              "  7,\n",
              "  123,\n",
              "  210,\n",
              "  6],\n",
              " [10,\n",
              "  13,\n",
              "  122,\n",
              "  63,\n",
              "  6,\n",
              "  1,\n",
              "  26,\n",
              "  206,\n",
              "  8,\n",
              "  51,\n",
              "  42,\n",
              "  207,\n",
              "  17,\n",
              "  1,\n",
              "  9,\n",
              "  208,\n",
              "  11,\n",
              "  209,\n",
              "  7,\n",
              "  123,\n",
              "  210,\n",
              "  6,\n",
              "  19],\n",
              " [10,\n",
              "  13,\n",
              "  122,\n",
              "  63,\n",
              "  6,\n",
              "  1,\n",
              "  26,\n",
              "  206,\n",
              "  8,\n",
              "  51,\n",
              "  42,\n",
              "  207,\n",
              "  17,\n",
              "  1,\n",
              "  9,\n",
              "  208,\n",
              "  11,\n",
              "  209,\n",
              "  7,\n",
              "  123,\n",
              "  210,\n",
              "  6,\n",
              "  19,\n",
              "  26],\n",
              " [10,\n",
              "  13,\n",
              "  122,\n",
              "  63,\n",
              "  6,\n",
              "  1,\n",
              "  26,\n",
              "  206,\n",
              "  8,\n",
              "  51,\n",
              "  42,\n",
              "  207,\n",
              "  17,\n",
              "  1,\n",
              "  9,\n",
              "  208,\n",
              "  11,\n",
              "  209,\n",
              "  7,\n",
              "  123,\n",
              "  210,\n",
              "  6,\n",
              "  19,\n",
              "  26,\n",
              "  124],\n",
              " [10,\n",
              "  13,\n",
              "  122,\n",
              "  63,\n",
              "  6,\n",
              "  1,\n",
              "  26,\n",
              "  206,\n",
              "  8,\n",
              "  51,\n",
              "  42,\n",
              "  207,\n",
              "  17,\n",
              "  1,\n",
              "  9,\n",
              "  208,\n",
              "  11,\n",
              "  209,\n",
              "  7,\n",
              "  123,\n",
              "  210,\n",
              "  6,\n",
              "  19,\n",
              "  26,\n",
              "  124,\n",
              "  19],\n",
              " [10,\n",
              "  13,\n",
              "  122,\n",
              "  63,\n",
              "  6,\n",
              "  1,\n",
              "  26,\n",
              "  206,\n",
              "  8,\n",
              "  51,\n",
              "  42,\n",
              "  207,\n",
              "  17,\n",
              "  1,\n",
              "  9,\n",
              "  208,\n",
              "  11,\n",
              "  209,\n",
              "  7,\n",
              "  123,\n",
              "  210,\n",
              "  6,\n",
              "  19,\n",
              "  26,\n",
              "  124,\n",
              "  19,\n",
              "  25],\n",
              " [10,\n",
              "  13,\n",
              "  122,\n",
              "  63,\n",
              "  6,\n",
              "  1,\n",
              "  26,\n",
              "  206,\n",
              "  8,\n",
              "  51,\n",
              "  42,\n",
              "  207,\n",
              "  17,\n",
              "  1,\n",
              "  9,\n",
              "  208,\n",
              "  11,\n",
              "  209,\n",
              "  7,\n",
              "  123,\n",
              "  210,\n",
              "  6,\n",
              "  19,\n",
              "  26,\n",
              "  124,\n",
              "  19,\n",
              "  25,\n",
              "  22],\n",
              " [10,\n",
              "  13,\n",
              "  122,\n",
              "  63,\n",
              "  6,\n",
              "  1,\n",
              "  26,\n",
              "  206,\n",
              "  8,\n",
              "  51,\n",
              "  42,\n",
              "  207,\n",
              "  17,\n",
              "  1,\n",
              "  9,\n",
              "  208,\n",
              "  11,\n",
              "  209,\n",
              "  7,\n",
              "  123,\n",
              "  210,\n",
              "  6,\n",
              "  19,\n",
              "  26,\n",
              "  124,\n",
              "  19,\n",
              "  25,\n",
              "  22,\n",
              "  20],\n",
              " [10,\n",
              "  13,\n",
              "  122,\n",
              "  63,\n",
              "  6,\n",
              "  1,\n",
              "  26,\n",
              "  206,\n",
              "  8,\n",
              "  51,\n",
              "  42,\n",
              "  207,\n",
              "  17,\n",
              "  1,\n",
              "  9,\n",
              "  208,\n",
              "  11,\n",
              "  209,\n",
              "  7,\n",
              "  123,\n",
              "  210,\n",
              "  6,\n",
              "  19,\n",
              "  26,\n",
              "  124,\n",
              "  19,\n",
              "  25,\n",
              "  22,\n",
              "  20,\n",
              "  17],\n",
              " [10,\n",
              "  13,\n",
              "  122,\n",
              "  63,\n",
              "  6,\n",
              "  1,\n",
              "  26,\n",
              "  206,\n",
              "  8,\n",
              "  51,\n",
              "  42,\n",
              "  207,\n",
              "  17,\n",
              "  1,\n",
              "  9,\n",
              "  208,\n",
              "  11,\n",
              "  209,\n",
              "  7,\n",
              "  123,\n",
              "  210,\n",
              "  6,\n",
              "  19,\n",
              "  26,\n",
              "  124,\n",
              "  19,\n",
              "  25,\n",
              "  22,\n",
              "  20,\n",
              "  17,\n",
              "  1],\n",
              " [10,\n",
              "  13,\n",
              "  122,\n",
              "  63,\n",
              "  6,\n",
              "  1,\n",
              "  26,\n",
              "  206,\n",
              "  8,\n",
              "  51,\n",
              "  42,\n",
              "  207,\n",
              "  17,\n",
              "  1,\n",
              "  9,\n",
              "  208,\n",
              "  11,\n",
              "  209,\n",
              "  7,\n",
              "  123,\n",
              "  210,\n",
              "  6,\n",
              "  19,\n",
              "  26,\n",
              "  124,\n",
              "  19,\n",
              "  25,\n",
              "  22,\n",
              "  20,\n",
              "  17,\n",
              "  1,\n",
              "  9],\n",
              " [10,\n",
              "  13,\n",
              "  122,\n",
              "  63,\n",
              "  6,\n",
              "  1,\n",
              "  26,\n",
              "  206,\n",
              "  8,\n",
              "  51,\n",
              "  42,\n",
              "  207,\n",
              "  17,\n",
              "  1,\n",
              "  9,\n",
              "  208,\n",
              "  11,\n",
              "  209,\n",
              "  7,\n",
              "  123,\n",
              "  210,\n",
              "  6,\n",
              "  19,\n",
              "  26,\n",
              "  124,\n",
              "  19,\n",
              "  25,\n",
              "  22,\n",
              "  20,\n",
              "  17,\n",
              "  1,\n",
              "  9,\n",
              "  21],\n",
              " [10,\n",
              "  13,\n",
              "  122,\n",
              "  63,\n",
              "  6,\n",
              "  1,\n",
              "  26,\n",
              "  206,\n",
              "  8,\n",
              "  51,\n",
              "  42,\n",
              "  207,\n",
              "  17,\n",
              "  1,\n",
              "  9,\n",
              "  208,\n",
              "  11,\n",
              "  209,\n",
              "  7,\n",
              "  123,\n",
              "  210,\n",
              "  6,\n",
              "  19,\n",
              "  26,\n",
              "  124,\n",
              "  19,\n",
              "  25,\n",
              "  22,\n",
              "  20,\n",
              "  17,\n",
              "  1,\n",
              "  9,\n",
              "  21,\n",
              "  1],\n",
              " [10,\n",
              "  13,\n",
              "  122,\n",
              "  63,\n",
              "  6,\n",
              "  1,\n",
              "  26,\n",
              "  206,\n",
              "  8,\n",
              "  51,\n",
              "  42,\n",
              "  207,\n",
              "  17,\n",
              "  1,\n",
              "  9,\n",
              "  208,\n",
              "  11,\n",
              "  209,\n",
              "  7,\n",
              "  123,\n",
              "  210,\n",
              "  6,\n",
              "  19,\n",
              "  26,\n",
              "  124,\n",
              "  19,\n",
              "  25,\n",
              "  22,\n",
              "  20,\n",
              "  17,\n",
              "  1,\n",
              "  9,\n",
              "  21,\n",
              "  1,\n",
              "  211],\n",
              " [16, 125],\n",
              " [16, 125, 4],\n",
              " [16, 125, 4, 126],\n",
              " [16, 125, 4, 126, 1],\n",
              " [16, 125, 4, 126, 1, 50],\n",
              " [16, 125, 4, 126, 1, 50, 212],\n",
              " [16, 125, 4, 126, 1, 50, 212, 6],\n",
              " [16, 125, 4, 126, 1, 50, 212, 6, 1],\n",
              " [16, 125, 4, 126, 1, 50, 212, 6, 1, 9],\n",
              " [16, 125, 4, 126, 1, 50, 212, 6, 1, 9, 213],\n",
              " [16, 125, 4, 126, 1, 50, 212, 6, 1, 9, 213, 33],\n",
              " [16, 125, 4, 126, 1, 50, 212, 6, 1, 9, 213, 33, 52],\n",
              " [16, 125, 4, 126, 1, 50, 212, 6, 1, 9, 213, 33, 52, 214],\n",
              " [16, 125, 4, 126, 1, 50, 212, 6, 1, 9, 213, 33, 52, 214, 23],\n",
              " [16, 125, 4, 126, 1, 50, 212, 6, 1, 9, 213, 33, 52, 214, 23, 86],\n",
              " [16, 125, 4, 126, 1, 50, 212, 6, 1, 9, 213, 33, 52, 214, 23, 86, 87],\n",
              " [16, 125, 4, 126, 1, 50, 212, 6, 1, 9, 213, 33, 52, 214, 23, 86, 87, 5],\n",
              " [16, 125, 4, 126, 1, 50, 212, 6, 1, 9, 213, 33, 52, 214, 23, 86, 87, 5, 1]]"
            ]
          },
          "metadata": {
            "tags": []
          },
          "execution_count": 24
        }
      ]
    },
    {
      "cell_type": "code",
      "metadata": {
        "id": "XN42CrHb1Maf"
      },
      "source": [
        "max_sequence_len = max([len(x) for x in input_sequences])"
      ],
      "execution_count": null,
      "outputs": []
    },
    {
      "cell_type": "code",
      "metadata": {
        "id": "KVx36tYg3Fij",
        "outputId": "0621f4c2-c230-487d-9015-38bd6ec8af81",
        "colab": {
          "base_uri": "https://localhost:8080/",
          "height": 34
        }
      },
      "source": [
        "max_sequence_len"
      ],
      "execution_count": null,
      "outputs": [
        {
          "output_type": "execute_result",
          "data": {
            "text/plain": [
              "44"
            ]
          },
          "metadata": {
            "tags": []
          },
          "execution_count": 26
        }
      ]
    },
    {
      "cell_type": "code",
      "metadata": {
        "id": "qhGW4kXq3LGg"
      },
      "source": [
        "import numpy as np"
      ],
      "execution_count": null,
      "outputs": []
    },
    {
      "cell_type": "code",
      "metadata": {
        "id": "In_Je4Eh3PZc"
      },
      "source": [
        "from keras.preprocessing.sequence import pad_sequences"
      ],
      "execution_count": null,
      "outputs": []
    },
    {
      "cell_type": "code",
      "metadata": {
        "id": "5diG-h_n3HAj"
      },
      "source": [
        "input_sequences = np.array(pad_sequences(input_sequences,   \n",
        "                          maxlen=max_sequence_len, padding='pre'))"
      ],
      "execution_count": null,
      "outputs": []
    },
    {
      "cell_type": "code",
      "metadata": {
        "id": "VpCOD3X43Jfi",
        "outputId": "aeb72605-de5c-44c1-8f61-9760733e21a2",
        "colab": {
          "base_uri": "https://localhost:8080/",
          "height": 357
        }
      },
      "source": [
        "input_sequences[0:5]"
      ],
      "execution_count": null,
      "outputs": [
        {
          "output_type": "execute_result",
          "data": {
            "text/plain": [
              "array([[  0,   0,   0,   0,   0,   0,   0,   0,   0,   0,   0,   0,   0,\n",
              "          0,   0,   0,   0,   0,   0,   0,   0,   0,   0,   0,   0,   0,\n",
              "          0,   0,   0,   0,   0,   0,   0,   0,   0,   0,   0,   0,   0,\n",
              "          0,   0,   0,   3,   2],\n",
              "       [  0,   0,   0,   0,   0,   0,   0,   0,   0,   0,   0,   0,   0,\n",
              "          0,   0,   0,   0,   0,   0,   0,   0,   0,   0,   0,   0,   0,\n",
              "          0,   0,   0,   0,   0,   0,   0,   0,   0,   0,   0,   0,   0,\n",
              "          0,   0,   3,   2,  48],\n",
              "       [  0,   0,   0,   0,   0,   0,   0,   0,   0,   0,   0,   0,   0,\n",
              "          0,   0,   0,   0,   0,   0,   0,   0,   0,   0,   0,   0,   0,\n",
              "          0,   0,   0,   0,   0,   0,   0,   0,   0,   0,   0,   0,   0,\n",
              "          0,   3,   2,  48, 200],\n",
              "       [  0,   0,   0,   0,   0,   0,   0,   0,   0,   0,   0,   0,   0,\n",
              "          0,   0,   0,   0,   0,   0,   0,   0,   0,   0,   0,   0,   0,\n",
              "          0,   0,   0,   0,   0,   0,   0,   0,   0,   0,   0,   0,   0,\n",
              "          3,   2,  48, 200,   3],\n",
              "       [  0,   0,   0,   0,   0,   0,   0,   0,   0,   0,   0,   0,   0,\n",
              "          0,   0,   0,   0,   0,   0,   0,   0,   0,   0,   0,   0,   0,\n",
              "          0,   0,   0,   0,   0,   0,   0,   0,   0,   0,   0,   0,   3,\n",
              "          2,  48, 200,   3,  49]], dtype=int32)"
            ]
          },
          "metadata": {
            "tags": []
          },
          "execution_count": 30
        }
      ]
    },
    {
      "cell_type": "code",
      "metadata": {
        "id": "zdtqhU2y6nCE"
      },
      "source": [
        "import pickle"
      ],
      "execution_count": null,
      "outputs": []
    },
    {
      "cell_type": "code",
      "metadata": {
        "id": "li_q246O6MTj"
      },
      "source": [
        "with open('/content/drive/My Drive/WordPrediction/input_sequences_bajaj.pickle', 'wb') as inp_seq:\n",
        "    pickle.dump(input_sequences, inp_seq)"
      ],
      "execution_count": null,
      "outputs": []
    },
    {
      "cell_type": "code",
      "metadata": {
        "id": "2p5tqocB8hAE"
      },
      "source": [
        "input_sequences = pickle.load(open(\"/content/drive/My Drive/WordPrediction/input_sequences_bajaj.pickle\", \"rb\" ) )"
      ],
      "execution_count": null,
      "outputs": []
    },
    {
      "cell_type": "code",
      "metadata": {
        "id": "W9o6QesL89o9",
        "outputId": "28e733a6-d03c-4e99-f57e-335efafdce35",
        "colab": {
          "base_uri": "https://localhost:8080/",
          "height": 34
        }
      },
      "source": [
        "type(input_sequences)"
      ],
      "execution_count": null,
      "outputs": [
        {
          "output_type": "execute_result",
          "data": {
            "text/plain": [
              "numpy.ndarray"
            ]
          },
          "metadata": {
            "tags": []
          },
          "execution_count": 49
        }
      ]
    },
    {
      "cell_type": "code",
      "metadata": {
        "id": "xIe4lG8d4Bhf"
      },
      "source": [
        "import keras.utils as ku"
      ],
      "execution_count": null,
      "outputs": []
    },
    {
      "cell_type": "code",
      "metadata": {
        "id": "S9rni48V3UXz"
      },
      "source": [
        "predictors, label = input_sequences[:,:-1],input_sequences[:,-1]\n",
        "label = ku.to_categorical(label, num_classes=total_words)"
      ],
      "execution_count": null,
      "outputs": []
    },
    {
      "cell_type": "code",
      "metadata": {
        "id": "EWk7Pr-S-T3w"
      },
      "source": [
        "with open('/content/drive/My Drive/WordPrediction/predictors_bajaj.pickle', 'wb') as predictor:\n",
        "    pickle.dump(predictors, predictor)\n",
        "\n",
        "with open('/content/drive/My Drive/WordPrediction/label_bajaj.pickle', 'wb') as lab:\n",
        "    pickle.dump(label, lab)\n"
      ],
      "execution_count": null,
      "outputs": []
    },
    {
      "cell_type": "code",
      "metadata": {
        "id": "vOwS3C5d_YaM"
      },
      "source": [
        "predictors = pickle.load(open(\"/content/drive/My Drive/WordPrediction/predictors_bajaj.pickle\", \"rb\" ) )\n",
        "label = pickle.load(open(\"/content/drive/My Drive/WordPrediction/label_bajaj.pickle\", \"rb\" ) )"
      ],
      "execution_count": null,
      "outputs": []
    },
    {
      "cell_type": "code",
      "metadata": {
        "id": "9ZfFIiuwliIu",
        "outputId": "d0b0f754-3918-4196-fe5c-cbbe341efebd",
        "colab": {
          "base_uri": "https://localhost:8080/",
          "height": 34
        }
      },
      "source": [
        "label.shape"
      ],
      "execution_count": null,
      "outputs": [
        {
          "output_type": "execute_result",
          "data": {
            "text/plain": [
              "(1381, 501)"
            ]
          },
          "metadata": {
            "tags": []
          },
          "execution_count": 52
        }
      ]
    },
    {
      "cell_type": "code",
      "metadata": {
        "id": "DWf1RYlr4NdX",
        "outputId": "0350f93d-360b-4222-f359-689194bbc76b",
        "colab": {
          "base_uri": "https://localhost:8080/",
          "height": 34
        }
      },
      "source": [
        "predictors.shape"
      ],
      "execution_count": null,
      "outputs": [
        {
          "output_type": "execute_result",
          "data": {
            "text/plain": [
              "(1381, 43)"
            ]
          },
          "metadata": {
            "tags": []
          },
          "execution_count": 53
        }
      ]
    },
    {
      "cell_type": "code",
      "metadata": {
        "id": "4-haezaMndRq"
      },
      "source": [
        "from numpy import array\n",
        "from numpy import asarray\n",
        "from numpy import zeros"
      ],
      "execution_count": null,
      "outputs": []
    },
    {
      "cell_type": "code",
      "metadata": {
        "id": "nCyoR9Bo38fC",
        "outputId": "0159face-eff5-41cc-e629-0a7a8c6393dc",
        "colab": {
          "base_uri": "https://localhost:8080/",
          "height": 34
        }
      },
      "source": [
        "embeddings_index = dict()\n",
        "f = open('/content/drive/My Drive/WordPrediction/glove.6B.100d.txt')\n",
        "for line in f:\n",
        "\tvalues = line.split()\n",
        "\tword = values[0]\n",
        "\tcoefs = asarray(values[1:], dtype='float32')\n",
        "\tembeddings_index[word] = coefs\n",
        "f.close()\n",
        "print('Loaded %s word vectors.' % len(embeddings_index))"
      ],
      "execution_count": null,
      "outputs": [
        {
          "output_type": "stream",
          "text": [
            "Loaded 400000 word vectors.\n"
          ],
          "name": "stdout"
        }
      ]
    },
    {
      "cell_type": "code",
      "metadata": {
        "id": "GG9RU0r2_y4I"
      },
      "source": [
        "with open('/content/drive/My Drive/WordPrediction/embeddings_index_glove6B100d.pickle', 'wb') as emb_idx:\n",
        "    pickle.dump(embeddings_index, emb_idx)"
      ],
      "execution_count": null,
      "outputs": []
    },
    {
      "cell_type": "code",
      "metadata": {
        "id": "NdkmiZryAYRD"
      },
      "source": [
        "embeddings_index = pickle.load(open(\"/content/drive/My Drive/WordPrediction/embeddings_index_glove6B100d.pickle\", \"rb\" ) )"
      ],
      "execution_count": null,
      "outputs": []
    },
    {
      "cell_type": "code",
      "metadata": {
        "id": "coz79DR3AkjZ",
        "outputId": "657e1829-79f2-45a3-c69b-4aaef1c40853",
        "colab": {
          "base_uri": "https://localhost:8080/",
          "height": 34
        }
      },
      "source": [
        "type(embeddings_index)"
      ],
      "execution_count": null,
      "outputs": [
        {
          "output_type": "execute_result",
          "data": {
            "text/plain": [
              "dict"
            ]
          },
          "metadata": {
            "tags": []
          },
          "execution_count": 56
        }
      ]
    },
    {
      "cell_type": "code",
      "metadata": {
        "id": "UF_9vvP0AnWr",
        "outputId": "67761dbf-8675-4a9e-b131-abb60d09e4f5",
        "colab": {
          "base_uri": "https://localhost:8080/",
          "height": 34
        }
      },
      "source": [
        "print('Loaded %s word vectors.' % len(embeddings_index))"
      ],
      "execution_count": null,
      "outputs": [
        {
          "output_type": "stream",
          "text": [
            "Loaded 400000 word vectors.\n"
          ],
          "name": "stdout"
        }
      ]
    },
    {
      "cell_type": "code",
      "metadata": {
        "id": "wr5hg0wfoH4s"
      },
      "source": [
        "vocab_size = total_words"
      ],
      "execution_count": null,
      "outputs": []
    },
    {
      "cell_type": "code",
      "metadata": {
        "id": "NrfbsQCYntSL"
      },
      "source": [
        "# create a weight matrix for words in training docs\n",
        "embedding_matrix = zeros((vocab_size, 100))\n",
        "for word, i in tokenizer.word_index.items():\n",
        "\tembedding_vector = embeddings_index.get(word)\n",
        "\tif embedding_vector is not None:\n",
        "\t\tembedding_matrix[i] = embedding_vector"
      ],
      "execution_count": null,
      "outputs": []
    },
    {
      "cell_type": "code",
      "metadata": {
        "id": "Ao-9U5UcBYVY",
        "outputId": "1acdd1a7-df5b-471c-cbcd-339fe1557225",
        "colab": {
          "base_uri": "https://localhost:8080/",
          "height": 54
        }
      },
      "source": [
        "tokenizer.word_index.items()"
      ],
      "execution_count": null,
      "outputs": [
        {
          "output_type": "execute_result",
          "data": {
            "text/plain": [
              "dict_items([('the', 1), ('insurance', 2), ('health', 3), ('to', 4), ('of', 5), ('for', 6), ('a', 7), ('and', 8), ('policy', 9), ('you', 10), ('or', 11), ('is', 12), ('can', 13), ('medical', 14), ('be', 15), ('in', 16), ('by', 17), ('an', 18), ('your', 19), ('covered', 20), ('from', 21), ('are', 22), ('under', 23), ('cover', 24), ('costs', 25), ('treatment', 26), ('what', 27), ('expenses', 28), ('family', 29), ('up', 30), ('sum', 31), ('on', 32), ('as', 33), ('policies', 34), ('individual', 35), ('that', 36), ('company', 37), ('years', 38), ('claim', 39), ('accident', 40), ('insurer', 41), ('it', 42), ('any', 43), ('plan', 44), ('age', 45), ('with', 46), ('free', 47), ('covers', 48), ('illness', 49), ('premium', 50), ('have', 51), ('tax', 52), ('against', 53), ('at', 54), ('person', 55), ('insured', 56), ('existing', 57), ('if', 58), ('generally', 59), ('would', 60), ('will', 61), ('take', 62), ('pay', 63), ('also', 64), ('critical', 65), ('illnesses', 66), ('maternity', 67), ('before', 68), ('cashless', 69), ('benefits', 70), ('i', 71), ('one', 72), ('people', 73), ('coverage', 74), ('group', 75), ('purchased', 76), ('procedures', 77), ('60', 78), ('rs', 79), ('no', 80), ('bonus', 81), ('increase', 82), ('during', 83), ('assured', 84), ('payment', 85), ('section', 86), ('80d', 87), ('income', 88), ('they', 89), ('may', 90), ('applicable', 91), ('each', 92), ('amount', 93), ('members', 94), ('top', 95), ('who', 96), ('which', 97), ('not', 98), ('rider', 99), ('benefit', 100), ('specified', 101), ('plans', 102), ('than', 103), ('diseases', 104), ('personal', 105), ('citizen', 106), ('need', 107), ('check', 108), ('avail', 109), ('pre', 110), ('50', 111), ('days', 112), ('year', 113), ('after', 114), ('every', 115), ('application', 116), ('required', 117), ('want', 118), ('same', 119), ('when', 120), ('hospitalisation', 121), ('either', 122), ('network', 123), ('where', 124), ('addition', 125), ('this', 126), ('act', 127), ('bought', 128), ('types', 129), ('consider', 130), ('making', 131), ('chosen', 132), ('hospitalization', 133), ('other', 134), ('member', 135), ('floater', 136), ('all', 137), ('single', 138), ('multiple', 139), ('over', 140), ('reimbursement', 141), ('like', 142), ('etc', 143), ('provide', 144), ('diagnosed', 145), ('employee', 146), ('care', 147), ('lower', 148), ('incurred', 149), ('injury', 150), ('independently', 151), ('already', 152), ('senior', 153), ('policysenior', 154), ('least', 155), ('older', 156), ('designed', 157), ('help', 158), ('associated', 159), ('such', 160), ('however', 161), ('them', 162), ('natal', 163), ('post', 164), ('features', 165), ('lakhs', 166), ('ambulance', 167), ('fees', 168), ('room', 169), ('rent', 170), ('capping', 171), ('including', 172), ('new', 173), ('charges', 174), ('ups', 175), ('online', 176), ('ability', 177), ('between', 178), ('form', 179), ('test', 180), ('certain', 181), ('buy', 182), ('cost', 183), ('our', 184), ('get', 185), ('change', 186), ('address', 187), ('so', 188), ('healthcare', 189), ('more', 190), ('has', 191), ('provides', 192), ('mediclaim', 193), ('should', 194), ('1', 195), ('lac', 196), ('cumulative', 197), ('maximum', 198), ('condition', 199), ('essential', 200), ('protecting', 201), ('unexpected', 202), ('high', 203), ('selected', 204), ('annual', 205), ('yourself', 206), ('reimbursed', 207), ('later', 208), ('go', 209), ('hospital', 210), ('beginning', 211), ('paid', 212), ('counts', 213), ('deduction', 214), ('1961', 215), ('protect', 216), ('issues', 217), ('face', 218), ('let’s', 219), ('look', 220), ('buying', 221), ('decision', 222), ('basis', 223), ('entitled', 224), ('entire', 225), ('separately', 226), ('policyin', 227), ('e', 228), ('used', 229), ('entirely', 230), ('claims', 231), ('additional', 232), ('limited', 233), ('employer', 234), ('expenditure', 235), ('arises', 236), ('out', 237), ('limit', 238), ('sufficient', 239), ('planstaken', 240), ('standalone', 241), ('serious', 242), ('cancer', 243), ('kidney', 244), ('failure', 245), ('heart', 246), ('attack', 247), ('most', 248), ('lump', 249), ('policyholder', 250), ('suffering', 251), ('companies', 252), ('employees', 253), ('premiums', 254), ('average', 255), ('fairly', 256), ('broad', 257), ('protects', 258), ('result', 259), ('event', 260), ('death', 261), ('disability', 262), ('unforeseen', 263), ('situations', 264), ('those', 265), ('exclusively', 266), ('offset', 267), ('undergo', 268), ('usual', 269), ('insurancematernity', 270), ('exclusive', 271), ('pregnant', 272), ('women', 273), ('both', 274), ('mother', 275), ('child', 276), ('covering', 277), ('complications', 278), ('arising', 279), ('due', 280), ('pregnancy', 281), ('well', 282), ('india', 283), ('comprehensive', 284), ('options', 285), ('2', 286), ('settlement', 287), ('while', 288), ('hospitalized', 289), ('across', 290), ('wide', 291), ('hospitals', 292), ('born', 293), ('baby', 294), ('along', 295), ('vaccination', 296), ('10', 297), ('30', 298), ('130', 299), ('daycare', 300), ('organ', 301), ('transplant', 302), ('emergency', 303), ('ayush', 304), ('ayurveda', 305), ('unani', 306), ('siddha', 307), ('homeopathy', 308), ('discount', 309), ('vouchers', 310), ('ncb', 311), ('advantage', 312), ('provided', 313), ('does', 314), ('file', 315), ('previous', 316), ('entry', 317), ('renewing', 318), ('loyalty', 319), ('discounts', 320), ('referring', 321), ('friends', 322), ('similar', 323), ('24', 324), ('7', 325), ('toll', 326), ('call', 327), ('centre', 328), ('support', 329), ('ensure', 330), ('access', 331), ('time', 332), ('renewal', 333), ('make', 334), ('hassle', 335), ('renew', 336), ('lifelong', 337), ('old', 338), ('port', 339), ('choice', 340), ('eligibility', 341), ('documents', 342), ('individuals', 343), ('18', 344), ('21', 345), ('dependent', 346), ('children', 347), ('ages', 348), ('90', 349), ('25', 350), ('citizens', 351), ('tailored', 352), ('onwards', 353), ('require', 354), ('documentation', 355), ('except', 356), ('accurately', 357), ('filled', 358), ('signed', 359), ('things', 360), ('type', 361), ('ideal', 362), ('add', 363), ('opt', 364), ('know', 365), ('sub', 366), ('limits', 367), ('category', 368), ('doctors’', 369), ('inclusions', 370), ('exclusions', 371), ('likely', 372), ('acceptance', 373), ('how', 374), ('apply', 375), ('applying', 376), ('easy', 377), ('simply', 378), ('fill', 379), ('representative', 380), ('touch', 381), ('process', 382), ('further', 383), ('select', 384), ('best', 385), ('needs', 386), ('procedure', 387), ('giving', 388), ('request', 389), ('letter', 390), ('plain', 391), ('paper', 392), ('pass', 393), ('endorsement', 394), ('give', 395), ('copy', 396), ('kindly', 397), ('remember', 398), ('send', 399), ('tpa', 400), ('incorporate', 401), ('their', 402), ('records', 403), ('why', 404), ('do', 405), ('expensive', 406), ('technological', 407), ('advances', 408), ('effective', 409), ('medicines', 410), ('driven', 411), ('borne', 412), ('consumer', 413), ('unaffordable', 414), ('too', 415), ('many', 416), ('overcomes', 417), ('these', 418), ('obstacles', 419), ('remain', 420), ('anxiety', 421), ('regarding', 422), ('think', 423), ('moment', 424), ('about', 425), ('enormous', 426), ('incur', 427), ('suffered', 428), ('major', 429), ('tomorrow', 430), ('were', 431), ('suddenly', 432), ('stricken', 433), ('uninsured', 434), ('live', 435), ('risks', 436), ('day', 437), ('seeks', 438), ('shield', 439), ('risk', 440), ('much', 441), ('needed', 442), ('financial', 443), ('relief', 444), ('protection', 445), ('contract', 446), ('agrees', 447), ('particular', 448), ('usually', 449), ('direct', 450), ('facility', 451), ('reimburses', 452), ('injuries', 453), ('am', 454), ('having', 455), ('doyou', 456), ('super', 457), ('desired', 458), ('level', 459), ('yes', 460), ('but', 461), ('its', 462), ('ratable', 463), ('proportion', 464), ('loss', 465), ('liability', 466), ('compensation', 467), ('x', 468), ('y', 469), ('then', 470), ('case', 471), ('ratio', 472), ('si', 473), ('percentage', 474), ('subject', 475), ('important', 476), ('point', 477), ('remembered', 478), ('renewed', 479), ('without', 480), ('break', 481), ('ailment', 482), ('related', 483), ('s', 484), ('had', 485), ('signs', 486), ('symptoms', 487), ('was', 488), ('received', 489), ('advice', 490), ('within', 491), ('48', 492), ('months', 493), ('prior', 494), ('his', 495), ('her', 496), ('preexisting', 497), ('four', 498), ('since', 499), ('inception', 500)])"
            ]
          },
          "metadata": {
            "tags": []
          },
          "execution_count": 62
        }
      ]
    },
    {
      "cell_type": "code",
      "metadata": {
        "id": "yI4LRwtrBqbM"
      },
      "source": [
        "with open('/content/drive/My Drive/WordPrediction/tokenizer_bajaj.pickle', 'wb') as tkn_bajaj:\n",
        "    pickle.dump(tokenizer, tkn_bajaj)"
      ],
      "execution_count": null,
      "outputs": []
    },
    {
      "cell_type": "code",
      "metadata": {
        "id": "a5YowB4uCIas"
      },
      "source": [
        "tokenizer = pickle.load(open(\"/content/drive/My Drive/WordPrediction/tokenizer_bajaj.pickle\", \"rb\" ) )"
      ],
      "execution_count": null,
      "outputs": []
    },
    {
      "cell_type": "code",
      "metadata": {
        "id": "THSXJnkhCP6B",
        "outputId": "e4422e53-e7cc-4ff1-f233-222e2b8c249a",
        "colab": {
          "base_uri": "https://localhost:8080/",
          "height": 34
        }
      },
      "source": [
        "type(tokenizer)"
      ],
      "execution_count": null,
      "outputs": [
        {
          "output_type": "execute_result",
          "data": {
            "text/plain": [
              "keras_preprocessing.text.Tokenizer"
            ]
          },
          "metadata": {
            "tags": []
          },
          "execution_count": 65
        }
      ]
    },
    {
      "cell_type": "code",
      "metadata": {
        "id": "_tLGg4g9CTJi",
        "outputId": "74cfde78-30b8-4bb0-aa52-0ac4516ffdc6",
        "colab": {
          "base_uri": "https://localhost:8080/",
          "height": 54
        }
      },
      "source": [
        "tokenizer.word_index.items()"
      ],
      "execution_count": null,
      "outputs": [
        {
          "output_type": "execute_result",
          "data": {
            "text/plain": [
              "dict_items([('the', 1), ('insurance', 2), ('health', 3), ('to', 4), ('of', 5), ('for', 6), ('a', 7), ('and', 8), ('policy', 9), ('you', 10), ('or', 11), ('is', 12), ('can', 13), ('medical', 14), ('be', 15), ('in', 16), ('by', 17), ('an', 18), ('your', 19), ('covered', 20), ('from', 21), ('are', 22), ('under', 23), ('cover', 24), ('costs', 25), ('treatment', 26), ('what', 27), ('expenses', 28), ('family', 29), ('up', 30), ('sum', 31), ('on', 32), ('as', 33), ('policies', 34), ('individual', 35), ('that', 36), ('company', 37), ('years', 38), ('claim', 39), ('accident', 40), ('insurer', 41), ('it', 42), ('any', 43), ('plan', 44), ('age', 45), ('with', 46), ('free', 47), ('covers', 48), ('illness', 49), ('premium', 50), ('have', 51), ('tax', 52), ('against', 53), ('at', 54), ('person', 55), ('insured', 56), ('existing', 57), ('if', 58), ('generally', 59), ('would', 60), ('will', 61), ('take', 62), ('pay', 63), ('also', 64), ('critical', 65), ('illnesses', 66), ('maternity', 67), ('before', 68), ('cashless', 69), ('benefits', 70), ('i', 71), ('one', 72), ('people', 73), ('coverage', 74), ('group', 75), ('purchased', 76), ('procedures', 77), ('60', 78), ('rs', 79), ('no', 80), ('bonus', 81), ('increase', 82), ('during', 83), ('assured', 84), ('payment', 85), ('section', 86), ('80d', 87), ('income', 88), ('they', 89), ('may', 90), ('applicable', 91), ('each', 92), ('amount', 93), ('members', 94), ('top', 95), ('who', 96), ('which', 97), ('not', 98), ('rider', 99), ('benefit', 100), ('specified', 101), ('plans', 102), ('than', 103), ('diseases', 104), ('personal', 105), ('citizen', 106), ('need', 107), ('check', 108), ('avail', 109), ('pre', 110), ('50', 111), ('days', 112), ('year', 113), ('after', 114), ('every', 115), ('application', 116), ('required', 117), ('want', 118), ('same', 119), ('when', 120), ('hospitalisation', 121), ('either', 122), ('network', 123), ('where', 124), ('addition', 125), ('this', 126), ('act', 127), ('bought', 128), ('types', 129), ('consider', 130), ('making', 131), ('chosen', 132), ('hospitalization', 133), ('other', 134), ('member', 135), ('floater', 136), ('all', 137), ('single', 138), ('multiple', 139), ('over', 140), ('reimbursement', 141), ('like', 142), ('etc', 143), ('provide', 144), ('diagnosed', 145), ('employee', 146), ('care', 147), ('lower', 148), ('incurred', 149), ('injury', 150), ('independently', 151), ('already', 152), ('senior', 153), ('policysenior', 154), ('least', 155), ('older', 156), ('designed', 157), ('help', 158), ('associated', 159), ('such', 160), ('however', 161), ('them', 162), ('natal', 163), ('post', 164), ('features', 165), ('lakhs', 166), ('ambulance', 167), ('fees', 168), ('room', 169), ('rent', 170), ('capping', 171), ('including', 172), ('new', 173), ('charges', 174), ('ups', 175), ('online', 176), ('ability', 177), ('between', 178), ('form', 179), ('test', 180), ('certain', 181), ('buy', 182), ('cost', 183), ('our', 184), ('get', 185), ('change', 186), ('address', 187), ('so', 188), ('healthcare', 189), ('more', 190), ('has', 191), ('provides', 192), ('mediclaim', 193), ('should', 194), ('1', 195), ('lac', 196), ('cumulative', 197), ('maximum', 198), ('condition', 199), ('essential', 200), ('protecting', 201), ('unexpected', 202), ('high', 203), ('selected', 204), ('annual', 205), ('yourself', 206), ('reimbursed', 207), ('later', 208), ('go', 209), ('hospital', 210), ('beginning', 211), ('paid', 212), ('counts', 213), ('deduction', 214), ('1961', 215), ('protect', 216), ('issues', 217), ('face', 218), ('let’s', 219), ('look', 220), ('buying', 221), ('decision', 222), ('basis', 223), ('entitled', 224), ('entire', 225), ('separately', 226), ('policyin', 227), ('e', 228), ('used', 229), ('entirely', 230), ('claims', 231), ('additional', 232), ('limited', 233), ('employer', 234), ('expenditure', 235), ('arises', 236), ('out', 237), ('limit', 238), ('sufficient', 239), ('planstaken', 240), ('standalone', 241), ('serious', 242), ('cancer', 243), ('kidney', 244), ('failure', 245), ('heart', 246), ('attack', 247), ('most', 248), ('lump', 249), ('policyholder', 250), ('suffering', 251), ('companies', 252), ('employees', 253), ('premiums', 254), ('average', 255), ('fairly', 256), ('broad', 257), ('protects', 258), ('result', 259), ('event', 260), ('death', 261), ('disability', 262), ('unforeseen', 263), ('situations', 264), ('those', 265), ('exclusively', 266), ('offset', 267), ('undergo', 268), ('usual', 269), ('insurancematernity', 270), ('exclusive', 271), ('pregnant', 272), ('women', 273), ('both', 274), ('mother', 275), ('child', 276), ('covering', 277), ('complications', 278), ('arising', 279), ('due', 280), ('pregnancy', 281), ('well', 282), ('india', 283), ('comprehensive', 284), ('options', 285), ('2', 286), ('settlement', 287), ('while', 288), ('hospitalized', 289), ('across', 290), ('wide', 291), ('hospitals', 292), ('born', 293), ('baby', 294), ('along', 295), ('vaccination', 296), ('10', 297), ('30', 298), ('130', 299), ('daycare', 300), ('organ', 301), ('transplant', 302), ('emergency', 303), ('ayush', 304), ('ayurveda', 305), ('unani', 306), ('siddha', 307), ('homeopathy', 308), ('discount', 309), ('vouchers', 310), ('ncb', 311), ('advantage', 312), ('provided', 313), ('does', 314), ('file', 315), ('previous', 316), ('entry', 317), ('renewing', 318), ('loyalty', 319), ('discounts', 320), ('referring', 321), ('friends', 322), ('similar', 323), ('24', 324), ('7', 325), ('toll', 326), ('call', 327), ('centre', 328), ('support', 329), ('ensure', 330), ('access', 331), ('time', 332), ('renewal', 333), ('make', 334), ('hassle', 335), ('renew', 336), ('lifelong', 337), ('old', 338), ('port', 339), ('choice', 340), ('eligibility', 341), ('documents', 342), ('individuals', 343), ('18', 344), ('21', 345), ('dependent', 346), ('children', 347), ('ages', 348), ('90', 349), ('25', 350), ('citizens', 351), ('tailored', 352), ('onwards', 353), ('require', 354), ('documentation', 355), ('except', 356), ('accurately', 357), ('filled', 358), ('signed', 359), ('things', 360), ('type', 361), ('ideal', 362), ('add', 363), ('opt', 364), ('know', 365), ('sub', 366), ('limits', 367), ('category', 368), ('doctors’', 369), ('inclusions', 370), ('exclusions', 371), ('likely', 372), ('acceptance', 373), ('how', 374), ('apply', 375), ('applying', 376), ('easy', 377), ('simply', 378), ('fill', 379), ('representative', 380), ('touch', 381), ('process', 382), ('further', 383), ('select', 384), ('best', 385), ('needs', 386), ('procedure', 387), ('giving', 388), ('request', 389), ('letter', 390), ('plain', 391), ('paper', 392), ('pass', 393), ('endorsement', 394), ('give', 395), ('copy', 396), ('kindly', 397), ('remember', 398), ('send', 399), ('tpa', 400), ('incorporate', 401), ('their', 402), ('records', 403), ('why', 404), ('do', 405), ('expensive', 406), ('technological', 407), ('advances', 408), ('effective', 409), ('medicines', 410), ('driven', 411), ('borne', 412), ('consumer', 413), ('unaffordable', 414), ('too', 415), ('many', 416), ('overcomes', 417), ('these', 418), ('obstacles', 419), ('remain', 420), ('anxiety', 421), ('regarding', 422), ('think', 423), ('moment', 424), ('about', 425), ('enormous', 426), ('incur', 427), ('suffered', 428), ('major', 429), ('tomorrow', 430), ('were', 431), ('suddenly', 432), ('stricken', 433), ('uninsured', 434), ('live', 435), ('risks', 436), ('day', 437), ('seeks', 438), ('shield', 439), ('risk', 440), ('much', 441), ('needed', 442), ('financial', 443), ('relief', 444), ('protection', 445), ('contract', 446), ('agrees', 447), ('particular', 448), ('usually', 449), ('direct', 450), ('facility', 451), ('reimburses', 452), ('injuries', 453), ('am', 454), ('having', 455), ('doyou', 456), ('super', 457), ('desired', 458), ('level', 459), ('yes', 460), ('but', 461), ('its', 462), ('ratable', 463), ('proportion', 464), ('loss', 465), ('liability', 466), ('compensation', 467), ('x', 468), ('y', 469), ('then', 470), ('case', 471), ('ratio', 472), ('si', 473), ('percentage', 474), ('subject', 475), ('important', 476), ('point', 477), ('remembered', 478), ('renewed', 479), ('without', 480), ('break', 481), ('ailment', 482), ('related', 483), ('s', 484), ('had', 485), ('signs', 486), ('symptoms', 487), ('was', 488), ('received', 489), ('advice', 490), ('within', 491), ('48', 492), ('months', 493), ('prior', 494), ('his', 495), ('her', 496), ('preexisting', 497), ('four', 498), ('since', 499), ('inception', 500)])"
            ]
          },
          "metadata": {
            "tags": []
          },
          "execution_count": 66
        }
      ]
    },
    {
      "cell_type": "code",
      "metadata": {
        "id": "KmHw4vwyAt0c"
      },
      "source": [
        "with open('/content/drive/My Drive/WordPrediction/embedding_matrix_bajaj.pickle', 'wb') as emb_mat:\n",
        "    pickle.dump(embedding_matrix, emb_mat)"
      ],
      "execution_count": null,
      "outputs": []
    },
    {
      "cell_type": "code",
      "metadata": {
        "id": "F7om3ISqBL82"
      },
      "source": [
        "embedding_matrix = pickle.load(open(\"/content/drive/My Drive/WordPrediction/embedding_matrix_bajaj.pickle\", \"rb\" ) )"
      ],
      "execution_count": null,
      "outputs": []
    },
    {
      "cell_type": "code",
      "metadata": {
        "id": "pqsmkI0O4-8x"
      },
      "source": [
        "from keras.models import Sequential\n",
        "from keras.layers import Embedding, LSTM, Dense, Dropout\n",
        "from keras.callbacks import EarlyStopping"
      ],
      "execution_count": null,
      "outputs": []
    },
    {
      "cell_type": "code",
      "metadata": {
        "id": "sCjCb_aU5ieF"
      },
      "source": [
        "import warnings\n",
        "warnings.filterwarnings('ignore')"
      ],
      "execution_count": null,
      "outputs": []
    },
    {
      "cell_type": "code",
      "metadata": {
        "id": "V_w5APHT4DGW",
        "outputId": "2c46dd8f-d6ae-40dd-e79e-22891965b203",
        "colab": {
          "base_uri": "https://localhost:8080/",
          "height": 1000
        }
      },
      "source": [
        "model = Sequential()\n",
        "model.add(Embedding(vocab_size, 100,weights=[embedding_matrix], input_length=max_sequence_len-1,trainable = False))\n",
        "model.add(LSTM(150, return_sequences = True))\n",
        "# model.add(Dropout(0.2))\n",
        "model.add(LSTM(100))\n",
        "model.add(Dense(total_words, activation='softmax'))\n",
        "\n",
        "model.compile(loss='categorical_crossentropy', optimizer='adam', metrics=['accuracy'])\n",
        "earlystop = EarlyStopping(monitor='val_loss', min_delta=0, patience=5, verbose=0, mode='auto')\n",
        "model.fit(predictors, label, epochs=100, verbose=1, callbacks=[earlystop])\n",
        "print (model.summary())"
      ],
      "execution_count": null,
      "outputs": [
        {
          "output_type": "stream",
          "text": [
            "WARNING:tensorflow:From /usr/local/lib/python3.6/dist-packages/keras/backend/tensorflow_backend.py:66: The name tf.get_default_graph is deprecated. Please use tf.compat.v1.get_default_graph instead.\n",
            "\n",
            "WARNING:tensorflow:From /usr/local/lib/python3.6/dist-packages/keras/backend/tensorflow_backend.py:541: The name tf.placeholder is deprecated. Please use tf.compat.v1.placeholder instead.\n",
            "\n",
            "WARNING:tensorflow:From /usr/local/lib/python3.6/dist-packages/keras/backend/tensorflow_backend.py:4432: The name tf.random_uniform is deprecated. Please use tf.random.uniform instead.\n",
            "\n",
            "WARNING:tensorflow:From /usr/local/lib/python3.6/dist-packages/keras/backend/tensorflow_backend.py:190: The name tf.get_default_session is deprecated. Please use tf.compat.v1.get_default_session instead.\n",
            "\n",
            "WARNING:tensorflow:From /usr/local/lib/python3.6/dist-packages/keras/backend/tensorflow_backend.py:197: The name tf.ConfigProto is deprecated. Please use tf.compat.v1.ConfigProto instead.\n",
            "\n",
            "WARNING:tensorflow:From /usr/local/lib/python3.6/dist-packages/keras/backend/tensorflow_backend.py:203: The name tf.Session is deprecated. Please use tf.compat.v1.Session instead.\n",
            "\n",
            "WARNING:tensorflow:From /usr/local/lib/python3.6/dist-packages/keras/backend/tensorflow_backend.py:207: The name tf.global_variables is deprecated. Please use tf.compat.v1.global_variables instead.\n",
            "\n",
            "WARNING:tensorflow:From /usr/local/lib/python3.6/dist-packages/keras/backend/tensorflow_backend.py:216: The name tf.is_variable_initialized is deprecated. Please use tf.compat.v1.is_variable_initialized instead.\n",
            "\n",
            "WARNING:tensorflow:From /usr/local/lib/python3.6/dist-packages/keras/backend/tensorflow_backend.py:223: The name tf.variables_initializer is deprecated. Please use tf.compat.v1.variables_initializer instead.\n",
            "\n",
            "WARNING:tensorflow:From /usr/local/lib/python3.6/dist-packages/keras/optimizers.py:793: The name tf.train.Optimizer is deprecated. Please use tf.compat.v1.train.Optimizer instead.\n",
            "\n",
            "WARNING:tensorflow:From /usr/local/lib/python3.6/dist-packages/keras/backend/tensorflow_backend.py:3576: The name tf.log is deprecated. Please use tf.math.log instead.\n",
            "\n",
            "WARNING:tensorflow:From /usr/local/lib/python3.6/dist-packages/tensorflow_core/python/ops/math_grad.py:1424: where (from tensorflow.python.ops.array_ops) is deprecated and will be removed in a future version.\n",
            "Instructions for updating:\n",
            "Use tf.where in 2.0, which has the same broadcast rule as np.where\n",
            "WARNING:tensorflow:From /usr/local/lib/python3.6/dist-packages/keras/backend/tensorflow_backend.py:1033: The name tf.assign_add is deprecated. Please use tf.compat.v1.assign_add instead.\n",
            "\n",
            "WARNING:tensorflow:From /usr/local/lib/python3.6/dist-packages/keras/backend/tensorflow_backend.py:1020: The name tf.assign is deprecated. Please use tf.compat.v1.assign instead.\n",
            "\n",
            "Epoch 1/100\n",
            "1381/1381 [==============================] - 7s 5ms/step - loss: 5.9367 - acc: 0.0246\n",
            "Epoch 2/100\n",
            "1381/1381 [==============================] - 5s 4ms/step - loss: 5.4843 - acc: 0.0471\n",
            "Epoch 3/100\n",
            "1381/1381 [==============================] - 5s 4ms/step - loss: 5.4285 - acc: 0.0565\n",
            "Epoch 4/100\n",
            "1381/1381 [==============================] - 5s 4ms/step - loss: 5.4037 - acc: 0.0623\n",
            "Epoch 5/100\n",
            "1381/1381 [==============================] - 5s 4ms/step - loss: 5.3677 - acc: 0.0731\n",
            "Epoch 6/100\n",
            "1381/1381 [==============================] - 5s 4ms/step - loss: 5.2971 - acc: 0.0768\n",
            "Epoch 7/100\n",
            "1381/1381 [==============================] - 5s 4ms/step - loss: 5.2215 - acc: 0.0869\n",
            "Epoch 8/100\n",
            "1381/1381 [==============================] - 5s 4ms/step - loss: 5.1384 - acc: 0.0985\n",
            "Epoch 9/100\n",
            "1381/1381 [==============================] - 5s 4ms/step - loss: 5.0249 - acc: 0.1007\n",
            "Epoch 10/100\n",
            "1381/1381 [==============================] - 5s 4ms/step - loss: 4.9104 - acc: 0.1086\n",
            "Epoch 11/100\n",
            "1381/1381 [==============================] - 5s 4ms/step - loss: 4.8030 - acc: 0.1195\n",
            "Epoch 12/100\n",
            "1381/1381 [==============================] - 5s 4ms/step - loss: 4.6813 - acc: 0.1217\n",
            "Epoch 13/100\n",
            "1381/1381 [==============================] - 5s 4ms/step - loss: 4.5727 - acc: 0.1318\n",
            "Epoch 14/100\n",
            "1381/1381 [==============================] - 5s 4ms/step - loss: 4.4801 - acc: 0.1361\n",
            "Epoch 15/100\n",
            "1381/1381 [==============================] - 5s 4ms/step - loss: 4.3624 - acc: 0.1448\n",
            "Epoch 16/100\n",
            "1381/1381 [==============================] - 5s 4ms/step - loss: 4.2649 - acc: 0.1521\n",
            "Epoch 17/100\n",
            "1381/1381 [==============================] - 5s 4ms/step - loss: 4.1592 - acc: 0.1622\n",
            "Epoch 18/100\n",
            "1381/1381 [==============================] - 5s 4ms/step - loss: 4.0533 - acc: 0.1731\n",
            "Epoch 19/100\n",
            "1381/1381 [==============================] - 5s 4ms/step - loss: 3.9498 - acc: 0.1854\n",
            "Epoch 20/100\n",
            "1381/1381 [==============================] - 5s 4ms/step - loss: 3.8547 - acc: 0.1854\n",
            "Epoch 21/100\n",
            "1381/1381 [==============================] - 5s 4ms/step - loss: 3.7508 - acc: 0.2085\n",
            "Epoch 22/100\n",
            "1381/1381 [==============================] - 5s 4ms/step - loss: 3.6506 - acc: 0.2187\n",
            "Epoch 23/100\n",
            "1381/1381 [==============================] - 5s 4ms/step - loss: 3.5599 - acc: 0.2252\n",
            "Epoch 24/100\n",
            "1381/1381 [==============================] - 5s 4ms/step - loss: 3.4627 - acc: 0.2397\n",
            "Epoch 25/100\n",
            "1381/1381 [==============================] - 5s 4ms/step - loss: 3.3543 - acc: 0.2469\n",
            "Epoch 26/100\n",
            "1381/1381 [==============================] - 5s 4ms/step - loss: 3.2617 - acc: 0.2657\n",
            "Epoch 27/100\n",
            "1381/1381 [==============================] - 5s 4ms/step - loss: 3.1689 - acc: 0.2824\n",
            "Epoch 28/100\n",
            "1381/1381 [==============================] - 5s 4ms/step - loss: 3.0889 - acc: 0.2925\n",
            "Epoch 29/100\n",
            "1381/1381 [==============================] - 5s 4ms/step - loss: 2.9956 - acc: 0.3121\n",
            "Epoch 30/100\n",
            "1381/1381 [==============================] - 5s 4ms/step - loss: 2.8849 - acc: 0.3222\n",
            "Epoch 31/100\n",
            "1381/1381 [==============================] - 5s 4ms/step - loss: 2.7770 - acc: 0.3570\n",
            "Epoch 32/100\n",
            "1381/1381 [==============================] - 5s 4ms/step - loss: 2.6894 - acc: 0.3736\n",
            "Epoch 33/100\n",
            "1381/1381 [==============================] - 5s 4ms/step - loss: 2.5869 - acc: 0.4033\n",
            "Epoch 34/100\n",
            "1381/1381 [==============================] - 5s 4ms/step - loss: 2.4827 - acc: 0.4236\n",
            "Epoch 35/100\n",
            "1381/1381 [==============================] - 5s 4ms/step - loss: 2.3928 - acc: 0.4649\n",
            "Epoch 36/100\n",
            "1381/1381 [==============================] - 5s 4ms/step - loss: 2.3099 - acc: 0.4765\n",
            "Epoch 37/100\n",
            "1381/1381 [==============================] - 5s 4ms/step - loss: 2.2175 - acc: 0.5214\n",
            "Epoch 38/100\n",
            "1381/1381 [==============================] - 5s 4ms/step - loss: 2.1270 - acc: 0.5453\n",
            "Epoch 39/100\n",
            "1381/1381 [==============================] - 5s 4ms/step - loss: 2.0427 - acc: 0.5786\n",
            "Epoch 40/100\n",
            "1381/1381 [==============================] - 5s 4ms/step - loss: 1.9564 - acc: 0.6032\n",
            "Epoch 41/100\n",
            "1381/1381 [==============================] - 5s 4ms/step - loss: 1.8665 - acc: 0.6394\n",
            "Epoch 42/100\n",
            "1381/1381 [==============================] - 5s 4ms/step - loss: 1.7980 - acc: 0.6597\n",
            "Epoch 43/100\n",
            "1381/1381 [==============================] - 5s 4ms/step - loss: 1.7083 - acc: 0.6901\n",
            "Epoch 44/100\n",
            "1381/1381 [==============================] - 5s 4ms/step - loss: 1.6228 - acc: 0.7256\n",
            "Epoch 45/100\n",
            "1381/1381 [==============================] - 5s 4ms/step - loss: 1.5550 - acc: 0.7422\n",
            "Epoch 46/100\n",
            "1381/1381 [==============================] - 5s 4ms/step - loss: 1.4856 - acc: 0.7480\n",
            "Epoch 47/100\n",
            "1381/1381 [==============================] - 5s 4ms/step - loss: 1.4119 - acc: 0.7806\n",
            "Epoch 48/100\n",
            "1381/1381 [==============================] - 5s 4ms/step - loss: 1.3460 - acc: 0.7965\n",
            "Epoch 49/100\n",
            "1381/1381 [==============================] - 5s 4ms/step - loss: 1.2719 - acc: 0.8182\n",
            "Epoch 50/100\n",
            "1381/1381 [==============================] - 5s 4ms/step - loss: 1.2082 - acc: 0.8392\n",
            "Epoch 51/100\n",
            "1381/1381 [==============================] - 5s 4ms/step - loss: 1.1466 - acc: 0.8443\n",
            "Epoch 52/100\n",
            "1381/1381 [==============================] - 5s 4ms/step - loss: 1.0895 - acc: 0.8581\n",
            "Epoch 53/100\n",
            "1381/1381 [==============================] - 5s 4ms/step - loss: 1.0339 - acc: 0.8675\n",
            "Epoch 54/100\n",
            "1381/1381 [==============================] - 5s 4ms/step - loss: 0.9772 - acc: 0.8849\n",
            "Epoch 55/100\n",
            "1381/1381 [==============================] - 5s 4ms/step - loss: 0.9266 - acc: 0.8921\n",
            "Epoch 56/100\n",
            "1381/1381 [==============================] - 5s 4ms/step - loss: 0.8860 - acc: 0.9001\n",
            "Epoch 57/100\n",
            "1381/1381 [==============================] - 5s 4ms/step - loss: 0.8325 - acc: 0.9138\n",
            "Epoch 58/100\n",
            "1381/1381 [==============================] - 5s 4ms/step - loss: 0.7916 - acc: 0.9196\n",
            "Epoch 59/100\n",
            "1381/1381 [==============================] - 5s 4ms/step - loss: 0.7602 - acc: 0.9247\n",
            "Epoch 60/100\n",
            "1381/1381 [==============================] - 5s 4ms/step - loss: 0.7164 - acc: 0.9312\n",
            "Epoch 61/100\n",
            "1381/1381 [==============================] - 5s 4ms/step - loss: 0.6769 - acc: 0.9348\n",
            "Epoch 62/100\n",
            "1381/1381 [==============================] - 5s 4ms/step - loss: 0.6405 - acc: 0.9435\n",
            "Epoch 63/100\n",
            "1381/1381 [==============================] - 5s 4ms/step - loss: 0.6073 - acc: 0.9442\n",
            "Epoch 64/100\n",
            "1381/1381 [==============================] - 5s 4ms/step - loss: 0.5736 - acc: 0.9493\n",
            "Epoch 65/100\n",
            "1381/1381 [==============================] - 5s 4ms/step - loss: 0.5422 - acc: 0.9544\n",
            "Epoch 66/100\n",
            "1381/1381 [==============================] - 5s 4ms/step - loss: 0.5169 - acc: 0.9544\n",
            "Epoch 67/100\n",
            "1381/1381 [==============================] - 5s 4ms/step - loss: 0.4915 - acc: 0.9587\n",
            "Epoch 68/100\n",
            "1381/1381 [==============================] - 5s 4ms/step - loss: 0.4689 - acc: 0.9587\n",
            "Epoch 69/100\n",
            "1381/1381 [==============================] - 5s 4ms/step - loss: 0.4458 - acc: 0.9616\n",
            "Epoch 70/100\n",
            "1381/1381 [==============================] - 5s 4ms/step - loss: 0.4241 - acc: 0.9623\n",
            "Epoch 71/100\n",
            "1381/1381 [==============================] - 5s 4ms/step - loss: 0.4017 - acc: 0.9631\n",
            "Epoch 72/100\n",
            "1381/1381 [==============================] - 5s 4ms/step - loss: 0.3864 - acc: 0.9681\n",
            "Epoch 73/100\n",
            "1381/1381 [==============================] - 5s 4ms/step - loss: 0.3710 - acc: 0.9674\n",
            "Epoch 74/100\n",
            "1381/1381 [==============================] - 5s 4ms/step - loss: 0.3498 - acc: 0.9645\n",
            "Epoch 75/100\n",
            "1381/1381 [==============================] - 5s 4ms/step - loss: 0.3307 - acc: 0.9674\n",
            "Epoch 76/100\n",
            "1381/1381 [==============================] - 5s 4ms/step - loss: 0.3166 - acc: 0.9689\n",
            "Epoch 77/100\n",
            "1381/1381 [==============================] - 5s 4ms/step - loss: 0.3060 - acc: 0.9667\n",
            "Epoch 78/100\n",
            "1381/1381 [==============================] - 5s 4ms/step - loss: 0.2884 - acc: 0.9674\n",
            "Epoch 79/100\n",
            "1381/1381 [==============================] - 5s 4ms/step - loss: 0.2784 - acc: 0.9710\n",
            "Epoch 80/100\n",
            "1381/1381 [==============================] - 5s 4ms/step - loss: 0.2680 - acc: 0.9689\n",
            "Epoch 81/100\n",
            "1381/1381 [==============================] - 5s 4ms/step - loss: 0.2629 - acc: 0.9696\n",
            "Epoch 82/100\n",
            "1381/1381 [==============================] - 5s 4ms/step - loss: 0.2471 - acc: 0.9718\n",
            "Epoch 83/100\n",
            "1381/1381 [==============================] - 5s 4ms/step - loss: 0.2371 - acc: 0.9681\n",
            "Epoch 84/100\n",
            "1381/1381 [==============================] - 5s 4ms/step - loss: 0.2264 - acc: 0.9718\n",
            "Epoch 85/100\n",
            "1381/1381 [==============================] - 5s 4ms/step - loss: 0.2194 - acc: 0.9710\n",
            "Epoch 86/100\n",
            "1381/1381 [==============================] - 5s 4ms/step - loss: 0.2120 - acc: 0.9710\n",
            "Epoch 87/100\n",
            "1381/1381 [==============================] - 5s 4ms/step - loss: 0.2036 - acc: 0.9718\n",
            "Epoch 88/100\n",
            "1381/1381 [==============================] - 5s 4ms/step - loss: 0.1972 - acc: 0.9732\n",
            "Epoch 89/100\n",
            "1381/1381 [==============================] - 5s 4ms/step - loss: 0.1922 - acc: 0.9710\n",
            "Epoch 90/100\n",
            "1381/1381 [==============================] - 5s 4ms/step - loss: 0.1842 - acc: 0.9725\n",
            "Epoch 91/100\n",
            "1381/1381 [==============================] - 5s 4ms/step - loss: 0.1785 - acc: 0.9732\n",
            "Epoch 92/100\n",
            "1381/1381 [==============================] - 5s 4ms/step - loss: 0.1739 - acc: 0.9703\n",
            "Epoch 93/100\n",
            "1381/1381 [==============================] - 5s 4ms/step - loss: 0.1714 - acc: 0.9696\n",
            "Epoch 94/100\n",
            "1381/1381 [==============================] - 5s 4ms/step - loss: 0.1617 - acc: 0.9703\n",
            "Epoch 95/100\n",
            "1381/1381 [==============================] - 5s 4ms/step - loss: 0.1572 - acc: 0.9725\n",
            "Epoch 96/100\n",
            "1381/1381 [==============================] - 5s 4ms/step - loss: 0.1531 - acc: 0.9725\n",
            "Epoch 97/100\n",
            "1381/1381 [==============================] - 5s 4ms/step - loss: 0.1470 - acc: 0.9739\n",
            "Epoch 98/100\n",
            "1381/1381 [==============================] - 5s 4ms/step - loss: 0.1450 - acc: 0.9710\n",
            "Epoch 99/100\n",
            "1381/1381 [==============================] - 5s 4ms/step - loss: 0.1417 - acc: 0.9718\n",
            "Epoch 100/100\n",
            "1381/1381 [==============================] - 5s 4ms/step - loss: 0.1403 - acc: 0.9689\n",
            "Model: \"sequential_1\"\n",
            "_________________________________________________________________\n",
            "Layer (type)                 Output Shape              Param #   \n",
            "=================================================================\n",
            "embedding_1 (Embedding)      (None, 43, 100)           50100     \n",
            "_________________________________________________________________\n",
            "lstm_1 (LSTM)                (None, 43, 150)           150600    \n",
            "_________________________________________________________________\n",
            "lstm_2 (LSTM)                (None, 100)               100400    \n",
            "_________________________________________________________________\n",
            "dense_1 (Dense)              (None, 501)               50601     \n",
            "=================================================================\n",
            "Total params: 351,701\n",
            "Trainable params: 301,601\n",
            "Non-trainable params: 50,100\n",
            "_________________________________________________________________\n",
            "None\n"
          ],
          "name": "stdout"
        }
      ]
    },
    {
      "cell_type": "code",
      "metadata": {
        "id": "aAub-2xA45RR"
      },
      "source": [
        "def generate_text(seed_text, next_words, max_sequence_len):\n",
        "\tfor _ in range(next_words):\n",
        "\t\ttoken_list = tokenizer.texts_to_sequences([seed_text])[0]\n",
        "\t\ttoken_list = pad_sequences([token_list], maxlen=max_sequence_len-1, padding='pre')\n",
        "\t\tpredicted = model.predict_classes(token_list, verbose=0)\n",
        "\t\t\n",
        "\t\toutput_word = \"\"\n",
        "\t\tfor word, index in tokenizer.word_index.items():\n",
        "\t\t\tif index == predicted:\n",
        "\t\t\t\toutput_word = word\n",
        "\t\t\t\tbreak\n",
        "\t\tseed_text += \" \" + output_word\n",
        "\treturn seed_text"
      ],
      "execution_count": null,
      "outputs": []
    },
    {
      "cell_type": "code",
      "metadata": {
        "id": "7gRdNdR4-uru",
        "outputId": "69f39b9f-7d96-4acf-8120-ca41743d1a96",
        "colab": {
          "base_uri": "https://localhost:8080/",
          "height": 34
        }
      },
      "source": [
        "print (generate_text(\"individual\", 2, max_sequence_len))"
      ],
      "execution_count": null,
      "outputs": [
        {
          "output_type": "stream",
          "text": [
            "individual health insurance\n"
          ],
          "name": "stdout"
        }
      ]
    },
    {
      "cell_type": "code",
      "metadata": {
        "id": "n0DwiCHR-y94",
        "outputId": "4ebe339d-36f5-43af-e546-1635ecac3756",
        "colab": {
          "base_uri": "https://localhost:8080/",
          "height": 34
        }
      },
      "source": [
        "print (generate_text(\"accident\", 2, max_sequence_len))"
      ],
      "execution_count": null,
      "outputs": [
        {
          "output_type": "stream",
          "text": [
            "accident covers can\n"
          ],
          "name": "stdout"
        }
      ]
    },
    {
      "cell_type": "code",
      "metadata": {
        "id": "nmV-sgUMr9Nr",
        "outputId": "6bac0866-bd80-4ee5-a7da-001ce0a81822",
        "colab": {
          "base_uri": "https://localhost:8080/",
          "height": 34
        }
      },
      "source": [
        "print (generate_text(\"medical\", 2, max_sequence_len))"
      ],
      "execution_count": null,
      "outputs": [
        {
          "output_type": "stream",
          "text": [
            "medical check ups\n"
          ],
          "name": "stdout"
        }
      ]
    },
    {
      "cell_type": "code",
      "metadata": {
        "id": "dt_oGgKIsBPA"
      },
      "source": [
        "\n",
        "\n",
        "model.save('/content/drive/My Drive/WordPrediction/modelGlove.h5')  # creates a HDF5 file 'my_model.h5'\n",
        "del model  # deletes the existing model\n"
      ],
      "execution_count": null,
      "outputs": []
    },
    {
      "cell_type": "code",
      "metadata": {
        "id": "1bzpm-9j5tha"
      },
      "source": [
        "from keras.models import load_model"
      ],
      "execution_count": null,
      "outputs": []
    },
    {
      "cell_type": "code",
      "metadata": {
        "id": "J8Czi65Jsxoz",
        "outputId": "7e6879cf-3bd7-4fef-e632-e382049d0ddc",
        "colab": {
          "base_uri": "https://localhost:8080/",
          "height": 530
        }
      },
      "source": [
        "# returns a compiled model\n",
        "# identical to the previous one\n",
        "model = load_model('/content/drive/My Drive/WordPrediction/modelGlove.h5')"
      ],
      "execution_count": null,
      "outputs": [
        {
          "output_type": "stream",
          "text": [
            "WARNING:tensorflow:From /usr/local/lib/python3.6/dist-packages/keras/backend/tensorflow_backend.py:541: The name tf.placeholder is deprecated. Please use tf.compat.v1.placeholder instead.\n",
            "\n",
            "WARNING:tensorflow:From /usr/local/lib/python3.6/dist-packages/keras/backend/tensorflow_backend.py:4432: The name tf.random_uniform is deprecated. Please use tf.random.uniform instead.\n",
            "\n",
            "WARNING:tensorflow:From /usr/local/lib/python3.6/dist-packages/keras/backend/tensorflow_backend.py:66: The name tf.get_default_graph is deprecated. Please use tf.compat.v1.get_default_graph instead.\n",
            "\n",
            "WARNING:tensorflow:From /usr/local/lib/python3.6/dist-packages/keras/backend/tensorflow_backend.py:190: The name tf.get_default_session is deprecated. Please use tf.compat.v1.get_default_session instead.\n",
            "\n",
            "WARNING:tensorflow:From /usr/local/lib/python3.6/dist-packages/keras/backend/tensorflow_backend.py:197: The name tf.ConfigProto is deprecated. Please use tf.compat.v1.ConfigProto instead.\n",
            "\n",
            "WARNING:tensorflow:From /usr/local/lib/python3.6/dist-packages/keras/backend/tensorflow_backend.py:203: The name tf.Session is deprecated. Please use tf.compat.v1.Session instead.\n",
            "\n",
            "WARNING:tensorflow:From /usr/local/lib/python3.6/dist-packages/keras/backend/tensorflow_backend.py:207: The name tf.global_variables is deprecated. Please use tf.compat.v1.global_variables instead.\n",
            "\n",
            "WARNING:tensorflow:From /usr/local/lib/python3.6/dist-packages/keras/backend/tensorflow_backend.py:216: The name tf.is_variable_initialized is deprecated. Please use tf.compat.v1.is_variable_initialized instead.\n",
            "\n",
            "WARNING:tensorflow:From /usr/local/lib/python3.6/dist-packages/keras/backend/tensorflow_backend.py:223: The name tf.variables_initializer is deprecated. Please use tf.compat.v1.variables_initializer instead.\n",
            "\n",
            "WARNING:tensorflow:From /usr/local/lib/python3.6/dist-packages/keras/optimizers.py:793: The name tf.train.Optimizer is deprecated. Please use tf.compat.v1.train.Optimizer instead.\n",
            "\n",
            "WARNING:tensorflow:From /usr/local/lib/python3.6/dist-packages/keras/backend/tensorflow_backend.py:3576: The name tf.log is deprecated. Please use tf.math.log instead.\n",
            "\n",
            "WARNING:tensorflow:From /usr/local/lib/python3.6/dist-packages/tensorflow_core/python/ops/math_grad.py:1424: where (from tensorflow.python.ops.array_ops) is deprecated and will be removed in a future version.\n",
            "Instructions for updating:\n",
            "Use tf.where in 2.0, which has the same broadcast rule as np.where\n",
            "WARNING:tensorflow:From /usr/local/lib/python3.6/dist-packages/keras/backend/tensorflow_backend.py:1033: The name tf.assign_add is deprecated. Please use tf.compat.v1.assign_add instead.\n",
            "\n",
            "WARNING:tensorflow:From /usr/local/lib/python3.6/dist-packages/keras/backend/tensorflow_backend.py:1020: The name tf.assign is deprecated. Please use tf.compat.v1.assign instead.\n",
            "\n"
          ],
          "name": "stdout"
        }
      ]
    },
    {
      "cell_type": "code",
      "metadata": {
        "id": "KFFZ_9Fks7iW",
        "outputId": "6924276a-7b6c-4c5c-a262-61ffed87ec51",
        "colab": {
          "base_uri": "https://localhost:8080/",
          "height": 34
        }
      },
      "source": [
        "print (generate_text(\"hospital\", 10, max_sequence_len))"
      ],
      "execution_count": null,
      "outputs": [
        {
          "output_type": "stream",
          "text": [
            "hospital check covered can be purchased independently or as a rider\n"
          ],
          "name": "stdout"
        }
      ]
    },
    {
      "cell_type": "code",
      "metadata": {
        "id": "bl0jCLbstCBr",
        "outputId": "d9db941c-e8ec-44c6-fb4f-c970fcac1bcb",
        "colab": {
          "base_uri": "https://localhost:8080/",
          "height": 34
        }
      },
      "source": [
        "print (generate_text(\"critical\", 4, max_sequence_len))"
      ],
      "execution_count": null,
      "outputs": [
        {
          "output_type": "stream",
          "text": [
            "critical illness health insurance planstaken\n"
          ],
          "name": "stdout"
        }
      ]
    },
    {
      "cell_type": "code",
      "metadata": {
        "id": "YBGplk09C4h0"
      },
      "source": [
        ""
      ],
      "execution_count": null,
      "outputs": []
    },
    {
      "cell_type": "code",
      "metadata": {
        "id": "3YqPq-TKC4bf"
      },
      "source": [
        "### Trainable"
      ],
      "execution_count": null,
      "outputs": []
    },
    {
      "cell_type": "code",
      "metadata": {
        "id": "KKbLuqe2C4UQ",
        "outputId": "7305c8a7-1ae8-4da5-ba9f-e2cb87e5ba17",
        "colab": {
          "base_uri": "https://localhost:8080/",
          "height": 1000
        }
      },
      "source": [
        "model1 = Sequential()\n",
        "model1.add(Embedding(vocab_size, 100,weights=[embedding_matrix], input_length=max_sequence_len-1,trainable = True))\n",
        "model1.add(LSTM(150, return_sequences = True))\n",
        "# model1.add(Dropout(0.2))\n",
        "model1.add(LSTM(100))\n",
        "model1.add(Dense(total_words, activation='softmax'))\n",
        "\n",
        "model1.compile(loss='categorical_crossentropy', optimizer='adam', metrics=['accuracy'])\n",
        "earlystop = EarlyStopping(monitor='val_loss', min_delta=0, patience=5, verbose=0, mode='auto')\n",
        "model1.fit(predictors, label, epochs=100, verbose=1, callbacks=[earlystop])\n",
        "print (model1.summary())"
      ],
      "execution_count": null,
      "outputs": [
        {
          "output_type": "stream",
          "text": [
            "Epoch 1/100\n",
            "1381/1381 [==============================] - 7s 5ms/step - loss: 5.9213 - acc: 0.0420\n",
            "Epoch 2/100\n",
            "1381/1381 [==============================] - 6s 4ms/step - loss: 5.4819 - acc: 0.0471\n",
            "Epoch 3/100\n",
            "1381/1381 [==============================] - 6s 4ms/step - loss: 5.4243 - acc: 0.0550\n",
            "Epoch 4/100\n",
            "1381/1381 [==============================] - 6s 4ms/step - loss: 5.3747 - acc: 0.0688\n",
            "Epoch 5/100\n",
            "1381/1381 [==============================] - 6s 4ms/step - loss: 5.3002 - acc: 0.0768\n",
            "Epoch 6/100\n",
            "1381/1381 [==============================] - 6s 4ms/step - loss: 5.2050 - acc: 0.0825\n",
            "Epoch 7/100\n",
            "1381/1381 [==============================] - 6s 4ms/step - loss: 5.0982 - acc: 0.0941\n",
            "Epoch 8/100\n",
            "1381/1381 [==============================] - 6s 4ms/step - loss: 4.9686 - acc: 0.1064\n",
            "Epoch 9/100\n",
            "1381/1381 [==============================] - 6s 4ms/step - loss: 4.8171 - acc: 0.1217\n",
            "Epoch 10/100\n",
            "1381/1381 [==============================] - 6s 4ms/step - loss: 4.6520 - acc: 0.1296\n",
            "Epoch 11/100\n",
            "1381/1381 [==============================] - 6s 4ms/step - loss: 4.5064 - acc: 0.1470\n",
            "Epoch 12/100\n",
            "1381/1381 [==============================] - 6s 4ms/step - loss: 4.3400 - acc: 0.1571\n",
            "Epoch 13/100\n",
            "1381/1381 [==============================] - 6s 4ms/step - loss: 4.1890 - acc: 0.1723\n",
            "Epoch 14/100\n",
            "1381/1381 [==============================] - 6s 4ms/step - loss: 4.0573 - acc: 0.1796\n",
            "Epoch 15/100\n",
            "1381/1381 [==============================] - 6s 4ms/step - loss: 3.9060 - acc: 0.1933\n",
            "Epoch 16/100\n",
            "1381/1381 [==============================] - 6s 4ms/step - loss: 3.7812 - acc: 0.2129\n",
            "Epoch 17/100\n",
            "1381/1381 [==============================] - 6s 4ms/step - loss: 3.6548 - acc: 0.2295\n",
            "Epoch 18/100\n",
            "1381/1381 [==============================] - 6s 4ms/step - loss: 3.5272 - acc: 0.2397\n",
            "Epoch 19/100\n",
            "1381/1381 [==============================] - 6s 4ms/step - loss: 3.3944 - acc: 0.2571\n",
            "Epoch 20/100\n",
            "1381/1381 [==============================] - 6s 4ms/step - loss: 3.2751 - acc: 0.2831\n",
            "Epoch 21/100\n",
            "1381/1381 [==============================] - 6s 4ms/step - loss: 3.1552 - acc: 0.3012\n",
            "Epoch 22/100\n",
            "1381/1381 [==============================] - 6s 4ms/step - loss: 3.0378 - acc: 0.3201\n",
            "Epoch 23/100\n",
            "1381/1381 [==============================] - 6s 4ms/step - loss: 2.9212 - acc: 0.3440\n",
            "Epoch 24/100\n",
            "1381/1381 [==============================] - 6s 4ms/step - loss: 2.8017 - acc: 0.3577\n",
            "Epoch 25/100\n",
            "1381/1381 [==============================] - 6s 4ms/step - loss: 2.7025 - acc: 0.3860\n",
            "Epoch 26/100\n",
            "1381/1381 [==============================] - 6s 4ms/step - loss: 2.5888 - acc: 0.4193\n",
            "Epoch 27/100\n",
            "1381/1381 [==============================] - 6s 4ms/step - loss: 2.4780 - acc: 0.4475\n",
            "Epoch 28/100\n",
            "1381/1381 [==============================] - 6s 4ms/step - loss: 2.3823 - acc: 0.4707\n",
            "Epoch 29/100\n",
            "1381/1381 [==============================] - 6s 4ms/step - loss: 2.2623 - acc: 0.5091\n",
            "Epoch 30/100\n",
            "1381/1381 [==============================] - 6s 4ms/step - loss: 2.1628 - acc: 0.5409\n",
            "Epoch 31/100\n",
            "1381/1381 [==============================] - 6s 4ms/step - loss: 2.0792 - acc: 0.5663\n",
            "Epoch 32/100\n",
            "1381/1381 [==============================] - 6s 4ms/step - loss: 1.9862 - acc: 0.5974\n",
            "Epoch 33/100\n",
            "1381/1381 [==============================] - 6s 4ms/step - loss: 1.8758 - acc: 0.6416\n",
            "Epoch 34/100\n",
            "1381/1381 [==============================] - 6s 4ms/step - loss: 1.7811 - acc: 0.6662\n",
            "Epoch 35/100\n",
            "1381/1381 [==============================] - 6s 4ms/step - loss: 1.6930 - acc: 0.6894\n",
            "Epoch 36/100\n",
            "1381/1381 [==============================] - 6s 4ms/step - loss: 1.6036 - acc: 0.7321\n",
            "Epoch 37/100\n",
            "1381/1381 [==============================] - 6s 4ms/step - loss: 1.5289 - acc: 0.7451\n",
            "Epoch 38/100\n",
            "1381/1381 [==============================] - 6s 4ms/step - loss: 1.4564 - acc: 0.7712\n",
            "Epoch 39/100\n",
            "1381/1381 [==============================] - 6s 4ms/step - loss: 1.3742 - acc: 0.7965\n",
            "Epoch 40/100\n",
            "1381/1381 [==============================] - 6s 4ms/step - loss: 1.2974 - acc: 0.8197\n",
            "Epoch 41/100\n",
            "1381/1381 [==============================] - 6s 4ms/step - loss: 1.2230 - acc: 0.8349\n",
            "Epoch 42/100\n",
            "1381/1381 [==============================] - 6s 4ms/step - loss: 1.1553 - acc: 0.8602\n",
            "Epoch 43/100\n",
            "1381/1381 [==============================] - 6s 4ms/step - loss: 1.0981 - acc: 0.8660\n",
            "Epoch 44/100\n",
            "1381/1381 [==============================] - 5s 4ms/step - loss: 1.0232 - acc: 0.8885\n",
            "Epoch 45/100\n",
            "1381/1381 [==============================] - 6s 4ms/step - loss: 0.9653 - acc: 0.8993\n",
            "Epoch 46/100\n",
            "1381/1381 [==============================] - 6s 4ms/step - loss: 0.9069 - acc: 0.9088\n",
            "Epoch 47/100\n",
            "1381/1381 [==============================] - 6s 4ms/step - loss: 0.8594 - acc: 0.9167\n",
            "Epoch 48/100\n",
            "1381/1381 [==============================] - 6s 4ms/step - loss: 0.8062 - acc: 0.9196\n",
            "Epoch 49/100\n",
            "1381/1381 [==============================] - 6s 4ms/step - loss: 0.7647 - acc: 0.9305\n",
            "Epoch 50/100\n",
            "1381/1381 [==============================] - 6s 4ms/step - loss: 0.7231 - acc: 0.9370\n",
            "Epoch 51/100\n",
            "1381/1381 [==============================] - 6s 4ms/step - loss: 0.6728 - acc: 0.9435\n",
            "Epoch 52/100\n",
            "1381/1381 [==============================] - 6s 4ms/step - loss: 0.6367 - acc: 0.9450\n",
            "Epoch 53/100\n",
            "1381/1381 [==============================] - 6s 4ms/step - loss: 0.6018 - acc: 0.9522\n",
            "Epoch 54/100\n",
            "1381/1381 [==============================] - 6s 5ms/step - loss: 0.5616 - acc: 0.9529\n",
            "Epoch 55/100\n",
            "1381/1381 [==============================] - 6s 5ms/step - loss: 0.5254 - acc: 0.9573\n",
            "Epoch 56/100\n",
            "1381/1381 [==============================] - 6s 4ms/step - loss: 0.5005 - acc: 0.9623\n",
            "Epoch 57/100\n",
            "1381/1381 [==============================] - 6s 4ms/step - loss: 0.4719 - acc: 0.9616\n",
            "Epoch 58/100\n",
            "1381/1381 [==============================] - 6s 4ms/step - loss: 0.4558 - acc: 0.9652\n",
            "Epoch 59/100\n",
            "1381/1381 [==============================] - 6s 4ms/step - loss: 0.4209 - acc: 0.9674\n",
            "Epoch 60/100\n",
            "1381/1381 [==============================] - 6s 4ms/step - loss: 0.4011 - acc: 0.9660\n",
            "Epoch 61/100\n",
            "1381/1381 [==============================] - 6s 4ms/step - loss: 0.3790 - acc: 0.9667\n",
            "Epoch 62/100\n",
            "1381/1381 [==============================] - 6s 4ms/step - loss: 0.3620 - acc: 0.9674\n",
            "Epoch 63/100\n",
            "1381/1381 [==============================] - 6s 4ms/step - loss: 0.3382 - acc: 0.9681\n",
            "Epoch 64/100\n",
            "1381/1381 [==============================] - 6s 4ms/step - loss: 0.3231 - acc: 0.9710\n",
            "Epoch 65/100\n",
            "1381/1381 [==============================] - 6s 4ms/step - loss: 0.3089 - acc: 0.9710\n",
            "Epoch 66/100\n",
            "1381/1381 [==============================] - 6s 4ms/step - loss: 0.2960 - acc: 0.9696\n",
            "Epoch 67/100\n",
            "1381/1381 [==============================] - 6s 4ms/step - loss: 0.2820 - acc: 0.9718\n",
            "Epoch 68/100\n",
            "1381/1381 [==============================] - 6s 4ms/step - loss: 0.2689 - acc: 0.9667\n",
            "Epoch 69/100\n",
            "1381/1381 [==============================] - 6s 4ms/step - loss: 0.2536 - acc: 0.9696\n",
            "Epoch 70/100\n",
            "1381/1381 [==============================] - 6s 4ms/step - loss: 0.2457 - acc: 0.9696\n",
            "Epoch 71/100\n",
            "1381/1381 [==============================] - 6s 4ms/step - loss: 0.2330 - acc: 0.9696\n",
            "Epoch 72/100\n",
            "1381/1381 [==============================] - 6s 4ms/step - loss: 0.2237 - acc: 0.9739\n",
            "Epoch 73/100\n",
            "1381/1381 [==============================] - 6s 4ms/step - loss: 0.2134 - acc: 0.9710\n",
            "Epoch 74/100\n",
            "1381/1381 [==============================] - 6s 4ms/step - loss: 0.2076 - acc: 0.9732\n",
            "Epoch 75/100\n",
            "1381/1381 [==============================] - 6s 4ms/step - loss: 0.2002 - acc: 0.9725\n",
            "Epoch 76/100\n",
            "1381/1381 [==============================] - 6s 4ms/step - loss: 0.1921 - acc: 0.9732\n",
            "Epoch 77/100\n",
            "1381/1381 [==============================] - 6s 4ms/step - loss: 0.1837 - acc: 0.9747\n",
            "Epoch 78/100\n",
            "1381/1381 [==============================] - 6s 4ms/step - loss: 0.1812 - acc: 0.9718\n",
            "Epoch 79/100\n",
            "1381/1381 [==============================] - 6s 4ms/step - loss: 0.1712 - acc: 0.9725\n",
            "Epoch 80/100\n",
            "1381/1381 [==============================] - 6s 4ms/step - loss: 0.1695 - acc: 0.9754\n",
            "Epoch 81/100\n",
            "1381/1381 [==============================] - 6s 4ms/step - loss: 0.1586 - acc: 0.9739\n",
            "Epoch 82/100\n",
            "1381/1381 [==============================] - 6s 4ms/step - loss: 0.1529 - acc: 0.9739\n",
            "Epoch 83/100\n",
            "1381/1381 [==============================] - 6s 4ms/step - loss: 0.1482 - acc: 0.9732\n",
            "Epoch 84/100\n",
            "1381/1381 [==============================] - 6s 4ms/step - loss: 0.1467 - acc: 0.9710\n",
            "Epoch 85/100\n",
            "1381/1381 [==============================] - 6s 4ms/step - loss: 0.1451 - acc: 0.9732\n",
            "Epoch 86/100\n",
            "1381/1381 [==============================] - 6s 4ms/step - loss: 0.1376 - acc: 0.9710\n",
            "Epoch 87/100\n",
            "1381/1381 [==============================] - 6s 4ms/step - loss: 0.1333 - acc: 0.9710\n",
            "Epoch 88/100\n",
            "1381/1381 [==============================] - 6s 4ms/step - loss: 0.1304 - acc: 0.9732\n",
            "Epoch 89/100\n",
            "1381/1381 [==============================] - 6s 4ms/step - loss: 0.1268 - acc: 0.9725\n",
            "Epoch 90/100\n",
            "1381/1381 [==============================] - 6s 4ms/step - loss: 0.1229 - acc: 0.9696\n",
            "Epoch 91/100\n",
            "1381/1381 [==============================] - 6s 4ms/step - loss: 0.1257 - acc: 0.9710\n",
            "Epoch 92/100\n",
            "1381/1381 [==============================] - 6s 4ms/step - loss: 0.1224 - acc: 0.9703\n",
            "Epoch 93/100\n",
            "1381/1381 [==============================] - 6s 4ms/step - loss: 0.1155 - acc: 0.9732\n",
            "Epoch 94/100\n",
            "1381/1381 [==============================] - 6s 4ms/step - loss: 0.1101 - acc: 0.9710\n",
            "Epoch 95/100\n",
            "1381/1381 [==============================] - 6s 4ms/step - loss: 0.1077 - acc: 0.9710\n",
            "Epoch 96/100\n",
            "1381/1381 [==============================] - 6s 4ms/step - loss: 0.1101 - acc: 0.9696\n",
            "Epoch 97/100\n",
            "1381/1381 [==============================] - 6s 4ms/step - loss: 0.1069 - acc: 0.9718\n",
            "Epoch 98/100\n",
            "1381/1381 [==============================] - 5s 4ms/step - loss: 0.1021 - acc: 0.9747\n",
            "Epoch 99/100\n",
            "1381/1381 [==============================] - 6s 4ms/step - loss: 0.1006 - acc: 0.9725\n",
            "Epoch 100/100\n",
            "1381/1381 [==============================] - 6s 4ms/step - loss: 0.0969 - acc: 0.9754\n",
            "Model: \"sequential_1\"\n",
            "_________________________________________________________________\n",
            "Layer (type)                 Output Shape              Param #   \n",
            "=================================================================\n",
            "embedding_1 (Embedding)      (None, 43, 100)           50100     \n",
            "_________________________________________________________________\n",
            "lstm_1 (LSTM)                (None, 43, 150)           150600    \n",
            "_________________________________________________________________\n",
            "lstm_2 (LSTM)                (None, 100)               100400    \n",
            "_________________________________________________________________\n",
            "dense_1 (Dense)              (None, 501)               50601     \n",
            "=================================================================\n",
            "Total params: 351,701\n",
            "Trainable params: 351,701\n",
            "Non-trainable params: 0\n",
            "_________________________________________________________________\n",
            "None\n"
          ],
          "name": "stdout"
        }
      ]
    },
    {
      "cell_type": "code",
      "metadata": {
        "id": "W1wJbT1rC4JU"
      },
      "source": [
        "def generate_text_retrainable_model(seed_text, next_words, max_sequence_len):\n",
        "\tfor _ in range(next_words):\n",
        "\t\ttoken_list = tokenizer.texts_to_sequences([seed_text])[0]\n",
        "\t\ttoken_list = pad_sequences([token_list], maxlen=max_sequence_len-1, padding='pre')\n",
        "\t\tpredicted = model1.predict_classes(token_list, verbose=0)\n",
        "\t\t\n",
        "\t\toutput_word = \"\"\n",
        "\t\tfor word, index in tokenizer.word_index.items():\n",
        "\t\t\tif index == predicted:\n",
        "\t\t\t\toutput_word = word\n",
        "\t\t\t\tbreak\n",
        "\t\tseed_text += \" \" + output_word\n",
        "\treturn seed_text"
      ],
      "execution_count": null,
      "outputs": []
    },
    {
      "cell_type": "code",
      "metadata": {
        "id": "prbMugK2D2u7",
        "outputId": "a0d2d1b7-89f7-4b5d-f738-4f652e4dd48b",
        "colab": {
          "base_uri": "https://localhost:8080/",
          "height": 34
        }
      },
      "source": [
        "print (generate_text_retrainable_model(\"individual\", 2, max_sequence_len))"
      ],
      "execution_count": null,
      "outputs": [
        {
          "output_type": "stream",
          "text": [
            "individual health insurance\n"
          ],
          "name": "stdout"
        }
      ]
    },
    {
      "cell_type": "code",
      "metadata": {
        "id": "hStcxq_sC361"
      },
      "source": [
        "\n",
        "\n",
        "model1.save('/content/drive/My Drive/WordPrediction/modelGloveRetrained.h5')  # creates a HDF5 file 'my_model.h5'\n",
        "del model1  # deletes the existing model\n"
      ],
      "execution_count": null,
      "outputs": []
    },
    {
      "cell_type": "code",
      "metadata": {
        "id": "RuL2aqNhENzQ"
      },
      "source": [
        "# returns a compiled model\n",
        "# identical to the previous one\n",
        "model1 = load_model('/content/drive/My Drive/WordPrediction/modelGloveRetrained.h5')"
      ],
      "execution_count": null,
      "outputs": []
    },
    {
      "cell_type": "code",
      "metadata": {
        "id": "V3_A6btfEf7I",
        "outputId": "afe4bb71-3304-4044-dfd3-245095430584",
        "colab": {
          "base_uri": "https://localhost:8080/",
          "height": 34
        }
      },
      "source": [
        "print (generate_text_retrainable_model(\"hospital\", 10, max_sequence_len))"
      ],
      "execution_count": null,
      "outputs": [
        {
          "output_type": "stream",
          "text": [
            "hospital benefits including coverage of new born baby along with vaccination\n"
          ],
          "name": "stdout"
        }
      ]
    },
    {
      "cell_type": "code",
      "metadata": {
        "id": "PEbUkEm5Hd5n",
        "outputId": "2151747d-bca5-45a1-d478-9fc3b2b6ee95",
        "colab": {
          "base_uri": "https://localhost:8080/",
          "height": 34
        }
      },
      "source": [
        "print (generate_text_retrainable_model(\"critical\", 4, max_sequence_len))"
      ],
      "execution_count": null,
      "outputs": [
        {
          "output_type": "stream",
          "text": [
            "critical illness health insurance planstaken\n"
          ],
          "name": "stdout"
        }
      ]
    },
    {
      "cell_type": "code",
      "metadata": {
        "id": "wJKGWDliHl0L",
        "outputId": "16a4f229-0dbe-449b-8a33-6c04e443db9d",
        "colab": {
          "base_uri": "https://localhost:8080/",
          "height": 34
        }
      },
      "source": [
        "print (generate_text_retrainable_model(\"claim\", 4, max_sequence_len))"
      ],
      "execution_count": null,
      "outputs": [
        {
          "output_type": "stream",
          "text": [
            "claim the premium costs on\n"
          ],
          "name": "stdout"
        }
      ]
    },
    {
      "cell_type": "code",
      "metadata": {
        "id": "bYT6ecsvHuWj",
        "outputId": "a2bc44a3-40f7-411c-ebfb-eab3a6781244",
        "colab": {
          "base_uri": "https://localhost:8080/",
          "height": 34
        }
      },
      "source": [
        "print (generate_text_retrainable_model(\"reimbursement\", 4, max_sequence_len))"
      ],
      "execution_count": null,
      "outputs": [
        {
          "output_type": "stream",
          "text": [
            "reimbursement of new procedures of\n"
          ],
          "name": "stdout"
        }
      ]
    },
    {
      "cell_type": "code",
      "metadata": {
        "id": "bTYjhffjHylN"
      },
      "source": [
        ""
      ],
      "execution_count": null,
      "outputs": []
    }
  ]
}