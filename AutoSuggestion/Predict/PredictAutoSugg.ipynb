{
  "nbformat": 4,
  "nbformat_minor": 0,
  "metadata": {
    "colab": {
      "name": "PredictAutoSugg.ipynb",
      "provenance": [],
      "collapsed_sections": [],
      "toc_visible": true,
      "mount_file_id": "1W2tshU0FCTr9l5cFtnL2owh-6Zzxu2Q0",
      "authorship_tag": "ABX9TyNjPC0BIwmnxD/oslLBcl/Z",
      "include_colab_link": true
    },
    "kernelspec": {
      "name": "python3",
      "display_name": "Python 3"
    },
    "accelerator": "GPU"
  },
  "cells": [
    {
      "cell_type": "markdown",
      "metadata": {
        "id": "view-in-github",
        "colab_type": "text"
      },
      "source": [
        "<a href=\"https://colab.research.google.com/github/shubhamksingh1/WordPrediction_and_Autosuggestion/blob/main/AutoSuggestion/Predict/PredictAutoSugg.ipynb\" target=\"_parent\"><img src=\"https://colab.research.google.com/assets/colab-badge.svg\" alt=\"Open In Colab\"/></a>"
      ]
    },
    {
      "cell_type": "code",
      "metadata": {
        "id": "6Wtsx6iQqU7e"
      },
      "source": [
        ""
      ],
      "execution_count": null,
      "outputs": []
    },
    {
      "cell_type": "code",
      "metadata": {
        "id": "-PHPQ65lqkQG",
        "outputId": "bcdb8fe3-7f47-4aae-89b5-d0528f398a5e",
        "colab": {
          "base_uri": "https://localhost:8080/",
          "height": 122
        }
      },
      "source": [
        "from google.colab import drive\n",
        "drive.mount('/content/drive')"
      ],
      "execution_count": null,
      "outputs": [
        {
          "output_type": "stream",
          "text": [
            "Go to this URL in a browser: https://accounts.google.com/o/oauth2/auth?client_id=947318989803-6bn6qk8qdgf4n4g3pfee6491hc0brc4i.apps.googleusercontent.com&redirect_uri=urn%3aietf%3awg%3aoauth%3a2.0%3aoob&response_type=code&scope=email%20https%3a%2f%2fwww.googleapis.com%2fauth%2fdocs.test%20https%3a%2f%2fwww.googleapis.com%2fauth%2fdrive%20https%3a%2f%2fwww.googleapis.com%2fauth%2fdrive.photos.readonly%20https%3a%2f%2fwww.googleapis.com%2fauth%2fpeopleapi.readonly\n",
            "\n",
            "Enter your authorization code:\n",
            "··········\n",
            "Mounted at /content/drive\n"
          ],
          "name": "stdout"
        }
      ]
    },
    {
      "cell_type": "code",
      "metadata": {
        "id": "1H2qVgLvqlAo",
        "outputId": "036deb82-ec2b-4c01-f30e-5b94d19efe6b",
        "colab": {
          "base_uri": "https://localhost:8080/",
          "height": 34
        }
      },
      "source": [
        "%tensorflow_version 1.x \n",
        "import numpy as np\n",
        "import pickle\n",
        "from keras.models import load_model\n",
        "from keras.preprocessing.sequence import pad_sequences"
      ],
      "execution_count": null,
      "outputs": [
        {
          "output_type": "stream",
          "text": [
            "Using TensorFlow backend.\n"
          ],
          "name": "stderr"
        }
      ]
    },
    {
      "cell_type": "code",
      "metadata": {
        "id": "TAaxKfPKrAtQ",
        "outputId": "f5e0f526-2dc7-4f86-eed9-5b684ff4a6db",
        "colab": {
          "base_uri": "https://localhost:8080/",
          "height": 530
        }
      },
      "source": [
        "model1 = load_model('/content/drive/My Drive/WordPrediction/modelbotRetrained_500.h5')"
      ],
      "execution_count": null,
      "outputs": [
        {
          "output_type": "stream",
          "text": [
            "WARNING:tensorflow:From /usr/local/lib/python3.6/dist-packages/keras/backend/tensorflow_backend.py:541: The name tf.placeholder is deprecated. Please use tf.compat.v1.placeholder instead.\n",
            "\n",
            "WARNING:tensorflow:From /usr/local/lib/python3.6/dist-packages/keras/backend/tensorflow_backend.py:4432: The name tf.random_uniform is deprecated. Please use tf.random.uniform instead.\n",
            "\n",
            "WARNING:tensorflow:From /usr/local/lib/python3.6/dist-packages/keras/backend/tensorflow_backend.py:66: The name tf.get_default_graph is deprecated. Please use tf.compat.v1.get_default_graph instead.\n",
            "\n",
            "WARNING:tensorflow:From /usr/local/lib/python3.6/dist-packages/keras/backend/tensorflow_backend.py:190: The name tf.get_default_session is deprecated. Please use tf.compat.v1.get_default_session instead.\n",
            "\n",
            "WARNING:tensorflow:From /usr/local/lib/python3.6/dist-packages/keras/backend/tensorflow_backend.py:197: The name tf.ConfigProto is deprecated. Please use tf.compat.v1.ConfigProto instead.\n",
            "\n",
            "WARNING:tensorflow:From /usr/local/lib/python3.6/dist-packages/keras/backend/tensorflow_backend.py:203: The name tf.Session is deprecated. Please use tf.compat.v1.Session instead.\n",
            "\n",
            "WARNING:tensorflow:From /usr/local/lib/python3.6/dist-packages/keras/backend/tensorflow_backend.py:207: The name tf.global_variables is deprecated. Please use tf.compat.v1.global_variables instead.\n",
            "\n",
            "WARNING:tensorflow:From /usr/local/lib/python3.6/dist-packages/keras/backend/tensorflow_backend.py:216: The name tf.is_variable_initialized is deprecated. Please use tf.compat.v1.is_variable_initialized instead.\n",
            "\n",
            "WARNING:tensorflow:From /usr/local/lib/python3.6/dist-packages/keras/backend/tensorflow_backend.py:223: The name tf.variables_initializer is deprecated. Please use tf.compat.v1.variables_initializer instead.\n",
            "\n",
            "WARNING:tensorflow:From /usr/local/lib/python3.6/dist-packages/keras/optimizers.py:793: The name tf.train.Optimizer is deprecated. Please use tf.compat.v1.train.Optimizer instead.\n",
            "\n",
            "WARNING:tensorflow:From /usr/local/lib/python3.6/dist-packages/keras/backend/tensorflow_backend.py:3576: The name tf.log is deprecated. Please use tf.math.log instead.\n",
            "\n",
            "WARNING:tensorflow:From /tensorflow-1.15.0/python3.6/tensorflow_core/python/ops/math_grad.py:1424: where (from tensorflow.python.ops.array_ops) is deprecated and will be removed in a future version.\n",
            "Instructions for updating:\n",
            "Use tf.where in 2.0, which has the same broadcast rule as np.where\n",
            "WARNING:tensorflow:From /usr/local/lib/python3.6/dist-packages/keras/backend/tensorflow_backend.py:1033: The name tf.assign_add is deprecated. Please use tf.compat.v1.assign_add instead.\n",
            "\n",
            "WARNING:tensorflow:From /usr/local/lib/python3.6/dist-packages/keras/backend/tensorflow_backend.py:1020: The name tf.assign is deprecated. Please use tf.compat.v1.assign instead.\n",
            "\n"
          ],
          "name": "stdout"
        }
      ]
    },
    {
      "cell_type": "code",
      "metadata": {
        "id": "Xzwj2j1DrI55"
      },
      "source": [
        "tokenizer = pickle.load(open(\"/content/drive/My Drive/WordPrediction/tokenizer_bot.pickle\", \"rb\" ) )"
      ],
      "execution_count": null,
      "outputs": []
    },
    {
      "cell_type": "code",
      "metadata": {
        "id": "MwOjJj-Vv0uh",
        "colab": {
          "base_uri": "https://localhost:8080/",
          "height": 34
        },
        "outputId": "fd8b61b3-b4b8-4584-a4f5-b4ec7da44cf0"
      },
      "source": [
        "# print(tokenizer)"
      ],
      "execution_count": null,
      "outputs": [
        {
          "output_type": "stream",
          "text": [
            "<keras_preprocessing.text.Tokenizer object at 0x7fd80ad6cbe0>\n"
          ],
          "name": "stdout"
        }
      ]
    },
    {
      "cell_type": "code",
      "metadata": {
        "id": "ezgCar8Vv4X2",
        "colab": {
          "base_uri": "https://localhost:8080/",
          "height": 54
        },
        "outputId": "3791ed6e-ee8c-4217-bf48-bb944fd2474c"
      },
      "source": [
        "# print(tokenizer.word_index)"
      ],
      "execution_count": null,
      "outputs": [
        {
          "output_type": "stream",
          "text": [
            "{'you': 1, 'what': 2, 'me': 3, 'i': 4, 'can': 5, 'courses': 6, 'are': 7, 'tell': 8, 'about': 9, 'is': 10, 'to': 11, 'course': 12, 'the': 13, 'lia': 14, 'do': 15, 'your': 16, 'how': 17, 'of': 18, 'am': 19, 'want': 20, 'competencies': 21, 'explain': 22, 'know': 23, 'a': 24, 'popular': 25, 'by': 26, 'means': 27, 'mean': 28, 'on': 29, 'who': 30, 'new': 31, 'were': 32, 'my': 33, 'more': 34, 'meaning': 35, 'not': 36, 'elaborate': 37, \"what's\": 38, 'cancel': 39, 'sme': 40, 'it': 41, 'for': 42, 'help': 43, 'delivery': 44, 'modes': 45, 'where': 46, 'ilt': 47, 'feedback': 48, 'so': 49, 'expired': 50, \"you're\": 51, 'mandatory': 52, 'page': 53, 'search': 54, 'learning': 55, 'points': 56, 'have': 57, 'please': 58, 'bot': 59, 'this': 60, 'prerequisites': 61, 'reviews': 62, 'notifications': 63, 'in': 64, 'from': 65, 'launch': 66, 'drop': 67, 'good': 68, 'that': 69, 'unaware': 70, 'aware': 71, 'enroll': 72, 'leave': 73, 'activity': 74, 'any': 75, 'overview': 76, 'quit': 77, 'with': 78, 'look': 79, 'very': 80, 'no': 81, 'some': 82, 'wbt': 83, \"don't\": 84, 'now': 85, 'answer': 86, 'thanks': 87, 'give': 88, 'be': 89, 'get': 90, 'annoying': 91, 'made': 92, 'did': 93, 'bye': 94, 'really': 95, 'work': 96, 'up': 97, 'which': 98, 'age': 99, 'will': 100, 'job': 101, 'apply': 102, 'being': 103, 'just': 104, 'beautiful': 105, 'boring': 106, 'leaves': 107, 'hi': 108, \"i'm\": 109, 'and': 110, 'need': 111, 'vilt': 112, 'show': 113, 'suggest': 114, 'offer': 115, 'hey': 116, 'there': 117, 'like': 118, 'old': 119, 'birthday': 120, 'today': 121, 'hungry': 122, 'request': 123, 'hello': 124, 'created': 125, 'was': 126, 'day': 127, 'company': 128, 'does': 129, 'pretty': 130, 'types': 131, 'talk': 132, 'great': 133, 'thank': 134, 'ok': 135, 'come': 136, 'born': 137, 'birth': 138, 'think': 139, 'else': 140, 'boss': 141, 'question': 142, 'looking': 143, 'forget': 144, 'type': 145, 'whats': 146, 'when': 147, 'city': 148, 'home': 149, 'going': 150, 'doing': 151, 'stop': 152, 'information': 153, 'marry': 154, 'added': 155, \"it's\": 156, 'bad': 157, 'everything': 158, 'cool': 159, 'as': 160, 'way': 161, 'build': 162, 'u': 163, 'last': 164, 'been': 165, 'at': 166, 'name': 167, 'hometown': 168, \"how's\": 169, 'but': 170, 'eat': 171, 'bored': 172, 'we': 173, 'session': 174, 'speak': 175, 'recommend': 176, 'abused': 177, 'said': 178, 'talking': 179, 'much': 180, 'built': 181, 'let': 182, 'they': 183, 'many': 184, 'year': 185, 'here': 186, 'life': 187, 'all': 188, \"can't\": 189, \"who's\": 190, 'why': 191, 'learn': 192, 'smart': 193, 'cute': 194, 'web': 195, 'based': 196, 'training': 197, 'details': 198, 'sessions': 199, 'list': 200, 'sick': 201, 'workplace': 202, 'complaint': 203, 'proceed': 204, 'morning': 205, 'again': 206, 'friend': 207, 'an': 208, 'idea': 209, 'make': 210, 'see': 211, 'go': 212, 'later': 213, 'nice': 214, 'then': 215, 'years': 216, 'if': 217, \"where's\": 218, 'guess': 219, \"that's\": 220, 'conversation': 221, 'owner': 222, 'invented': 223, 'should': 224, 'could': 225, 'anything': 226, 'find': 227, 'gorgeous': 228, 'date': 229, 'would': 230, 'skip': 231, 'ice': 232, 'cream': 233, 'change': 234, 'rasa': 235, 'career': 236, 'searching': 237, 'harassed': 238, 'verbally': 239, 'raise': 240, 'harassment': 241, 'contact': 242, 'hr': 243, 'tcs': 244, 'robot': 245, \"let's\": 246, 'feeling': 247, 'sad': 248, 'amazing': 249, 'exactly': 250, 'process': 251, 'constructed': 252, 'devised': 253, 'into': 254, 'meet': 255, 'next': 256, 'long': 257, 'live': 258, 'grow': 259, 'town': 260, 'residence': 261, 'things': 262, 'right': 263, 'man': 264, 'nothing': 265, 'call': 266, 'yourself': 267, 'ask': 268, 'had': 269, 'use': 270, 'something': 271, 'one': 272, 'annoy': 273, 'better': 274, 'attractive': 275, 'awesome': 276, 'sorry': 277, 'oh': 278, 'dripping': 279, 'care': 280, 'already': 281, 'told': 282, 'days': 283, 'docs': 284, 'immediately': 285, 'employee': 286, 'different': 287, 'take': 288, 'topic': 289, 'experties': 290, 'unable': 291, 'manager': 292, 'discriminated': 293, 'sweet': 294, 'well': 295, 'evening': 296, 'extremely': 297, 'human': 298, 'perfect': 299, 'bunch': 300, 'lot': 301, 'news': 302, \"i'd\": 303, 'formed': 304, 'put': 305, 'create': 306, 'used': 307, 'conceived': 308, 'through': 309, 'ya': 310, 'udo': 311, 'b': 312, 'celebrated': 313, 'around': 314, 'alive': 315, 'country': 316, 'claim': 317, 'location': 318, 'house': 319, 'having': 320, 'okay': 321, 'feel': 322, 'treating': 323, 'cant': 324, 'shit': 325, 'helpful': 326, 'designed': 327, 'generated': 328, 'creator': 329, 'owns': 330, 'thought': 331, 'mind': 332, 'working': 333, 'possible': 334, 'knock': 335, 'incredibly': 336, 'too': 337, 'questions': 338, 'clever': 339, 'trained': 340, 'handsome': 341, 'wonderful': 342, 'free': 343, 'joke': 344, 'back': 345, 'yep': 346, 'single': 347, 'food': 348, 'bots': 349, 'wait': 350, 'chicken': 351, 'french': 352, 'restaurant': 353, 'email': 354, \"doesn't\": 355, 'hate': 356, 'phone': 357, 'shitmuncher': 358, 'mouse': 359, 'couple': 360, 'newsletter': 361, 'than': 362, 'accept': 363, 'nah': 364, 'those': 365, 'giving': 366, 'eloborate': 367, 'gist': 368, 'path': 369, 'disscuss': 370, 'most': 371, 'flexi': 372, 'environment': 373, 'quitting': 374, 'file': 375, 'team': 376, 'folks': 377, 'mister': 378, 'pal': 379, 'everybody': 380, 'anybody': 381, 'boy': 382, 'sweatheart': 383, 'ayyyy': 384, 'whaddup': 385, 'helllllloooooo': 386, 'dude': 387, 'afternoon': 388, 'cheers': 389, 'bro': 390, 'ton': 391, 'making': 392, 'specify': 393, 'together': 394, 'say': 395, 'manner': 396, 'shaped': 397, 'originated': 398, 'set': 399, 'method': 400, 'fashioned': 401, 'night': 402, 'gotta': 403, 'catch': 404, 'k': 405, 'byyye': 406, 'cu': 407, 'exact': 408, 'birthdate': 409, 'celebrate': 410, 'candles': 411, 'cake': 412, 'friends': 413, 'same': 414, 'month': 415, 'lived': 416, 'occupied': 417, 'earth': 418, 'state': 419, 'before': 420, 'parents': 421, 'spend': 422, 'youth': 423, 'consider': 424, 'citizenship': 425, 'lay': 426, 'heritage': 427, 'birthplace': 428, 'root': 429, 'origin': 430, 'originate': 431, 'roots': 432, 'origins': 433, 'area': 434, 'place': 435, 'came': 436, 'ahoy': 437, 'matey': 438, 'alright': 439, 'hanging': 440, \"how've\": 441, 'fine': 442, 'helping': 443, 'doesnt': 444, 'hm': 445, 'share': 446, 'may': 447, 'creators': 448, 'founders': 449, 'brought': 450, 'existence': 451, 'builder': 452, 'fabricated': 453, 'generate': 454, 'behind': 455, 'legal': 456, 'programmer': 457, 'modeled': 458, 'produced': 459, 'went': 460, 'trouble': 461, 'setting': 462, 'yoi': 463, 'stuck': 464, 'able': 465, 'asked': 466, 'options': 467, 'sentence': 468, 'speaking': 469, 'r': 470, 'ur': 471, 'called': 472, 'introduction': 473, 'introduce': 474, 'intro': 475, 'irritating': 476, 'such': 477, 'starting': 478, 'answering': 479, 'study': 480, 'must': 481, 'smarter': 482, 'qualified': 483, 'useful': 484, 'out': 485, 'box': 486, 'smarty': 487, 'pants': 488, 'improve': 489, 'brains': 490, 'fantastic': 491, 'cutie': 492, \"when's\": 493, 'busy': 494, 'might': 495, 'dying': 496, 'hunger': 497, 'interesting': 498, 'everyone': 499, 'because': 500, 'im': 501, 'answers': 502, 'terribly': 503, 'speech': 504, 'whole': 505, 'thing': 506, 'end': 507, 'disregard': 508, 'require': 509, 'sure': 510, 'barbara': 511, 'still': 512, 'married': 513, 'singe': 514, 'mingle': 515, 'pizza': 516, 'someone': 517, 'police': 518, 'died': 519, 'loser': 520, 'lmao': 521, 'mad': 522, 'guy': 523, 'crazy': 524, 'hang': 525, 'changed': 526, 'stupid': 527, 'keep': 528, 'chatting': 529, 'god': 530, 'our': 531, 'common': 532, 'try': 533, 'suck': 534, 'dont': 535, 'instruct': 536, 'ohh': 537, 'confused': 538, 'weather': 539, 'cone': 540, 'catches': 541, 'drink': 542, 'non': 543, 'picture': 544, 'cuisine': 545, 'shown': 546, 'gluten': 547, 'gave': 548, 'address': 549, 'break': 550, 'wanna': 551, 'link': 552, 'frustrating': 553, 'experience': 554, 'silly': 555, 'first': 556, 'wasteland': 557, 'full': 558, 'broken': 559, 'parts': 560, 'deal': 561, 'anser': 562, 'noises': 563, 'wife': 564, 'weekend': 565, 'kids': 566, 'rather': 567, 'dull': 568, 'personal': 569, 'or': 570, 'using': 571, 'core': 572, 'nlu': 573, 'engineers': 574, 'favourite': 575, 'tamed': 576, 'arrive': 577, 'doorstep': 578, 'red': 579, 'rose': 580, 'carries': 581, 'between': 582, 'its': 583, 'teeth': 584, 'tame': 585, \"isn't\": 586, 'spam': 587, 'cannot': 588, 'rephrase': 589, 'rest': 590, 'api': 591, 'badass': 592, 'business': 593, 'implementing': 594, 'coolest': 595, 'imagine': 596, 'contacted': 597, 'ago': 598, \"didn't\": 599, 'response': 600, 'hurry': 601, 'deadline': 602, 'two': 603, 'weeks': 604, 'deliver': 605, 'big': 606, 'kannst': 607, 'du': 608, 'auch': 609, 'deutsch': 610, 'worth': 611, 'subscription': 612, 'pity': 613, 'number': 614, \"akela's\": 615, 'cats': 616, 'don’t': 617, 'english': 618, 'site': 619, 'definitely': 620, 'absolutely': 621, 'afraid': 622, 'sir': 623, \"ma'am\": 624, 'decline': 625, 'wrong': 626, 'either': 627, 'neither': 628, 'these': 629, 'id': 630, 'empid': 631, \"haven't\": 632, 'decided': 633, 'yet': 634, 'popukar': 635, 'competency': 636, 'various': 637, 'carrier': 638, 'guidence': 639, 'skilled': 640, 'technology': 641, 'upcoming': 642, 'after': 643, 'status': 644, 'doubt': 645, 'gimme': 646, 'anyone': 647, 'touch': 648, 'suggested': 649, 'expertise': 650, 'highest': 651, 'ratings': 652, 'recommendation': 653, 'trending': 654, 'market': 655, 'vlit': 656, 'virtual': 657, 'instructor': 658, 'lead': 659, 'recently': 660, 'pursue': 661, 'higher': 662, 'studies': 663, 'serious': 664, 'health': 665, 'issues': 666, 'balance': 667, 'pregnant': 668, 'stressed': 669, 'lately': 670, 'culture': 671, 'longer': 672, 'continue': 673, 'organisation': 674, 'shifts': 675, 'cope': 676, 'shift': 677, 'timings': 678, 'far': 679, 'away': 680, 'tl': 681, 'collegue': 682, 'abusing': 683, 'incident': 684, 'facing': 685, 'sexual': 686, 'physically': 687, 'toxic': 688, 'due': 689, 'gender': 690, 'belong': 691, 'lgbt': 692, 'community': 693, 'caste': 694, 'bus': 695, 'driver': 696, 'issue': 697, 'thinking': 698, 'gym': 699, 'trainer': 700, 'harassing': 701, 'constantly': 702, 'mates': 703, 'complain': 704, 'mate': 705, 'assaulted': 706, 'religion': 707, 'underpaid': 708, 'feels': 709, 'pointless': 710, 'wish': 711, 'direction': 712, 'wanting': 713, 'has': 714, 'kind': 715, 'delete': 716, '3': 717}\n"
          ],
          "name": "stdout"
        }
      ]
    },
    {
      "cell_type": "code",
      "metadata": {
        "id": "ev8PEy70wBZV"
      },
      "source": [
        "# token_list = tokenizer.texts_to_sequences([\"delete\"])[0]"
      ],
      "execution_count": null,
      "outputs": []
    },
    {
      "cell_type": "code",
      "metadata": {
        "id": "S9535dKcwHIj",
        "colab": {
          "base_uri": "https://localhost:8080/",
          "height": 34
        },
        "outputId": "3002a2ce-064f-4611-87a4-97408fdb1244"
      },
      "source": [
        "# token_list"
      ],
      "execution_count": null,
      "outputs": [
        {
          "output_type": "execute_result",
          "data": {
            "text/plain": [
              "[716]"
            ]
          },
          "metadata": {
            "tags": []
          },
          "execution_count": 7
        }
      ]
    },
    {
      "cell_type": "code",
      "metadata": {
        "id": "t-IlnEYcrRjh"
      },
      "source": [
        "# def generate_phrase(seed_text, next_words=3, max_sequence_len=19):\n",
        "# \tfor _ in range(next_words):\n",
        "# \t\ttoken_list = tokenizer.texts_to_sequences([seed_text])[0]\n",
        "# \t\ttoken_list = pad_sequences([token_list], maxlen=max_sequence_len-1, padding='pre')\n",
        "# \t\tpredicted = model1.predict_classes(token_list, verbose=0)\n",
        "\t\t\n",
        "# \t\toutput_word = \"\"\n",
        "# \t\tfor word, index in tokenizer.word_index.items():\n",
        "# \t\t\tif index == predicted:\n",
        "# \t\t\t\toutput_word = word\n",
        "# \t\t\t\tbreak\n",
        "# \t\tseed_text += \" \" + output_word\n",
        "# \treturn seed_text"
      ],
      "execution_count": null,
      "outputs": []
    },
    {
      "cell_type": "code",
      "metadata": {
        "id": "BHMbnxZQrSmX"
      },
      "source": [
        "def generate_word(seed_text, max_sequence_len=19):\n",
        "    token_list = tokenizer.texts_to_sequences([seed_text])[0]\n",
        "    token_list = pad_sequences([token_list], maxlen=max_sequence_len-1, padding='pre')\n",
        "    predicted = model1.predict(token_list, verbose=0)\n",
        "    flattened_predict = predicted.flatten()\n",
        "    pred_idx_list = flattened_predict.argsort()[:-4:-1]\n",
        "    output_word = [seed_text]\n",
        "    for i in pred_idx_list:\n",
        "        for word, index in tokenizer.word_index.items():\n",
        "            if index == i:\n",
        "                output_word.append(word)\n",
        "                break\n",
        "    return output_word"
      ],
      "execution_count": null,
      "outputs": []
    },
    {
      "cell_type": "code",
      "metadata": {
        "id": "kBMTG7pdsO1B"
      },
      "source": [
        "def generate_phrase(seed_text, next_words=3, max_sequence_len=19):\n",
        "    result_phrase=\"\"\n",
        "    for _ in range(next_words):\n",
        "        token_list = tokenizer.texts_to_sequences([seed_text])[0]\n",
        "        token_list = pad_sequences([token_list], maxlen=max_sequence_len-1, padding='pre')\n",
        "        predicted = model1.predict_classes(token_list, verbose=0)\n",
        "        output_word = \"\"\n",
        "        for word, index in tokenizer.word_index.items():\n",
        "            if index == predicted:\n",
        "                output_word = word\n",
        "                result_phrase += \" \"+output_word\n",
        "                break\n",
        "        seed_text += \" \" + output_word\n",
        "    return result_phrase"
      ],
      "execution_count": null,
      "outputs": []
    },
    {
      "cell_type": "code",
      "metadata": {
        "id": "jLka_Gq_r5pF",
        "outputId": "15292e91-ed39-4bb0-f0b7-9555d410611b",
        "colab": {
          "base_uri": "https://localhost:8080/",
          "height": 34
        }
      },
      "source": [
        "print(generate_word(\"delete\"))"
      ],
      "execution_count": null,
      "outputs": [
        {
          "output_type": "stream",
          "text": [
            "['delete', 'my', 'the', 'it']\n"
          ],
          "name": "stdout"
        }
      ]
    },
    {
      "cell_type": "code",
      "metadata": {
        "id": "8mHdXkXzsF9p",
        "outputId": "c656ea40-8e15-4922-bf1f-a5c4fd54af5a",
        "colab": {
          "base_uri": "https://localhost:8080/",
          "height": 34
        }
      },
      "source": [
        "print(generate_phrase(\"delete\"))"
      ],
      "execution_count": null,
      "outputs": [
        {
          "output_type": "stream",
          "text": [
            " my leave request\n"
          ],
          "name": "stdout"
        }
      ]
    },
    {
      "cell_type": "code",
      "metadata": {
        "id": "ZTHYecN3yNLK"
      },
      "source": [
        ""
      ],
      "execution_count": null,
      "outputs": []
    }
  ]
}