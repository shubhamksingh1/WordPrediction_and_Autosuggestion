{
  "nbformat": 4,
  "nbformat_minor": 0,
  "metadata": {
    "colab": {
      "name": "autocomplete.ipynb",
      "provenance": [],
      "collapsed_sections": [],
      "toc_visible": true,
      "authorship_tag": "ABX9TyNcjfBcy6zKIbY2G5jQ1ype",
      "include_colab_link": true
    },
    "kernelspec": {
      "name": "python3",
      "display_name": "Python 3"
    },
    "accelerator": "GPU"
  },
  "cells": [
    {
      "cell_type": "markdown",
      "metadata": {
        "id": "view-in-github",
        "colab_type": "text"
      },
      "source": [
        "<a href=\"https://colab.research.google.com/github/shubhamksingh1/WordPrediction_and_Autosuggestion/blob/main/Autocomplete/autocomplete.ipynb\" target=\"_parent\"><img src=\"https://colab.research.google.com/assets/colab-badge.svg\" alt=\"Open In Colab\"/></a>"
      ]
    },
    {
      "cell_type": "code",
      "metadata": {
        "id": "tuYoJqT4KZgu",
        "colab": {
          "base_uri": "https://localhost:8080/",
          "height": 258
        },
        "outputId": "7ea9fa5a-4693-49ce-8857-a5baf648334a"
      },
      "source": [
        "!pip install autocomplete"
      ],
      "execution_count": null,
      "outputs": [
        {
          "output_type": "stream",
          "text": [
            "Collecting autocomplete\n",
            "\u001b[?25l  Downloading https://files.pythonhosted.org/packages/0d/86/eca9bfe39b21d2d7cbc523ae11610a4aac1b9cfd5f9d28ab9a0ca9d1bcc7/autocomplete-0.0.104.zip (2.4MB)\n",
            "\u001b[K     |████████████████████████████████| 2.4MB 2.8MB/s \n",
            "\u001b[?25hCollecting bottle\n",
            "\u001b[?25l  Downloading https://files.pythonhosted.org/packages/e9/39/2bf3a1fd963e749cdbe5036a184eda8c37d8af25d1297d94b8b7aeec17c4/bottle-0.12.18-py3-none-any.whl (89kB)\n",
            "\u001b[K     |████████████████████████████████| 92kB 9.6MB/s \n",
            "\u001b[?25hBuilding wheels for collected packages: autocomplete\n",
            "  Building wheel for autocomplete (setup.py) ... \u001b[?25l\u001b[?25hdone\n",
            "  Created wheel for autocomplete: filename=autocomplete-0.0.104-cp36-none-any.whl size=2418807 sha256=3d61f350c7c9d1edfdc14ce15aff46733d7a8fa9269c26ef575cc24c1cc88418\n",
            "  Stored in directory: /root/.cache/pip/wheels/4d/11/f3/ddb45c67013e9197c3a9f90b04ecfbbac238ec640162398ca1\n",
            "Successfully built autocomplete\n",
            "Installing collected packages: bottle, autocomplete\n",
            "Successfully installed autocomplete-0.0.104 bottle-0.12.18\n"
          ],
          "name": "stdout"
        }
      ]
    },
    {
      "cell_type": "code",
      "metadata": {
        "id": "b8-Th0IUSJs4",
        "colab": {
          "base_uri": "https://localhost:8080/",
          "height": 122
        },
        "outputId": "71bed582-7cb7-4dab-cd61-212041ea1a21"
      },
      "source": [
        "from google.colab import drive\n",
        "drive.mount('/content/drive')"
      ],
      "execution_count": null,
      "outputs": [
        {
          "output_type": "stream",
          "text": [
            "Go to this URL in a browser: https://accounts.google.com/o/oauth2/auth?client_id=947318989803-6bn6qk8qdgf4n4g3pfee6491hc0brc4i.apps.googleusercontent.com&redirect_uri=urn%3aietf%3awg%3aoauth%3a2.0%3aoob&response_type=code&scope=email%20https%3a%2f%2fwww.googleapis.com%2fauth%2fdocs.test%20https%3a%2f%2fwww.googleapis.com%2fauth%2fdrive%20https%3a%2f%2fwww.googleapis.com%2fauth%2fdrive.photos.readonly%20https%3a%2f%2fwww.googleapis.com%2fauth%2fpeopleapi.readonly\n",
            "\n",
            "Enter your authorization code:\n",
            "··········\n",
            "Mounted at /content/drive\n"
          ],
          "name": "stdout"
        }
      ]
    },
    {
      "cell_type": "code",
      "metadata": {
        "id": "gr1RkY15LwXM",
        "colab": {
          "base_uri": "https://localhost:8080/",
          "height": 102
        },
        "outputId": "aad899cf-260c-4a23-a68d-9126c7c4d885"
      },
      "source": [
        "import autocomplete\n",
        "autocomplete.load()"
      ],
      "execution_count": null,
      "outputs": [
        {
          "output_type": "stream",
          "text": [
            "training!\n",
            "Error in opening pickle object. Training on default corpus text.\n",
            "saving to: /usr/local/lib/python3.6/dist-packages/autocomplete/models_compressed.pkl\n",
            "done training!\n"
          ],
          "name": "stdout"
        },
        {
          "output_type": "execute_result",
          "data": {
            "text/plain": [
              "True"
            ]
          },
          "metadata": {
            "tags": []
          },
          "execution_count": 3
        }
      ]
    },
    {
      "cell_type": "code",
      "metadata": {
        "id": "wtntc1vOL2V_",
        "colab": {
          "base_uri": "https://localhost:8080/",
          "height": 187
        },
        "outputId": "64163446-9e6f-4694-9909-cd35c67efd1a"
      },
      "source": [
        "autocomplete.predict('the','b')"
      ],
      "execution_count": null,
      "outputs": [
        {
          "output_type": "execute_result",
          "data": {
            "text/plain": [
              "[('blood', 171),\n",
              " ('battle', 160),\n",
              " ('bone', 152),\n",
              " ('body', 133),\n",
              " ('best', 129),\n",
              " ('british', 114),\n",
              " ('bones', 101),\n",
              " ('bridge', 80),\n",
              " ('back', 75),\n",
              " ('beginning', 55)]"
            ]
          },
          "metadata": {
            "tags": []
          },
          "execution_count": 4
        }
      ]
    },
    {
      "cell_type": "code",
      "metadata": {
        "id": "XknvEDibL9P3",
        "colab": {
          "base_uri": "https://localhost:8080/",
          "height": 187
        },
        "outputId": "4719f011-d038-43e2-edc1-c03ad4d5078e"
      },
      "source": [
        "autocomplete.predict('the','bo')"
      ],
      "execution_count": null,
      "outputs": [
        {
          "output_type": "execute_result",
          "data": {
            "text/plain": [
              "[('bone', 152),\n",
              " ('body', 133),\n",
              " ('bones', 101),\n",
              " ('boy', 38),\n",
              " ('bottom', 30),\n",
              " ('box', 23),\n",
              " ('borzois', 14),\n",
              " ('book', 13),\n",
              " ('bodies', 12),\n",
              " ('bottle', 11)]"
            ]
          },
          "metadata": {
            "tags": []
          },
          "execution_count": 5
        }
      ]
    },
    {
      "cell_type": "code",
      "metadata": {
        "id": "oO7FRKutLrlD",
        "colab": {
          "base_uri": "https://localhost:8080/",
          "height": 34
        },
        "outputId": "427db7e5-ecfc-4e71-8554-811e4339967c"
      },
      "source": [
        "autocomplete.predict('please','f')"
      ],
      "execution_count": null,
      "outputs": [
        {
          "output_type": "execute_result",
          "data": {
            "text/plain": [
              "[('for', 2), ('forgive', 1)]"
            ]
          },
          "metadata": {
            "tags": []
          },
          "execution_count": 6
        }
      ]
    },
    {
      "cell_type": "code",
      "metadata": {
        "id": "5tU6tzCtnY1C"
      },
      "source": [
        "corpus = open('/content/drive/My Drive/WordPrediction/BajajHealthInsurance.txt','r').read() "
      ],
      "execution_count": null,
      "outputs": []
    },
    {
      "cell_type": "code",
      "metadata": {
        "id": "I5Ya5n3dndIx",
        "colab": {
          "base_uri": "https://localhost:8080/",
          "height": 54
        },
        "outputId": "2856e311-f957-478e-8045-51c83aeb9c14"
      },
      "source": [
        "corpus"
      ],
      "execution_count": null,
      "outputs": [
        {
          "output_type": "execute_result",
          "data": {
            "text/plain": [
              "'Health insurance covers essential health, illness and accident expenses by protecting you from unexpected, high medical costs.\\nWhen you take a health insurance policy, the costs for your medical treatment during hospitalisation are covered by the insurer for the sum assured selected by you, on annual payment of the premium. \\nYou can either pay for the treatment yourself and have it reimbursed by the policy later, or go a network hospital for your treatment, where your costs are covered by the policy from the beginning.\\nIn addition to this, the premium paid for the policy counts as tax deduction under Section 80D of the Income Tax Act, 1961.\\nHealth insurance policies can be bought for an individual or for family.\\nThey can also be bought to protect you against critical illnesses, or any issues that you may face during maternity. \\nLet’s have a look at types of health insurance covers you can consider before making your buying decision.\\nTypes of Health Insurance Policy\\nIndividual Health Insurance Policy Under the Individual Health Insurance Policy, the chosen sum assured is applicable to a person covered under the plan on an individual basis for cashless hospitalization and other benefits. \\nIt is a policy where each insured member is entitled to the entire amount separately.\\nFamily Floater Health Insurance PolicyIn the Family Floater Health Insurance policy, the chosen sum assured is applicable to all family members covered under a single cover i.e. one cover for all members. \\nIt can be used entirely by one member or by multiple people over multiple claims.\\nTop-up Health Insurance Policy The Top-up health insurance plan additional coverage for people who have limited health cover insurance under an existing individual plan or coverage from the employer. \\nIt is for reimbursement of expenditure which arises out of single illness when the limit of the existing cover is not sufficient.\\nCritical Illness Health Insurance PlansTaken as a standalone insurance policy or a rider for treatment of serious illnesses like - cancer, kidney failure, heart attack etc. \\nMost critical illness Insurance policies provide for payment of a lump sum benefit if the policyholder is diagnosed, suffering from one of the specified critical illnesses.\\nGroup/Employee Health Insurance Policy Group/employee health insurance policies are generally purchased by companies, and cover the employees of that company against costs of medical care. \\nThe premiums of group medical insurance plans are generally lower than average, and the coverage against diseases and medical procedures is fairly broad.\\nPersonal Accident Covers personal accident insurance cover protects you and your family from expenses incurred as the result of an accident, in the event of death, disability, injury, and other unforeseen situations. \\nPersonal accident covers can be purchased independently or as a rider to an already existing policy.\\nSenior Citizen Health Insurance PolicySenior Citizen Health Insurance PolicySenior citizen health insurance plans can be purchased by those who are at least 60 years of age, or older. \\nThey are designed exclusively to help offset the expenses associated with medical care of older people. \\nSuch policies generally need you to undergo a medical check-up before you can avail the plan. \\nHowever, the premium costs on them are generally lower than usual\\nMaternity Health InsuranceMaternity health insurance is an exclusive cover designed for pregnant women. \\nIt may be purchased independently, or as a rider to an existing health insurance policy. \\nMaternity health insurance covers both the mother and the child against costs of pre-natal, post-natal, and hospitalisation expenses, in addition to covering complications arising due to pregnancy as well.\\nFeatures and Benefits of Health Insurance Policies in India\\nComprehensive health cover insurance options from Rs.2 lakhs to Rs.50 lakhs\\nCashless settlement - you need not pay any amount while hospitalized for treatment across wide network of hospitals\\nAmbulance fees covered\\nNo room rent capping\\nMaternity benefits, including coverage of new born baby along with vaccination charges up to 10 years\\n30 days pre- and 60 days post-hospitalization benefits\\n130 daycare procedures covered\\nMedical expenses incurred during organ transplant\\nEmergency ambulance charges covered\\nAYUSH (Ayurveda, Unani, Siddha and Homeopathy) treatment is also covered\\nFree health check-ups and discount vouchers as No Claim Bonus (NCB is an advantage provided if a person does not file a claim for any treatment in previous year).\\nEntry age up to 60 years\\nIncome Tax benefit under Section 80D\\nNo Claim Bonus on renewing the policy after every claim-free year\\nLoyalty discounts on premium after referring family members or friends for a similar policy under the insurer\\n24/7 toll-free call centre support to ensure that you can access your policy at any time\\nOnline application and renewal to make the policy hassle-free\\nAbility to renew the policy lifelong, including in old age\\nAbility to port the insurance policy to any insurer of your choice\\nEligibility for Health Insurance and Documents Required\\nIndividuals who are at least 18 to 21 years of age can avail a health insurance policy\\nDependent children can be covered under the policy between the ages of 90 days and 25 years\\nSenior citizens can be covered under policies tailored for them from 60 years of age onwards\\nGenerally, health insurance policies require no documentation except the application form, accurately filled and signed.\\nHowever, you may be required to take a medical test if you are over a certain age.\\nThings to Consider Before You Buy Health Insurance Plans\\nWhat type of insurance policy you would want to buy, for individual or for family?\\nWhat would be the ideal insurance cover for you/your family?\\nWhat add-on features you would want to opt-in for?\\nKnow the applicable sub limits (capping amount of expenses category like room rent, doctors’ fees, medical test cost etc.)\\nPolicy inclusions and exclusions.\\nWhat would be likely procedures of claim? (cashless, reimbursement)\\nMedical check-ups required before policy acceptance?\\nHow to Apply Applying for health insurance is easy. \\nSimply fill in our online application form, and our representative will get in touch with you to take the process further, and help you select the best Health Insurance plan for your needs.\\nWhat is the procedure for change of address for medical insurance?\\nYou can change the address by giving a request letter to the insurance company on plain paper and the insurance company will pass the endorsement and give a copy of same to you. \\nKindly remember to send same to your TPA also so that they can incorporate same in their records.\\nWhy do I need Health Insurance?\\nHealthcare is expensive. \\nTechnological advances, new procedures and more effective medicines have driven up the cost of healthcare. \\nThis increase has to be borne by the consumer, making treatment unaffordable for too many.\\nHealth Insurance overcomes these obstacles so that you remain free of anxiety regarding your health. \\nThink for a moment about the enormous medical costs you would incur if you suffered a major accident tomorrow or were suddenly stricken by an illness. \\nUninsured people live with such risks every day. \\nHealth insurance seeks to shield you from that risk. \\nIt provides the much needed financial relief. \\nYou also get tax benefit under section 80D of the Income Tax Act.\\nWhat is Health Insurance/Mediclaim?\\nHealth Insurance/Mediclaim is protection against medical costs. \\nA health insurance policy is a contract between an insurer and an individual /group in which the insurer agrees to provide specified health insurance cover at a particular premium. \\nThe health insurer usually provides either direct payment (cashless facility) or reimburses the expenses associated with illnesses and injuries.\\nI am already having health insurance and want to increase sum insured, what should I doYou can take super top up plan and increase your sum insured to desired level.\\nCan a person have more than one Health policy?\\nYes. But each company will pay its ratable proportion of the loss, liability, compensation, costs or expenses.\\nIf a person has Health Insurance from company X for Rs. 1 Lac and Health Insurance from company Y for RS. 1 Lac, then in case of a claim, each policy will pay in the ratio of 50:50 up to the SI.\\nWhat is Cumulative Bonus?\\nAn increase in the Sum insured by a specified percentage for every claim free year, subject to a certain maximum. \\nAn important point to be remembered is that the policy should be renewed without a break to avail of the cumulative bonus.\\nWhat are Pre-Existing Diseases?Any condition, ailment or injury or related condition(s) for which insured person had signs or symptoms and/or was diagnosed and/or received medical advice/treatment within 48 months prior to his/her health policy with the company. \\nPreexisting diseases will be covered after a maximum of four years since the inception of the policy.'"
            ]
          },
          "metadata": {
            "tags": []
          },
          "execution_count": 8
        }
      ]
    },
    {
      "cell_type": "code",
      "metadata": {
        "id": "tvNwxl5QN79M",
        "colab": {
          "base_uri": "https://localhost:8080/",
          "height": 34
        },
        "outputId": "4afce291-84f1-4cf9-a0d6-982d5f1c49df"
      },
      "source": [
        "from autocomplete import models\n",
        "\n",
        "models.train_models(corpus)"
      ],
      "execution_count": null,
      "outputs": [
        {
          "output_type": "stream",
          "text": [
            "saving to: /usr/local/lib/python3.6/dist-packages/autocomplete/models_compressed.pkl\n"
          ],
          "name": "stdout"
        }
      ]
    },
    {
      "cell_type": "code",
      "metadata": {
        "id": "920Wlw6entla",
        "colab": {
          "base_uri": "https://localhost:8080/",
          "height": 34
        },
        "outputId": "106bcaff-5b85-4173-c143-dcf678c104dd"
      },
      "source": [
        "autocomplete.predict('Health','insurance')"
      ],
      "execution_count": null,
      "outputs": [
        {
          "output_type": "execute_result",
          "data": {
            "text/plain": [
              "[('insurance', 37), ('insurancematernity', 1)]"
            ]
          },
          "metadata": {
            "tags": []
          },
          "execution_count": 12
        }
      ]
    },
    {
      "cell_type": "code",
      "metadata": {
        "id": "7T4NxbMeOsA2"
      },
      "source": [
        ""
      ],
      "execution_count": null,
      "outputs": []
    },
    {
      "cell_type": "markdown",
      "metadata": {
        "id": "fE8zwQz5TsL0"
      },
      "source": [
        "### Word Prediction using concepts of N – grams and CDF"
      ]
    },
    {
      "cell_type": "code",
      "metadata": {
        "id": "pvg0fRp5WalL"
      },
      "source": [
        "import random \n",
        "from collections import Counter \n",
        "\n",
        "# This function calulates the freq of the (i+1)th \n",
        "# word in the whole corpus, where i is the index of \n",
        "# the sentence or the word. \n",
        "\n",
        "def next_word_freq(array, sentence): \n",
        "\t\n",
        "\tsen_len, word_list = len(sentence.split()), [] \n",
        "\t\n",
        "\tfor i in range(len(array)): \n",
        "\n",
        "\t\t# If the sentence matches the sentence in the range (i, i+x) \n",
        "\t\t# and the length is less than the length of the corpus, append \n",
        "\t\t# the word to word_list. \n",
        "\t\t\n",
        "\t\tif ' '.join(array[i : i + sen_len]).lower() == sentence.lower(): \n",
        "\n",
        "\t\t\tif i + sen_len < len(array) - 1: \n",
        "\n",
        "\t\t\t\tword_list.append(array[i + sen_len]) \n",
        "\n",
        "\t# Return the count of each word in word_list \n",
        "\t\n",
        "\treturn dict(Counter(word_list)) \n",
        "\n",
        "# Calculate the CDF of each word in the \n",
        "# Counter dictionary. \n",
        "\n",
        "def CDF(d): \n",
        "\t\n",
        "\tprob_sum, sum_vals = 0, sum(d.values()) \n",
        "\t\n",
        "\tfor k, v in d.items(): \n",
        "\n",
        "\t\t# Calculate the PMF of each word by dividing \n",
        "\t\t# the freq. by total of all frequencies then add \n",
        "\t\t# all the PMFs till ith word which is the CDF of \n",
        "\t\t# the ith word. \n",
        "\t\t\n",
        "\t\tpmf = v / sum_vals \n",
        "\t\tprob_sum += pmf \n",
        "\t\td[k] = prob_sum \n",
        "\n",
        "\t# Return cdf dictionary \n",
        "\t\n",
        "\treturn d \n",
        "\n",
        "# The main function reads the sentence/word as input \n",
        "# from user and reads the corpus file. For faster processing, \n",
        "# we have taken only the first 1000 words. \n",
        "\n",
        "\n",
        "def main(sent, x, n): \n",
        "\n",
        "\t# I am using this sample text here to illustrate the output. \n",
        "\t# If anyone wants to use a text file, he can use the same. The code \n",
        "\t# to read corpus from file has been commented below. \n",
        "\n",
        "\tcorpus = open('/content/drive/My Drive/WordPrediction/BajajHealthInsurance.txt','r').read() \n",
        "\n",
        "\t# corpus = '''text The chance is unlikely if not done programmatically. \n",
        "\t# However, imagine the game spawning multiple players at a spawn point, \n",
        "\t# this would be the exact same location. I'm not quite sure what you \n",
        "\t# mean with spin,\t what does the integer reflect? Why is it a \n",
        "\t# mismatch between data and structure? The structure does not \n",
        "\t# assume a set amount of objects, it can be anything, that's why new \n",
        "\t# nodes are created. It simply makes sure that there are not more than \n",
        "\t# X leafs inside 1 node. The random is no option of course. \n",
        "\t# My splitting algorithm always created the maximum amount of nodes \n",
        "\t# already, split over the current node. But I guess I have to change \n",
        "\t# this behaviour? Actually, all the books have different authors. And \n",
        "\t# most have a different location too. There will be some with the same \n",
        "\t# location, but different authors, though. I think my library should be \n",
        "\t# able to store books with the same position. There are never \n",
        "\t# equally-attractive leaf nodes. If a node is split, all childs will \n",
        "\t# reflect a different part of the parent node.'''\n",
        "\t\n",
        "\tl = corpus.split() \n",
        "\n",
        "\t# \"temp_out\" will be used to store each partial sentence \n",
        "\t# which will later be stored into \"sent\". \"out\" is used to store \n",
        "\t# the final output. \n",
        "\t\n",
        "\ttemp_out = '' \n",
        "\tout = sent + ' '\n",
        "\t\n",
        "\tfor i in range(n - x): \n",
        "\n",
        "\t\t# calling the next_word_freq method that returns \n",
        "\t\t# the frequency of each word next to sent in the \n",
        "\t\t# whole word corpus. \n",
        "\t\t\n",
        "\t\tfunc_out = next_word_freq(l, sent) \n",
        "\n",
        "\t\t# cdf_dict stores the cdf of each word in the above map \n",
        "\t\t# that is calulated using method CDF. \n",
        "\t\t\n",
        "\t\tcdf_dict = CDF(func_out) \n",
        "\t\t\n",
        "\t\t# We use a random number to predict the next word. \n",
        "\t\t# The word having its CDF greater than or equal to rand \n",
        "\t\t# and less than or equal to 1. \n",
        "\t\t\n",
        "\t\trand = random.uniform(0, 1) \n",
        "\n",
        "\t\t# If cdf_dict is empty, it means the word.sentence entered by you \n",
        "\t\t# does not exist in the corpus. Hence, break the loop and just print \n",
        "\t\t# the word entered by you. To implement this we use try-except block. \n",
        "\t\t# If an error occurs it implies there aren't enough values to unpack \n",
        "\t\t# and this can happen only when your input is absent from the corpus. \n",
        "\t\t\n",
        "\t\ttry: key, val = zip(*cdf_dict.items()) \n",
        "\t\texcept: break\n",
        "\n",
        "\t\t# Iterate through the cdf values and find the smallest value \n",
        "\t\t# greater than or equal to the random number. That value is the \n",
        "\t\t# cdf of your predicted word. Add the key of the value to the output \n",
        "\t\t# string and update the \"sent\" variable as \"temp_out\". \n",
        "\t\t\n",
        "\t\tfor j in range(len(val)): \n",
        "\t\t\t\n",
        "\t\t\tif rand <= val[j]: \n",
        "\t\t\t\tpos = j \n",
        "\t\t\t\tbreak\n",
        "\t\t\t\t\t\n",
        "\t\ttemp_out = key[pos] \n",
        "\t\tout = out + temp_out + ' '\n",
        "\t\tsent = temp_out \n",
        "\t\t\n",
        "\tprint(out, end = '\\n\\n') \n",
        "\n"
      ],
      "execution_count": null,
      "outputs": []
    },
    {
      "cell_type": "code",
      "metadata": {
        "id": "ZgNOfh2xUEBh",
        "colab": {
          "base_uri": "https://localhost:8080/",
          "height": 51
        },
        "outputId": "523704b7-1197-47d2-eb47-e0b9290f30ae"
      },
      "source": [
        "\n",
        "if __name__ == '__main__': \n",
        "\n",
        "\tinp_sent = 'what is'\n",
        "\t# The output will have 10 words, including the input sentence/word. \n",
        "\tmain(inp_sent, len(inp_sent), 10) \n",
        "\n"
      ],
      "execution_count": null,
      "outputs": [
        {
          "output_type": "stream",
          "text": [
            "what is the Individual or \n",
            "\n"
          ],
          "name": "stdout"
        }
      ]
    },
    {
      "cell_type": "code",
      "metadata": {
        "id": "pJIaQp0UVVEe"
      },
      "source": [
        ""
      ],
      "execution_count": null,
      "outputs": []
    }
  ]
}